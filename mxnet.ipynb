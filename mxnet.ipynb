{
 "cells": [
  {
   "cell_type": "code",
   "execution_count": 1,
   "metadata": {},
   "outputs": [
    {
     "data": {
      "text/plain": [
       "\u001b[32mimport \u001b[39m\u001b[36mjava.nio.file.Paths\n",
       "\u001b[39m\n",
       "\u001b[32mimport \u001b[39m\u001b[36mammonite.ops._\n",
       "\u001b[39m\n",
       "\u001b[32mimport \u001b[39m\u001b[36mammonite._\n",
       "\n",
       "\u001b[39m\n",
       "\u001b[36mp\u001b[39m: \u001b[32mjava\u001b[39m.\u001b[32mnio\u001b[39m.\u001b[32mfile\u001b[39m.\u001b[32mPath\u001b[39m = /home/ixaxaar/.m2/repository/ml/dmlc/mxnet/mxnet-full_2.11-linux-x86_64-gpu/0.1.2-SNAPSHOT/mxnet-full_2.11-linux-x86_64-gpu-0.1.2-SNAPSHOT.jar"
      ]
     },
     "execution_count": 1,
     "metadata": {},
     "output_type": "execute_result"
    }
   ],
   "source": [
    "import java.nio.file.Paths\n",
    "import ammonite.ops._\n",
    "import ammonite._\n",
    "\n",
    "val p = Paths.get(\"/home/ixaxaar/.m2/repository/ml/dmlc/mxnet/mxnet-full_2.11-linux-x86_64-gpu/0.1.2-SNAPSHOT/mxnet-full_2.11-linux-x86_64-gpu-0.1.2-SNAPSHOT.jar\")\n",
    "\n",
    "interp.load.cp(FilePath(p).asInstanceOf[ammonite.ops.Path])"
   ]
  },
  {
   "cell_type": "code",
   "execution_count": 20,
   "metadata": {},
   "outputs": [
    {
     "data": {
      "text/plain": [
       "\u001b[32mimport \u001b[39m\u001b[36mcats._, cats.syntax._, cats.implicits._, cats.instances.all._\u001b[39m"
      ]
     },
     "execution_count": 20,
     "metadata": {},
     "output_type": "execute_result"
    }
   ],
   "source": [
    "interp.load.ivy(\"org.typelevel\" %% \"cats\" % \"0.9.0\")\n",
    "import cats._, cats.syntax._, cats.implicits._, cats.instances.all._"
   ]
  },
  {
   "cell_type": "code",
   "execution_count": 2,
   "metadata": {},
   "outputs": [
    {
     "data": {
      "text/plain": [
       "\u001b[32mimport \u001b[39m\u001b[36mml.dmlc.mxnet._\n",
       "\u001b[39m\n",
       "\u001b[32mimport \u001b[39m\u001b[36mml.dmlc.mxnet.{ Symbol => T }\n",
       "\u001b[39m\n",
       "\u001b[32mimport \u001b[39m\u001b[36mml.dmlc.mxnet.{ NDArray => np }\u001b[39m"
      ]
     },
     "execution_count": 2,
     "metadata": {},
     "output_type": "execute_result"
    }
   ],
   "source": [
    "import ml.dmlc.mxnet._\n",
    "import ml.dmlc.mxnet.{ Symbol => T }\n",
    "import ml.dmlc.mxnet.{ NDArray => np }"
   ]
  },
  {
   "cell_type": "code",
   "execution_count": 4,
   "metadata": {},
   "outputs": [
    {
     "data": {
      "text/plain": [
       "\u001b[36mres3\u001b[39m: (\u001b[32mString\u001b[39m, \u001b[32mMap\u001b[39m[\u001b[32mString\u001b[39m, \u001b[32mString\u001b[39m]) => \u001b[32mSeq\u001b[39m[\u001b[32mSymbol\u001b[39m] => \u001b[32mMap\u001b[39m[\u001b[32mString\u001b[39m, \u001b[32mAny\u001b[39m] => \u001b[32mSymbol\u001b[39m = <function2>"
      ]
     },
     "execution_count": 4,
     "metadata": {},
     "output_type": "execute_result"
    }
   ],
   "source": [
    "T.FullyConnected _"
   ]
  },
  {
   "cell_type": "code",
   "execution_count": 5,
   "metadata": {},
   "outputs": [
    {
     "data": {
      "text/plain": [
       "\u001b[36mres4\u001b[39m: (\u001b[32mString\u001b[39m, \u001b[32mMap\u001b[39m[\u001b[32mString\u001b[39m, \u001b[32mString\u001b[39m]) => \u001b[32mSymbol\u001b[39m = <function2>"
      ]
     },
     "execution_count": 5,
     "metadata": {},
     "output_type": "execute_result"
    }
   ],
   "source": [
    "T.Variable _"
   ]
  },
  {
   "cell_type": "code",
   "execution_count": 16,
   "metadata": {},
   "outputs": [
    {
     "data": {
      "text/plain": [
       "\u001b[36marr\u001b[39m: \u001b[32mNDArray\u001b[39m = ml.dmlc.mxnet.NDArray@104b9c6d\n",
       "\u001b[36mres15_1\u001b[39m: \u001b[32mArray\u001b[39m[\u001b[32mFloat\u001b[39m] = \u001b[33mArray\u001b[39m(\u001b[32m1.0F\u001b[39m, \u001b[32m1.0F\u001b[39m)"
      ]
     },
     "execution_count": 16,
     "metadata": {},
     "output_type": "execute_result"
    }
   ],
   "source": [
    "val arr = NDArray.array(Array(1f, 2f, 1f, 100000f), shape = Shape(2, 2))\n",
    "NDArray.argmax_channel(arr).toArray"
   ]
  },
  {
   "cell_type": "code",
   "execution_count": 7,
   "metadata": {},
   "outputs": [
    {
     "data": {
      "text/plain": [
       "\u001b[36mres6\u001b[39m: \u001b[32mMap\u001b[39m[\u001b[32mString\u001b[39m, \u001b[32mAny\u001b[39m] => \u001b[32mSeq\u001b[39m[\u001b[32mAny\u001b[39m] => \u001b[32mNDArrayFuncReturn\u001b[39m = <function1>"
      ]
     },
     "execution_count": 7,
     "metadata": {},
     "output_type": "execute_result"
    }
   ],
   "source": [
    "NDArray.argmax_channel _"
   ]
  },
  {
   "cell_type": "code",
   "execution_count": 17,
   "metadata": {},
   "outputs": [
    {
     "data": {
      "text/plain": [
       "\u001b[36msentenceSize\u001b[39m: \u001b[32mInt\u001b[39m = \u001b[32m10\u001b[39m\n",
       "\u001b[36mnumEmbed\u001b[39m: \u001b[32mInt\u001b[39m = \u001b[32m5\u001b[39m\n",
       "\u001b[36mbatchSize\u001b[39m: \u001b[32mInt\u001b[39m = \u001b[32m3\u001b[39m\n",
       "\u001b[36mnumLabel\u001b[39m: \u001b[32mInt\u001b[39m = \u001b[32m2\u001b[39m\n",
       "\u001b[36mfilterList\u001b[39m: \u001b[32mArray\u001b[39m[\u001b[32mInt\u001b[39m] = \u001b[33mArray\u001b[39m(\u001b[32m3\u001b[39m, \u001b[32m4\u001b[39m, \u001b[32m5\u001b[39m)\n",
       "\u001b[36mnumFilter\u001b[39m: \u001b[32mInt\u001b[39m = \u001b[32m100\u001b[39m\n",
       "\u001b[36mdropout\u001b[39m: \u001b[32mFloat\u001b[39m = \u001b[32m0.5F\u001b[39m"
      ]
     },
     "execution_count": 17,
     "metadata": {},
     "output_type": "execute_result"
    }
   ],
   "source": [
    "val sentenceSize = 10\n",
    "val numEmbed = 5\n",
    "val batchSize = 3\n",
    "val numLabel = 2\n",
    "val filterList = Array(3, 4, 5)\n",
    "val numFilter = 100\n",
    "val dropout = 0.5f"
   ]
  },
  {
   "cell_type": "code",
   "execution_count": 22,
   "metadata": {},
   "outputs": [
    {
     "data": {
      "text/plain": [
       "\u001b[36minputX\u001b[39m: \u001b[32mSymbol\u001b[39m = ml.dmlc.mxnet.Symbol@65807aa4\n",
       "\u001b[36minputY\u001b[39m: \u001b[32mSymbol\u001b[39m = ml.dmlc.mxnet.Symbol@4899ca3a\n",
       "\u001b[36mpolledOutputs\u001b[39m: \u001b[32mList\u001b[39m[\u001b[32mSymbol\u001b[39m] = \u001b[33mList\u001b[39m(\n",
       "  ml.dmlc.mxnet.Symbol@24f2de8b,\n",
       "  ml.dmlc.mxnet.Symbol@777206ae,\n",
       "  ml.dmlc.mxnet.Symbol@11c117be\n",
       ")\n",
       "\u001b[36mtotalFilters\u001b[39m: \u001b[32mInt\u001b[39m = \u001b[32m300\u001b[39m\n",
       "\u001b[36mmod\u001b[39m: \u001b[32mOption\u001b[39m[\u001b[32mSymbol\u001b[39m] = \u001b[33mSome\u001b[39m(ml.dmlc.mxnet.Symbol@170fc7a6)"
      ]
     },
     "execution_count": 22,
     "metadata": {},
     "output_type": "execute_result"
    }
   ],
   "source": [
    "val inputX = T.Variable(\"data\")\n",
    "val inputY = T.Variable(\"softmax_label\")\n",
    "\n",
    "// convolution -> relu -> max pooling for all the filter sizes\n",
    "val polledOutputs: List[T] = filterList.map { filterSize =>\n",
    "  T.Convolution()()(Map(\n",
    "    \"data\" -> inputX,\n",
    "    \"kernel\" -> s\"($filterSize, $numEmbed)\",\n",
    "    \"num_filter\" -> numFilter\n",
    "  )).some.map{ conv =>\n",
    "\n",
    "    T.Activation()()(Map(\"data\" -> conv, \"act_type\" -> \"relu\"))\n",
    "  }.map{ relu =>\n",
    "\n",
    "    T.Pooling()()(Map(\n",
    "      \"data\" -> relu,\n",
    "      \"pool_type\" -> \"max\",\n",
    "      \"kernel\" -> s\"(${sentenceSize - filterSize + 1}, 1)\",\n",
    "      \"stride\" -> \"(1,1)\"\n",
    "    ))\n",
    "  }\n",
    "}.toList.flatten match {\n",
    "  case Nil => List[T]()\n",
    "  case x   => x\n",
    "}\n",
    "\n",
    "val totalFilters = numFilter * filterList.length\n",
    "\n",
    "// concat(filters) -> dropout -> dense -> softmax\n",
    "val mod = T.Concat()(polledOutputs: _*)(Map(\"dim\" -> 1)).some.map{ concat =>\n",
    "  T.Reshape()()(Map(\n",
    "    \"data\" -> concat,\n",
    "    \"target_shape\" -> s\"($batchSize, $totalFilters)\"\n",
    "  ))\n",
    "}.map{ hPool =>\n",
    "\n",
    "  if (dropout > 0f) T.Dropout()()(Map(\"data\" -> hPool, \"p\" -> dropout))\n",
    "  else hPool\n",
    "}.map{ hDrop =>\n",
    "\n",
    "  T.FullyConnected()()(Map(\"data\" -> hDrop, \"num_hidden\" -> numLabel))\n",
    "}.map{ fc =>\n",
    "\n",
    "  T.SoftmaxOutput()()(Map(\"data\" -> fc, \"label\" -> inputY))\n",
    "}"
   ]
  },
  {
   "cell_type": "code",
   "execution_count": 23,
   "metadata": {},
   "outputs": [
    {
     "data": {
      "text/plain": [
       "defined \u001b[32mclass\u001b[39m \u001b[36mCNNModel\u001b[39m"
      ]
     },
     "execution_count": 23,
     "metadata": {},
     "output_type": "execute_result"
    }
   ],
   "source": [
    "case class CNNModel(\n",
    "  cnnExec:  Executor,\n",
    "  symbol:   Symbol,\n",
    "  data:     np,\n",
    "  label:    np,\n",
    "  argsDict: Map[String, np],\n",
    "  gradDict: Map[String, np]\n",
    ")"
   ]
  },
  {
   "cell_type": "code",
   "execution_count": 28,
   "metadata": {
    "scrolled": false
   },
   "outputs": [
    {
     "name": "stdout",
     "output_type": "stream",
     "text": [
      "List(data, convolution3_weight, convolution3_bias, convolution4_weight, convolution4_bias, convolution5_weight, convolution5_bias, fullyconnected1_weight, fullyconnected1_bias, softmax_label)\n",
      "List()\n",
      "(Vector((3,1,10,5), (100,1,3,5), (100), (100,1,4,5), (100), (100,1,5,5), (100), (2,300), (2), (3)),Vector((3,2)),Vector())\n"
     ]
    },
    {
     "data": {
      "text/plain": [
       "\u001b[36mctx\u001b[39m: \u001b[32mContext\u001b[39m = gpu(0)\n",
       "\u001b[36mmodel\u001b[39m: \u001b[32mOption\u001b[39m[\u001b[32mCNNModel\u001b[39m] = \u001b[33mSome\u001b[39m(\n",
       "  \u001b[33mCNNModel\u001b[39m(\n",
       "    ml.dmlc.mxnet.Executor@5d37a7be,\n",
       "    ml.dmlc.mxnet.Symbol@170fc7a6,\n",
       "    ml.dmlc.mxnet.NDArray@ad707aa8,\n",
       "    ml.dmlc.mxnet.NDArray@fd93d551,\n",
       "    \u001b[33mMap\u001b[39m(\n",
       "      \u001b[32m\"convolution3_weight\"\u001b[39m -> ml.dmlc.mxnet.NDArray@13f19148,\n",
       "      \u001b[32m\"softmax_label\"\u001b[39m -> ml.dmlc.mxnet.NDArray@28966459,\n",
       "      \u001b[32m\"convolution5_weight\"\u001b[39m -> ml.dmlc.mxnet.NDArray@471696ad,\n",
       "      \u001b[32m\"convolution4_bias\"\u001b[39m -> ml.dmlc.mxnet.NDArray@f09c6d93,\n",
       "      \u001b[32m\"fullyconnected1_weight\"\u001b[39m -> ml.dmlc.mxnet.NDArray@b2a54285,\n",
       "\u001b[33m...\u001b[39m"
      ]
     },
     "execution_count": 28,
     "metadata": {},
     "output_type": "execute_result"
    }
   ],
   "source": [
    "val ctx = Context.gpu(0)\n",
    "val model = mod.map{ cnn =>\n",
    "  val argNames: List[String] = cnn.listArguments.toList\n",
    "  println(argNames)\n",
    "  val auxNames: List[String] = cnn.listAuxiliaryStates.toList\n",
    "  println(auxNames)\n",
    "\n",
    "  val (argShapes, outShapes, auxShapes) = cnn.inferShape(\n",
    "    Map(\"data\" -> Shape(batchSize, 1, sentenceSize, numEmbed))\n",
    "  )\n",
    "    println((argShapes, outShapes, auxShapes))\n",
    "\n",
    "  val argsDict: Map[String, np] = argNames.zip(argShapes.map(np.zeros(_, ctx))).toMap\n",
    "\n",
    "  val argsGradDict: Map[String, np] = argNames.zip(argShapes)\n",
    "    .filter(x => x._1 != \"softmax_label\" && x._1 != \"data\")\n",
    "    .map(x => x._1 -> np.zeros(x._2, ctx)).toMap\n",
    "\n",
    "  val auxDict: Map[String, np] = auxNames.zip(auxShapes.map(np.zeros(_, ctx))).toMap\n",
    "  val cnnExec: Executor = cnn.bind(ctx, argsDict, argsGradDict, \"add\", auxDict, null, null)\n",
    "\n",
    "  val data = argsDict(\"data\")\n",
    "  val label = argsDict(\"softmax_label\")\n",
    "  CNNModel(cnnExec, cnn, data, label, argsDict, argsGradDict)\n",
    "}"
   ]
  },
  {
   "cell_type": "code",
   "execution_count": 29,
   "metadata": {},
   "outputs": [
    {
     "data": {
      "text/plain": [
       "\u001b[36mres28\u001b[39m: \u001b[32mOption\u001b[39m[\u001b[32mSymbol\u001b[39m] = \u001b[33mSome\u001b[39m(ml.dmlc.mxnet.Symbol@170fc7a6)"
      ]
     },
     "execution_count": 29,
     "metadata": {},
     "output_type": "execute_result"
    }
   ],
   "source": [
    "model.map{ m => m.symbol }"
   ]
  },
  {
   "cell_type": "code",
   "execution_count": null,
   "metadata": {
    "collapsed": true
   },
   "outputs": [],
   "source": []
  },
  {
   "cell_type": "code",
   "execution_count": null,
   "metadata": {
    "collapsed": true
   },
   "outputs": [],
   "source": []
  },
  {
   "cell_type": "code",
   "execution_count": null,
   "metadata": {
    "collapsed": true
   },
   "outputs": [],
   "source": []
  },
  {
   "cell_type": "code",
   "execution_count": null,
   "metadata": {
    "collapsed": true
   },
   "outputs": [],
   "source": []
  },
  {
   "cell_type": "code",
   "execution_count": null,
   "metadata": {
    "collapsed": true
   },
   "outputs": [],
   "source": []
  },
  {
   "cell_type": "code",
   "execution_count": null,
   "metadata": {
    "collapsed": true
   },
   "outputs": [],
   "source": []
  },
  {
   "cell_type": "markdown",
   "metadata": {},
   "source": [
    "# Data"
   ]
  },
  {
   "cell_type": "code",
   "execution_count": 67,
   "metadata": {},
   "outputs": [
    {
     "data": {
      "text/plain": [
       "\u001b[36mres66_0\u001b[39m: \u001b[32mNDArray\u001b[39m = ml.dmlc.mxnet.NDArray@b56d6c4f\n",
       "\u001b[36mres66_1\u001b[39m: \u001b[32mNDArray\u001b[39m = ml.dmlc.mxnet.NDArray@7524520f\n",
       "\u001b[36mx\u001b[39m: \u001b[32mNDArray\u001b[39m = ml.dmlc.mxnet.NDArray@e4218aff\n",
       "\u001b[36mres66_3\u001b[39m: \u001b[32mShape\u001b[39m = (2,2)"
      ]
     },
     "execution_count": 67,
     "metadata": {},
     "output_type": "execute_result"
    }
   ],
   "source": [
    "np.ones(2, 3)\n",
    "np.zeros(3, 3)\n",
    "val x = np.array(List(1,2,3,4).toArray.map{ _.toFloat }, shape=Shape(2,2))\n",
    "x.shape"
   ]
  },
  {
   "cell_type": "code",
   "execution_count": 28,
   "metadata": {},
   "outputs": [
    {
     "data": {
      "text/plain": [
       "\u001b[36mx\u001b[39m: \u001b[32mNDArray\u001b[39m = ml.dmlc.mxnet.NDArray@907ad41\n",
       "\u001b[36my\u001b[39m: \u001b[32mNDArray\u001b[39m = ml.dmlc.mxnet.NDArray@713fff9\n",
       "\u001b[36mz\u001b[39m: \u001b[32mNDArray\u001b[39m = ml.dmlc.mxnet.NDArray@e7bd815c\n",
       "\u001b[36mres27_3\u001b[39m: \u001b[32mNDArray\u001b[39m = ml.dmlc.mxnet.NDArray@10b08418\n",
       "\u001b[36mres27_4\u001b[39m: \u001b[32mArray\u001b[39m[\u001b[32mFloat\u001b[39m] = \u001b[33mArray\u001b[39m(\n",
       "  \u001b[32m311.11115F\u001b[39m,\n",
       "  \u001b[32m311.11115F\u001b[39m,\n",
       "  \u001b[32m311.11115F\u001b[39m,\n",
       "  \u001b[32m311.11115F\u001b[39m,\n",
       "  \u001b[32m311.11115F\u001b[39m,\n",
       "  \u001b[32m311.11115F\u001b[39m,\n",
       "  \u001b[32m311.11115F\u001b[39m,\n",
       "  \u001b[32m311.11115F\u001b[39m,\n",
       "  \u001b[32m311.11115F\u001b[39m,\n",
       "  \u001b[32m311.11115F\u001b[39m,\n",
       "  \u001b[32m311.11115F\u001b[39m,\n",
       "\u001b[33m...\u001b[39m"
      ]
     },
     "execution_count": 28,
     "metadata": {},
     "output_type": "execute_result"
    }
   ],
   "source": [
    "val x = np.ones(100, 100) + np.zeros(100, 100)\n",
    "val y = np.ones(100, 100) * np.zeros(100, 100)\n",
    "val z = np.ones(100, 100) / 3 + 1\n",
    "x += (y + z)\n",
    "np.dot(x, z).toArray"
   ]
  },
  {
   "cell_type": "code",
   "execution_count": 54,
   "metadata": {},
   "outputs": [
    {
     "data": {
      "text/plain": [
       "\u001b[36mx\u001b[39m: \u001b[32mNDArray\u001b[39m = ml.dmlc.mxnet.NDArray@fd2cfa66\n",
       "\u001b[36mres53_1\u001b[39m: \u001b[32mShape\u001b[39m = (10,5)\n",
       "\u001b[36mres53_2\u001b[39m: \u001b[32mInt\u001b[39m = \u001b[32m50\u001b[39m\n",
       "\u001b[36mres53_3\u001b[39m: \u001b[32mShape\u001b[39m = (1,5)\n",
       "\u001b[36mres53_4\u001b[39m: \u001b[32mInt\u001b[39m = \u001b[32m5\u001b[39m\n",
       "\u001b[36mres53_5\u001b[39m: \u001b[32mInt\u001b[39m = \u001b[32m10\u001b[39m\n",
       "\u001b[36mres53_6\u001b[39m: \u001b[32mShape\u001b[39m = (5,10)"
      ]
     },
     "execution_count": 54,
     "metadata": {},
     "output_type": "execute_result"
    }
   ],
   "source": [
    "val x = np.ones(10, 5)\n",
    "x.shape\n",
    "x.toArray.length\n",
    "x.slice(0).shape\n",
    "x.slice(1).toArray.length\n",
    "x.slice(0, 2).toArray.length\n",
    "x.reshape(Shape(5, 10)).shape"
   ]
  },
  {
   "cell_type": "code",
   "execution_count": 58,
   "metadata": {},
   "outputs": [
    {
     "data": {
      "text/plain": [
       "\u001b[36my\u001b[39m: \u001b[32mShape\u001b[39m = (10,5)"
      ]
     },
     "execution_count": 58,
     "metadata": {},
     "output_type": "execute_result"
    }
   ],
   "source": [
    "np.save(\"/home/ixaxaar/src/notebooks/ndarray.mxnet\", List(x))\n",
    "val y = np.load(\"/home/ixaxaar/src/notebooks/ndarray.mxnet\")._2.head.shape"
   ]
  },
  {
   "cell_type": "code",
   "execution_count": 66,
   "metadata": {},
   "outputs": [
    {
     "data": {
      "text/plain": [
       "\u001b[36mres65_0\u001b[39m: \u001b[32mContext\u001b[39m = cpu(0)\n",
       "\u001b[36mctx\u001b[39m: \u001b[32mContext\u001b[39m = gpu(0)\n",
       "\u001b[36mres65_2\u001b[39m: \u001b[32mContext\u001b[39m = gpu(0)\n",
       "\u001b[36mgpu_x\u001b[39m: \u001b[32mNDArray\u001b[39m = ml.dmlc.mxnet.NDArray@2a9c2d46\n",
       "\u001b[36mres65_4\u001b[39m: \u001b[32mNDArray\u001b[39m = ml.dmlc.mxnet.NDArray@2ea112fa\n",
       "\u001b[36mres65_5\u001b[39m: \u001b[32mContext\u001b[39m = gpu(0)"
      ]
     },
     "execution_count": 66,
     "metadata": {},
     "output_type": "execute_result"
    }
   ],
   "source": [
    "x.context\n",
    "val ctx = Context.gpu(0)\n",
    "np.array(x.toArray, x.shape, ctx).context\n",
    "\n",
    "val gpu_x = np.zeros(x.shape, ctx)\n",
    "x.copyTo(gpu_x)\n",
    "gpu_x.context"
   ]
  },
  {
   "cell_type": "markdown",
   "metadata": {},
   "source": [
    "# Model API"
   ]
  },
  {
   "cell_type": "code",
   "execution_count": 10,
   "metadata": {},
   "outputs": [
    {
     "data": {
      "text/plain": [
       "\u001b[36mdata\u001b[39m: \u001b[32mSymbol\u001b[39m = ml.dmlc.mxnet.Symbol@687797cb\n",
       "\u001b[36mf1\u001b[39m: \u001b[32mSymbol\u001b[39m = ml.dmlc.mxnet.Symbol@2841c40d\n",
       "\u001b[36ma1\u001b[39m: \u001b[32mSymbol\u001b[39m = ml.dmlc.mxnet.Symbol@c690d46\n",
       "\u001b[36mf2\u001b[39m: \u001b[32mSymbol\u001b[39m = ml.dmlc.mxnet.Symbol@76dcd821\n",
       "\u001b[36msoftmax\u001b[39m: \u001b[32mSymbol\u001b[39m = ml.dmlc.mxnet.Symbol@2241c0fe"
      ]
     },
     "execution_count": 10,
     "metadata": {},
     "output_type": "execute_result"
    }
   ],
   "source": [
    "val data = T.Variable(\"data\")\n",
    "val f1 = T.FullyConnected(name=\"f1\")()(Map(\"data\" -> data, \"num_hidden\" -> 128))\n",
    "val a1 = T.Activation(name=\"relu1\")()(Map(\"data\" -> f1, \"act_type\" -> \"relu\"))\n",
    "val f2 = T.FullyConnected(name=\"f2\")()(Map(\"data\" -> a1, \"num_hidden\" -> 128))\n",
    "val softmax = T.SoftmaxOutput(name=\"softmax\")()(Map(\"data\" -> f2))"
   ]
  },
  {
   "cell_type": "code",
   "execution_count": 10,
   "metadata": {},
   "outputs": [
    {
     "name": "stderr",
     "output_type": "stream",
     "text": [
      "cmd10.sc:4: not found: type Adam\n",
      "    .setOptimizer(new Adam())\n",
      "                      ^cmd10.sc:5: not found: value trainDataIter\n",
      "    .setTrainData(trainDataIter)\n",
      "                  ^cmd10.sc:6: not found: value evalDataIter\n",
      "    .setEvalData(evalDataIter)\n",
      "                 ^"
     ]
    },
    {
     "ename": "",
     "evalue": "",
     "output_type": "error",
     "traceback": [
      "Compilation Failed"
     ]
    }
   ],
   "source": [
    "val model = FeedForward.newBuilder(softmax)\n",
    "    .setContext(Context.gpu())\n",
    "    .setNumEpoch(10)\n",
    "    .setOptimizer(new Adam())\n",
    "    .setTrainData(trainDataIter)\n",
    "    .setEvalData(evalDataIter)\n",
    "    .build()"
   ]
  },
  {
   "cell_type": "code",
   "execution_count": 10,
   "metadata": {},
   "outputs": [
    {
     "name": "stderr",
     "output_type": "stream",
     "text": [
      "cmd10.sc:1: not found: value model\n",
      "val res10 = model.fit(trainData = train)\n",
      "            ^cmd10.sc:1: not found: value trainData\n",
      "val res10 = model.fit(trainData = train)\n",
      "                      ^"
     ]
    },
    {
     "ename": "",
     "evalue": "",
     "output_type": "error",
     "traceback": [
      "Compilation Failed"
     ]
    }
   ],
   "source": [
    "model.fit(trainData = train)"
   ]
  },
  {
   "cell_type": "code",
   "execution_count": 10,
   "metadata": {},
   "outputs": [
    {
     "name": "stderr",
     "output_type": "stream",
     "text": [
      "cmd10.sc:3: not found: value epoch\n",
      "val res10_2 = Model.saveCheckpoint(modelPrefix, epoch + 1, symbol, argParams, auxStates)\n",
      "                                                ^cmd10.sc:3: not found: value symbol\n",
      "val res10_2 = Model.saveCheckpoint(modelPrefix, epoch + 1, symbol, argParams, auxStates)\n",
      "                                                           ^cmd10.sc:3: not found: value argParams\n",
      "val res10_2 = Model.saveCheckpoint(modelPrefix, epoch + 1, symbol, argParams, auxStates)\n",
      "                                                                   ^cmd10.sc:3: not found: value auxStates\n",
      "val res10_2 = Model.saveCheckpoint(modelPrefix, epoch + 1, symbol, argParams, auxStates)\n",
      "                                                                              ^"
     ]
    },
    {
     "ename": "",
     "evalue": "",
     "output_type": "error",
     "traceback": [
      "Compilation Failed"
     ]
    }
   ],
   "source": [
    "val modelPrefix: String = \"checkpt\"\n",
    "val num_epoch = 100\n",
    "Model.saveCheckpoint(modelPrefix, epoch + 1, symbol, argParams, auxStates)\n",
    "\n",
    "// load model back\n",
    "val model_loaded = FeedForward.load(modelPrefix, num_epoch)"
   ]
  },
  {
   "cell_type": "code",
   "execution_count": null,
   "metadata": {
    "collapsed": true
   },
   "outputs": [],
   "source": []
  },
  {
   "cell_type": "code",
   "execution_count": null,
   "metadata": {
    "collapsed": true
   },
   "outputs": [],
   "source": []
  },
  {
   "cell_type": "code",
   "execution_count": null,
   "metadata": {
    "collapsed": true
   },
   "outputs": [],
   "source": []
  },
  {
   "cell_type": "code",
   "execution_count": null,
   "metadata": {
    "collapsed": true
   },
   "outputs": [],
   "source": []
  },
  {
   "cell_type": "code",
   "execution_count": null,
   "metadata": {
    "collapsed": true
   },
   "outputs": [],
   "source": []
  },
  {
   "cell_type": "code",
   "execution_count": null,
   "metadata": {
    "collapsed": true
   },
   "outputs": [],
   "source": []
  },
  {
   "cell_type": "code",
   "execution_count": null,
   "metadata": {
    "collapsed": true
   },
   "outputs": [],
   "source": []
  },
  {
   "cell_type": "code",
   "execution_count": null,
   "metadata": {
    "collapsed": true
   },
   "outputs": [],
   "source": []
  },
  {
   "cell_type": "code",
   "execution_count": null,
   "metadata": {
    "collapsed": true
   },
   "outputs": [],
   "source": []
  },
  {
   "cell_type": "code",
   "execution_count": null,
   "metadata": {
    "collapsed": true
   },
   "outputs": [],
   "source": []
  },
  {
   "cell_type": "code",
   "execution_count": null,
   "metadata": {
    "collapsed": true
   },
   "outputs": [],
   "source": []
  },
  {
   "cell_type": "code",
   "execution_count": null,
   "metadata": {
    "collapsed": true
   },
   "outputs": [],
   "source": []
  },
  {
   "cell_type": "code",
   "execution_count": null,
   "metadata": {
    "collapsed": true
   },
   "outputs": [],
   "source": []
  },
  {
   "cell_type": "code",
   "execution_count": null,
   "metadata": {
    "collapsed": true
   },
   "outputs": [],
   "source": []
  },
  {
   "cell_type": "code",
   "execution_count": null,
   "metadata": {
    "collapsed": true
   },
   "outputs": [],
   "source": []
  },
  {
   "cell_type": "code",
   "execution_count": null,
   "metadata": {
    "collapsed": true
   },
   "outputs": [],
   "source": []
  },
  {
   "cell_type": "code",
   "execution_count": null,
   "metadata": {
    "collapsed": true
   },
   "outputs": [],
   "source": []
  },
  {
   "cell_type": "code",
   "execution_count": null,
   "metadata": {
    "collapsed": true
   },
   "outputs": [],
   "source": []
  },
  {
   "cell_type": "code",
   "execution_count": null,
   "metadata": {
    "collapsed": true
   },
   "outputs": [],
   "source": []
  },
  {
   "cell_type": "code",
   "execution_count": null,
   "metadata": {
    "collapsed": true
   },
   "outputs": [],
   "source": []
  },
  {
   "cell_type": "code",
   "execution_count": null,
   "metadata": {
    "collapsed": true
   },
   "outputs": [],
   "source": []
  },
  {
   "cell_type": "code",
   "execution_count": null,
   "metadata": {
    "collapsed": true
   },
   "outputs": [],
   "source": []
  },
  {
   "cell_type": "code",
   "execution_count": null,
   "metadata": {
    "collapsed": true
   },
   "outputs": [],
   "source": []
  },
  {
   "cell_type": "code",
   "execution_count": null,
   "metadata": {
    "collapsed": true
   },
   "outputs": [],
   "source": []
  },
  {
   "cell_type": "code",
   "execution_count": null,
   "metadata": {
    "collapsed": true
   },
   "outputs": [],
   "source": []
  }
 ],
 "metadata": {
  "kernelspec": {
   "display_name": "Scala (develop)",
   "language": "scala",
   "name": "scala-develop"
  },
  "language_info": {
   "codemirror_mode": "text/x-scala",
   "file_extension": ".scala",
   "mimetype": "text/x-scala",
   "name": "scala211",
   "nbconvert_exporter": "script",
   "pygments_lexer": "scala",
   "version": "2.11.8"
  }
 },
 "nbformat": 4,
 "nbformat_minor": 2
}
