{
 "cells": [
  {
   "cell_type": "code",
   "execution_count": 1,
   "metadata": {
    "collapsed": false
   },
   "outputs": [
    {
     "name": "stderr",
     "output_type": "stream",
     "text": [
      "Bioconductor version 3.2 (BiocInstaller 1.20.3), ?biocLite for help\n",
      "A new version of Bioconductor is available after installing the most recent\n",
      "  version of R; see http://bioconductor.org/install\n"
     ]
    }
   ],
   "source": [
    "source(\"https://bioconductor.org/biocLite.R\")"
   ]
  },
  {
   "cell_type": "code",
   "execution_count": 2,
   "metadata": {
    "collapsed": false
   },
   "outputs": [
    {
     "name": "stderr",
     "output_type": "stream",
     "text": [
      "BioC_mirror: https://bioconductor.org\n",
      "Using Bioconductor 3.2 (BiocInstaller 1.20.3), R 3.2.3 (2015-12-10).\n",
      "Old packages: 'repr', 'stringi', 'RCurl', 'XML', 'boot', 'cluster',\n",
      "  'codetools', 'foreign', 'lattice', 'Matrix', 'mgcv', 'nlme', 'survival'\n"
     ]
    }
   ],
   "source": [
    "biocLite()"
   ]
  },
  {
   "cell_type": "code",
   "execution_count": 4,
   "metadata": {
    "collapsed": false
   },
   "outputs": [
    {
     "name": "stderr",
     "output_type": "stream",
     "text": [
      "BioC_mirror: https://bioconductor.org\n",
      "Using Bioconductor 3.2 (BiocInstaller 1.20.3), R 3.2.3 (2015-12-10).\n",
      "Installing package(s) ‘Biostrings’\n",
      "also installing the dependencies ‘zlibbioc’, ‘XVector’\n",
      "\n"
     ]
    },
    {
     "name": "stdout",
     "output_type": "stream",
     "text": [
      "\n",
      "The downloaded source packages are in\n",
      "\t‘/tmp/RtmpINkBmg/downloaded_packages’\n"
     ]
    },
    {
     "name": "stderr",
     "output_type": "stream",
     "text": [
      "Old packages: 'repr', 'stringi', 'RCurl', 'XML', 'boot', 'cluster',\n",
      "  'codetools', 'foreign', 'lattice', 'Matrix', 'mgcv', 'nlme', 'survival'\n"
     ]
    }
   ],
   "source": [
    "biocLite(\"Biostrings\")"
   ]
  },
  {
   "cell_type": "code",
   "execution_count": 5,
   "metadata": {
    "collapsed": false
   },
   "outputs": [
    {
     "name": "stderr",
     "output_type": "stream",
     "text": [
      "Loading required package: Biostrings\n",
      "Loading required package: BiocGenerics\n",
      "Loading required package: parallel\n",
      "\n",
      "Attaching package: ‘BiocGenerics’\n",
      "\n",
      "The following objects are masked from ‘package:parallel’:\n",
      "\n",
      "    clusterApply, clusterApplyLB, clusterCall, clusterEvalQ,\n",
      "    clusterExport, clusterMap, parApply, parCapply, parLapply,\n",
      "    parLapplyLB, parRapply, parSapply, parSapplyLB\n",
      "\n",
      "The following objects are masked from ‘package:stats’:\n",
      "\n",
      "    IQR, mad, xtabs\n",
      "\n",
      "The following objects are masked from ‘package:base’:\n",
      "\n",
      "    anyDuplicated, append, as.data.frame, as.vector, cbind, colnames,\n",
      "    do.call, duplicated, eval, evalq, Filter, Find, get, grep, grepl,\n",
      "    intersect, is.unsorted, lapply, lengths, Map, mapply, match, mget,\n",
      "    order, paste, pmax, pmax.int, pmin, pmin.int, Position, rank,\n",
      "    rbind, Reduce, rownames, sapply, setdiff, sort, table, tapply,\n",
      "    union, unique, unlist, unsplit\n",
      "\n",
      "Loading required package: S4Vectors\n",
      "Loading required package: stats4\n",
      "Loading required package: IRanges\n",
      "Loading required package: XVector\n"
     ]
    }
   ],
   "source": [
    "require(Biostrings)"
   ]
  },
  {
   "cell_type": "code",
   "execution_count": 6,
   "metadata": {
    "collapsed": false
   },
   "outputs": [
    {
     "data": {
      "text/html": [
       "<table>\n",
       "<thead><tr><th></th><th scope=col>A</th><th scope=col>R</th><th scope=col>N</th><th scope=col>D</th><th scope=col>C</th><th scope=col>Q</th><th scope=col>E</th><th scope=col>G</th><th scope=col>H</th><th scope=col>I</th><th scope=col>⋯</th><th scope=col>S</th><th scope=col>T</th><th scope=col>W</th><th scope=col>Y</th><th scope=col>V</th><th scope=col>B</th><th scope=col>J</th><th scope=col>Z</th><th scope=col>X</th><th scope=col>*</th></tr></thead>\n",
       "<tbody>\n",
       "\t<tr><th scope=row>A</th><td> 5</td><td>-2</td><td>-2</td><td>-2</td><td>-1</td><td>-1</td><td>-1</td><td> 0</td><td>-2</td><td>-2</td><td>⋯ </td><td> 1</td><td> 0</td><td>-3</td><td>-2</td><td> 0</td><td>-2</td><td>-2</td><td>-1</td><td>-1</td><td>-6</td></tr>\n",
       "\t<tr><th scope=row>R</th><td>-2</td><td> 6</td><td>-1</td><td>-2</td><td>-4</td><td> 1</td><td>-1</td><td>-3</td><td> 0</td><td>-3</td><td>⋯ </td><td>-1</td><td>-1</td><td>-4</td><td>-3</td><td>-3</td><td>-1</td><td>-3</td><td> 0</td><td>-1</td><td>-6</td></tr>\n",
       "\t<tr><th scope=row>N</th><td>-2</td><td>-1</td><td> 6</td><td> 1</td><td>-3</td><td> 0</td><td>-1</td><td>-1</td><td> 0</td><td>-4</td><td>⋯ </td><td> 0</td><td> 0</td><td>-4</td><td>-3</td><td>-4</td><td> 5</td><td>-4</td><td> 0</td><td>-1</td><td>-6</td></tr>\n",
       "\t<tr><th scope=row>D</th><td>-2</td><td>-2</td><td> 1</td><td> 6</td><td>-4</td><td>-1</td><td> 1</td><td>-2</td><td>-2</td><td>-4</td><td>⋯ </td><td>-1</td><td>-1</td><td>-6</td><td>-4</td><td>-4</td><td> 5</td><td>-5</td><td> 1</td><td>-1</td><td>-6</td></tr>\n",
       "\t<tr><th scope=row>C</th><td>-1</td><td>-4</td><td>-3</td><td>-4</td><td> 9</td><td>-4</td><td>-5</td><td>-4</td><td>-4</td><td>-2</td><td>⋯ </td><td>-2</td><td>-1</td><td>-3</td><td>-3</td><td>-1</td><td>-4</td><td>-2</td><td>-4</td><td>-1</td><td>-6</td></tr>\n",
       "\t<tr><th scope=row>Q</th><td>-1</td><td> 1</td><td> 0</td><td>-1</td><td>-4</td><td> 6</td><td> 2</td><td>-2</td><td> 1</td><td>-3</td><td>⋯ </td><td> 0</td><td>-1</td><td>-3</td><td>-2</td><td>-3</td><td> 0</td><td>-3</td><td> 4</td><td>-1</td><td>-6</td></tr>\n",
       "\t<tr><th scope=row>E</th><td>-1</td><td>-1</td><td>-1</td><td> 1</td><td>-5</td><td> 2</td><td> 6</td><td>-3</td><td> 0</td><td>-4</td><td>⋯ </td><td> 0</td><td>-1</td><td>-4</td><td>-3</td><td>-3</td><td> 1</td><td>-4</td><td> 5</td><td>-1</td><td>-6</td></tr>\n",
       "\t<tr><th scope=row>G</th><td> 0</td><td>-3</td><td>-1</td><td>-2</td><td>-4</td><td>-2</td><td>-3</td><td> 6</td><td>-3</td><td>-5</td><td>⋯ </td><td>-1</td><td>-2</td><td>-4</td><td>-4</td><td>-4</td><td>-1</td><td>-5</td><td>-3</td><td>-1</td><td>-6</td></tr>\n",
       "\t<tr><th scope=row>H</th><td>-2</td><td> 0</td><td> 0</td><td>-2</td><td>-4</td><td> 1</td><td> 0</td><td>-3</td><td> 8</td><td>-4</td><td>⋯ </td><td>-1</td><td>-2</td><td>-3</td><td> 2</td><td>-4</td><td>-1</td><td>-4</td><td> 0</td><td>-1</td><td>-6</td></tr>\n",
       "\t<tr><th scope=row>I</th><td>-2</td><td>-3</td><td>-4</td><td>-4</td><td>-2</td><td>-3</td><td>-4</td><td>-5</td><td>-4</td><td> 5</td><td>⋯ </td><td>-3</td><td>-1</td><td>-3</td><td>-2</td><td> 3</td><td>-4</td><td> 3</td><td>-4</td><td>-1</td><td>-6</td></tr>\n",
       "\t<tr><th scope=row>L</th><td>-2</td><td>-3</td><td>-4</td><td>-5</td><td>-2</td><td>-3</td><td>-4</td><td>-4</td><td>-3</td><td> 1</td><td>⋯ </td><td>-3</td><td>-2</td><td>-2</td><td>-2</td><td> 1</td><td>-4</td><td> 3</td><td>-3</td><td>-1</td><td>-6</td></tr>\n",
       "\t<tr><th scope=row>K</th><td>-1</td><td> 2</td><td> 0</td><td>-1</td><td>-4</td><td> 1</td><td> 1</td><td>-2</td><td>-1</td><td>-3</td><td>⋯ </td><td>-1</td><td>-1</td><td>-4</td><td>-3</td><td>-3</td><td>-1</td><td>-3</td><td> 1</td><td>-1</td><td>-6</td></tr>\n",
       "\t<tr><th scope=row>M</th><td>-1</td><td>-2</td><td>-3</td><td>-4</td><td>-2</td><td> 0</td><td>-2</td><td>-4</td><td>-2</td><td> 1</td><td>⋯ </td><td>-2</td><td>-1</td><td>-2</td><td>-2</td><td> 1</td><td>-3</td><td> 2</td><td>-1</td><td>-1</td><td>-6</td></tr>\n",
       "\t<tr><th scope=row>F</th><td>-3</td><td>-4</td><td>-4</td><td>-4</td><td>-3</td><td>-4</td><td>-4</td><td>-4</td><td>-2</td><td>-1</td><td>⋯ </td><td>-3</td><td>-2</td><td> 0</td><td> 3</td><td>-1</td><td>-4</td><td> 0</td><td>-4</td><td>-1</td><td>-6</td></tr>\n",
       "\t<tr><th scope=row>P</th><td>-1</td><td>-2</td><td>-3</td><td>-2</td><td>-4</td><td>-2</td><td>-2</td><td>-3</td><td>-3</td><td>-4</td><td>⋯ </td><td>-1</td><td>-2</td><td>-5</td><td>-4</td><td>-3</td><td>-2</td><td>-4</td><td>-2</td><td>-1</td><td>-6</td></tr>\n",
       "\t<tr><th scope=row>S</th><td> 1</td><td>-1</td><td> 0</td><td>-1</td><td>-2</td><td> 0</td><td> 0</td><td>-1</td><td>-1</td><td>-3</td><td>⋯ </td><td> 5</td><td> 1</td><td>-4</td><td>-2</td><td>-2</td><td> 0</td><td>-3</td><td> 0</td><td>-1</td><td>-6</td></tr>\n",
       "\t<tr><th scope=row>T</th><td> 0</td><td>-1</td><td> 0</td><td>-1</td><td>-1</td><td>-1</td><td>-1</td><td>-2</td><td>-2</td><td>-1</td><td>⋯ </td><td> 1</td><td> 5</td><td>-4</td><td>-2</td><td> 0</td><td>-1</td><td>-1</td><td>-1</td><td>-1</td><td>-6</td></tr>\n",
       "\t<tr><th scope=row>W</th><td>-3</td><td>-4</td><td>-4</td><td>-6</td><td>-3</td><td>-3</td><td>-4</td><td>-4</td><td>-3</td><td>-3</td><td>⋯ </td><td>-4</td><td>-4</td><td>11</td><td> 2</td><td>-3</td><td>-5</td><td>-3</td><td>-3</td><td>-1</td><td>-6</td></tr>\n",
       "\t<tr><th scope=row>Y</th><td>-2</td><td>-3</td><td>-3</td><td>-4</td><td>-3</td><td>-2</td><td>-3</td><td>-4</td><td> 2</td><td>-2</td><td>⋯ </td><td>-2</td><td>-2</td><td> 2</td><td> 7</td><td>-2</td><td>-3</td><td>-2</td><td>-3</td><td>-1</td><td>-6</td></tr>\n",
       "\t<tr><th scope=row>V</th><td> 0</td><td>-3</td><td>-4</td><td>-4</td><td>-1</td><td>-3</td><td>-3</td><td>-4</td><td>-4</td><td> 3</td><td>⋯ </td><td>-2</td><td> 0</td><td>-3</td><td>-2</td><td> 4</td><td>-4</td><td> 2</td><td>-3</td><td>-1</td><td>-6</td></tr>\n",
       "\t<tr><th scope=row>B</th><td>-2</td><td>-1</td><td> 5</td><td> 5</td><td>-4</td><td> 0</td><td> 1</td><td>-1</td><td>-1</td><td>-4</td><td>⋯ </td><td> 0</td><td>-1</td><td>-5</td><td>-3</td><td>-4</td><td> 5</td><td>-4</td><td> 0</td><td>-1</td><td>-6</td></tr>\n",
       "\t<tr><th scope=row>J</th><td>-2</td><td>-3</td><td>-4</td><td>-5</td><td>-2</td><td>-3</td><td>-4</td><td>-5</td><td>-4</td><td> 3</td><td>⋯ </td><td>-3</td><td>-1</td><td>-3</td><td>-2</td><td> 2</td><td>-4</td><td> 3</td><td>-3</td><td>-1</td><td>-6</td></tr>\n",
       "\t<tr><th scope=row>Z</th><td>-1</td><td> 0</td><td> 0</td><td> 1</td><td>-4</td><td> 4</td><td> 5</td><td>-3</td><td> 0</td><td>-4</td><td>⋯ </td><td> 0</td><td>-1</td><td>-3</td><td>-3</td><td>-3</td><td> 0</td><td>-3</td><td> 5</td><td>-1</td><td>-6</td></tr>\n",
       "\t<tr><th scope=row>X</th><td>-1</td><td>-1</td><td>-1</td><td>-1</td><td>-1</td><td>-1</td><td>-1</td><td>-1</td><td>-1</td><td>-1</td><td>⋯ </td><td>-1</td><td>-1</td><td>-1</td><td>-1</td><td>-1</td><td>-1</td><td>-1</td><td>-1</td><td>-1</td><td>-6</td></tr>\n",
       "\t<tr><th scope=row>*</th><td>-6</td><td>-6</td><td>-6</td><td>-6</td><td>-6</td><td>-6</td><td>-6</td><td>-6</td><td>-6</td><td>-6</td><td>⋯ </td><td>-6</td><td>-6</td><td>-6</td><td>-6</td><td>-6</td><td>-6</td><td>-6</td><td>-6</td><td>-6</td><td> 1</td></tr>\n",
       "</tbody>\n",
       "</table>\n"
      ],
      "text/latex": [
       "\\begin{tabular}{r|lllllllllllllllllllllllll}\n",
       "  & A & R & N & D & C & Q & E & G & H & I & ⋯ & S & T & W & Y & V & B & J & Z & X & *\\\\\n",
       "\\hline\n",
       "\tA &  5 & -2 & -2 & -2 & -1 & -1 & -1 &  0 & -2 & -2 & ⋯  &  1 &  0 & -3 & -2 &  0 & -2 & -2 & -1 & -1 & -6\\\\\n",
       "\tR & -2 &  6 & -1 & -2 & -4 &  1 & -1 & -3 &  0 & -3 & ⋯  & -1 & -1 & -4 & -3 & -3 & -1 & -3 &  0 & -1 & -6\\\\\n",
       "\tN & -2 & -1 &  6 &  1 & -3 &  0 & -1 & -1 &  0 & -4 & ⋯  &  0 &  0 & -4 & -3 & -4 &  5 & -4 &  0 & -1 & -6\\\\\n",
       "\tD & -2 & -2 &  1 &  6 & -4 & -1 &  1 & -2 & -2 & -4 & ⋯  & -1 & -1 & -6 & -4 & -4 &  5 & -5 &  1 & -1 & -6\\\\\n",
       "\tC & -1 & -4 & -3 & -4 &  9 & -4 & -5 & -4 & -4 & -2 & ⋯  & -2 & -1 & -3 & -3 & -1 & -4 & -2 & -4 & -1 & -6\\\\\n",
       "\tQ & -1 &  1 &  0 & -1 & -4 &  6 &  2 & -2 &  1 & -3 & ⋯  &  0 & -1 & -3 & -2 & -3 &  0 & -3 &  4 & -1 & -6\\\\\n",
       "\tE & -1 & -1 & -1 &  1 & -5 &  2 &  6 & -3 &  0 & -4 & ⋯  &  0 & -1 & -4 & -3 & -3 &  1 & -4 &  5 & -1 & -6\\\\\n",
       "\tG &  0 & -3 & -1 & -2 & -4 & -2 & -3 &  6 & -3 & -5 & ⋯  & -1 & -2 & -4 & -4 & -4 & -1 & -5 & -3 & -1 & -6\\\\\n",
       "\tH & -2 &  0 &  0 & -2 & -4 &  1 &  0 & -3 &  8 & -4 & ⋯  & -1 & -2 & -3 &  2 & -4 & -1 & -4 &  0 & -1 & -6\\\\\n",
       "\tI & -2 & -3 & -4 & -4 & -2 & -3 & -4 & -5 & -4 &  5 & ⋯  & -3 & -1 & -3 & -2 &  3 & -4 &  3 & -4 & -1 & -6\\\\\n",
       "\tL & -2 & -3 & -4 & -5 & -2 & -3 & -4 & -4 & -3 &  1 & ⋯  & -3 & -2 & -2 & -2 &  1 & -4 &  3 & -3 & -1 & -6\\\\\n",
       "\tK & -1 &  2 &  0 & -1 & -4 &  1 &  1 & -2 & -1 & -3 & ⋯  & -1 & -1 & -4 & -3 & -3 & -1 & -3 &  1 & -1 & -6\\\\\n",
       "\tM & -1 & -2 & -3 & -4 & -2 &  0 & -2 & -4 & -2 &  1 & ⋯  & -2 & -1 & -2 & -2 &  1 & -3 &  2 & -1 & -1 & -6\\\\\n",
       "\tF & -3 & -4 & -4 & -4 & -3 & -4 & -4 & -4 & -2 & -1 & ⋯  & -3 & -2 &  0 &  3 & -1 & -4 &  0 & -4 & -1 & -6\\\\\n",
       "\tP & -1 & -2 & -3 & -2 & -4 & -2 & -2 & -3 & -3 & -4 & ⋯  & -1 & -2 & -5 & -4 & -3 & -2 & -4 & -2 & -1 & -6\\\\\n",
       "\tS &  1 & -1 &  0 & -1 & -2 &  0 &  0 & -1 & -1 & -3 & ⋯  &  5 &  1 & -4 & -2 & -2 &  0 & -3 &  0 & -1 & -6\\\\\n",
       "\tT &  0 & -1 &  0 & -1 & -1 & -1 & -1 & -2 & -2 & -1 & ⋯  &  1 &  5 & -4 & -2 &  0 & -1 & -1 & -1 & -1 & -6\\\\\n",
       "\tW & -3 & -4 & -4 & -6 & -3 & -3 & -4 & -4 & -3 & -3 & ⋯  & -4 & -4 & 11 &  2 & -3 & -5 & -3 & -3 & -1 & -6\\\\\n",
       "\tY & -2 & -3 & -3 & -4 & -3 & -2 & -3 & -4 &  2 & -2 & ⋯  & -2 & -2 &  2 &  7 & -2 & -3 & -2 & -3 & -1 & -6\\\\\n",
       "\tV &  0 & -3 & -4 & -4 & -1 & -3 & -3 & -4 & -4 &  3 & ⋯  & -2 &  0 & -3 & -2 &  4 & -4 &  2 & -3 & -1 & -6\\\\\n",
       "\tB & -2 & -1 &  5 &  5 & -4 &  0 &  1 & -1 & -1 & -4 & ⋯  &  0 & -1 & -5 & -3 & -4 &  5 & -4 &  0 & -1 & -6\\\\\n",
       "\tJ & -2 & -3 & -4 & -5 & -2 & -3 & -4 & -5 & -4 &  3 & ⋯  & -3 & -1 & -3 & -2 &  2 & -4 &  3 & -3 & -1 & -6\\\\\n",
       "\tZ & -1 &  0 &  0 &  1 & -4 &  4 &  5 & -3 &  0 & -4 & ⋯  &  0 & -1 & -3 & -3 & -3 &  0 & -3 &  5 & -1 & -6\\\\\n",
       "\tX & -1 & -1 & -1 & -1 & -1 & -1 & -1 & -1 & -1 & -1 & ⋯  & -1 & -1 & -1 & -1 & -1 & -1 & -1 & -1 & -1 & -6\\\\\n",
       "\t* & -6 & -6 & -6 & -6 & -6 & -6 & -6 & -6 & -6 & -6 & ⋯  & -6 & -6 & -6 & -6 & -6 & -6 & -6 & -6 & -6 &  1\\\\\n",
       "\\end{tabular}\n"
      ],
      "text/markdown": [
       "\n",
       "| <!--/--> | A | R | N | D | C | Q | E | G | H | I | ⋯ | S | T | W | Y | V | B | J | Z | X | * | \n",
       "|---|---|---|---|---|---|---|---|---|---|---|---|---|---|---|---|---|---|---|---|---|---|---|---|---|\n",
       "| A |  5 | -2 | -2 | -2 | -1 | -1 | -1 |  0 | -2 | -2 | ⋯  |  1 |  0 | -3 | -2 |  0 | -2 | -2 | -1 | -1 | -6 | \n",
       "| R | -2 |  6 | -1 | -2 | -4 |  1 | -1 | -3 |  0 | -3 | ⋯  | -1 | -1 | -4 | -3 | -3 | -1 | -3 |  0 | -1 | -6 | \n",
       "| N | -2 | -1 |  6 |  1 | -3 |  0 | -1 | -1 |  0 | -4 | ⋯  |  0 |  0 | -4 | -3 | -4 |  5 | -4 |  0 | -1 | -6 | \n",
       "| D | -2 | -2 |  1 |  6 | -4 | -1 |  1 | -2 | -2 | -4 | ⋯  | -1 | -1 | -6 | -4 | -4 |  5 | -5 |  1 | -1 | -6 | \n",
       "| C | -1 | -4 | -3 | -4 |  9 | -4 | -5 | -4 | -4 | -2 | ⋯  | -2 | -1 | -3 | -3 | -1 | -4 | -2 | -4 | -1 | -6 | \n",
       "| Q | -1 |  1 |  0 | -1 | -4 |  6 |  2 | -2 |  1 | -3 | ⋯  |  0 | -1 | -3 | -2 | -3 |  0 | -3 |  4 | -1 | -6 | \n",
       "| E | -1 | -1 | -1 |  1 | -5 |  2 |  6 | -3 |  0 | -4 | ⋯  |  0 | -1 | -4 | -3 | -3 |  1 | -4 |  5 | -1 | -6 | \n",
       "| G |  0 | -3 | -1 | -2 | -4 | -2 | -3 |  6 | -3 | -5 | ⋯  | -1 | -2 | -4 | -4 | -4 | -1 | -5 | -3 | -1 | -6 | \n",
       "| H | -2 |  0 |  0 | -2 | -4 |  1 |  0 | -3 |  8 | -4 | ⋯  | -1 | -2 | -3 |  2 | -4 | -1 | -4 |  0 | -1 | -6 | \n",
       "| I | -2 | -3 | -4 | -4 | -2 | -3 | -4 | -5 | -4 |  5 | ⋯  | -3 | -1 | -3 | -2 |  3 | -4 |  3 | -4 | -1 | -6 | \n",
       "| L | -2 | -3 | -4 | -5 | -2 | -3 | -4 | -4 | -3 |  1 | ⋯  | -3 | -2 | -2 | -2 |  1 | -4 |  3 | -3 | -1 | -6 | \n",
       "| K | -1 |  2 |  0 | -1 | -4 |  1 |  1 | -2 | -1 | -3 | ⋯  | -1 | -1 | -4 | -3 | -3 | -1 | -3 |  1 | -1 | -6 | \n",
       "| M | -1 | -2 | -3 | -4 | -2 |  0 | -2 | -4 | -2 |  1 | ⋯  | -2 | -1 | -2 | -2 |  1 | -3 |  2 | -1 | -1 | -6 | \n",
       "| F | -3 | -4 | -4 | -4 | -3 | -4 | -4 | -4 | -2 | -1 | ⋯  | -3 | -2 |  0 |  3 | -1 | -4 |  0 | -4 | -1 | -6 | \n",
       "| P | -1 | -2 | -3 | -2 | -4 | -2 | -2 | -3 | -3 | -4 | ⋯  | -1 | -2 | -5 | -4 | -3 | -2 | -4 | -2 | -1 | -6 | \n",
       "| S |  1 | -1 |  0 | -1 | -2 |  0 |  0 | -1 | -1 | -3 | ⋯  |  5 |  1 | -4 | -2 | -2 |  0 | -3 |  0 | -1 | -6 | \n",
       "| T |  0 | -1 |  0 | -1 | -1 | -1 | -1 | -2 | -2 | -1 | ⋯  |  1 |  5 | -4 | -2 |  0 | -1 | -1 | -1 | -1 | -6 | \n",
       "| W | -3 | -4 | -4 | -6 | -3 | -3 | -4 | -4 | -3 | -3 | ⋯  | -4 | -4 | 11 |  2 | -3 | -5 | -3 | -3 | -1 | -6 | \n",
       "| Y | -2 | -3 | -3 | -4 | -3 | -2 | -3 | -4 |  2 | -2 | ⋯  | -2 | -2 |  2 |  7 | -2 | -3 | -2 | -3 | -1 | -6 | \n",
       "| V |  0 | -3 | -4 | -4 | -1 | -3 | -3 | -4 | -4 |  3 | ⋯  | -2 |  0 | -3 | -2 |  4 | -4 |  2 | -3 | -1 | -6 | \n",
       "| B | -2 | -1 |  5 |  5 | -4 |  0 |  1 | -1 | -1 | -4 | ⋯  |  0 | -1 | -5 | -3 | -4 |  5 | -4 |  0 | -1 | -6 | \n",
       "| J | -2 | -3 | -4 | -5 | -2 | -3 | -4 | -5 | -4 |  3 | ⋯  | -3 | -1 | -3 | -2 |  2 | -4 |  3 | -3 | -1 | -6 | \n",
       "| Z | -1 |  0 |  0 |  1 | -4 |  4 |  5 | -3 |  0 | -4 | ⋯  |  0 | -1 | -3 | -3 | -3 |  0 | -3 |  5 | -1 | -6 | \n",
       "| X | -1 | -1 | -1 | -1 | -1 | -1 | -1 | -1 | -1 | -1 | ⋯  | -1 | -1 | -1 | -1 | -1 | -1 | -1 | -1 | -1 | -6 | \n",
       "| * | -6 | -6 | -6 | -6 | -6 | -6 | -6 | -6 | -6 | -6 | ⋯  | -6 | -6 | -6 | -6 | -6 | -6 | -6 | -6 | -6 |  1 | \n",
       "\n",
       "\n"
      ],
      "text/plain": [
       "  A  R  N  D  C  Q  E  G  H  I  ⋯ S  T  W  Y  V  B  J  Z  X  * \n",
       "A  5 -2 -2 -2 -1 -1 -1  0 -2 -2 ⋯  1  0 -3 -2  0 -2 -2 -1 -1 -6\n",
       "R -2  6 -1 -2 -4  1 -1 -3  0 -3 ⋯ -1 -1 -4 -3 -3 -1 -3  0 -1 -6\n",
       "N -2 -1  6  1 -3  0 -1 -1  0 -4 ⋯  0  0 -4 -3 -4  5 -4  0 -1 -6\n",
       "D -2 -2  1  6 -4 -1  1 -2 -2 -4 ⋯ -1 -1 -6 -4 -4  5 -5  1 -1 -6\n",
       "C -1 -4 -3 -4  9 -4 -5 -4 -4 -2 ⋯ -2 -1 -3 -3 -1 -4 -2 -4 -1 -6\n",
       "Q -1  1  0 -1 -4  6  2 -2  1 -3 ⋯  0 -1 -3 -2 -3  0 -3  4 -1 -6\n",
       "E -1 -1 -1  1 -5  2  6 -3  0 -4 ⋯  0 -1 -4 -3 -3  1 -4  5 -1 -6\n",
       "G  0 -3 -1 -2 -4 -2 -3  6 -3 -5 ⋯ -1 -2 -4 -4 -4 -1 -5 -3 -1 -6\n",
       "H -2  0  0 -2 -4  1  0 -3  8 -4 ⋯ -1 -2 -3  2 -4 -1 -4  0 -1 -6\n",
       "I -2 -3 -4 -4 -2 -3 -4 -5 -4  5 ⋯ -3 -1 -3 -2  3 -4  3 -4 -1 -6\n",
       "L -2 -3 -4 -5 -2 -3 -4 -4 -3  1 ⋯ -3 -2 -2 -2  1 -4  3 -3 -1 -6\n",
       "K -1  2  0 -1 -4  1  1 -2 -1 -3 ⋯ -1 -1 -4 -3 -3 -1 -3  1 -1 -6\n",
       "M -1 -2 -3 -4 -2  0 -2 -4 -2  1 ⋯ -2 -1 -2 -2  1 -3  2 -1 -1 -6\n",
       "F -3 -4 -4 -4 -3 -4 -4 -4 -2 -1 ⋯ -3 -2  0  3 -1 -4  0 -4 -1 -6\n",
       "P -1 -2 -3 -2 -4 -2 -2 -3 -3 -4 ⋯ -1 -2 -5 -4 -3 -2 -4 -2 -1 -6\n",
       "S  1 -1  0 -1 -2  0  0 -1 -1 -3 ⋯  5  1 -4 -2 -2  0 -3  0 -1 -6\n",
       "T  0 -1  0 -1 -1 -1 -1 -2 -2 -1 ⋯  1  5 -4 -2  0 -1 -1 -1 -1 -6\n",
       "W -3 -4 -4 -6 -3 -3 -4 -4 -3 -3 ⋯ -4 -4 11  2 -3 -5 -3 -3 -1 -6\n",
       "Y -2 -3 -3 -4 -3 -2 -3 -4  2 -2 ⋯ -2 -2  2  7 -2 -3 -2 -3 -1 -6\n",
       "V  0 -3 -4 -4 -1 -3 -3 -4 -4  3 ⋯ -2  0 -3 -2  4 -4  2 -3 -1 -6\n",
       "B -2 -1  5  5 -4  0  1 -1 -1 -4 ⋯  0 -1 -5 -3 -4  5 -4  0 -1 -6\n",
       "J -2 -3 -4 -5 -2 -3 -4 -5 -4  3 ⋯ -3 -1 -3 -2  2 -4  3 -3 -1 -6\n",
       "Z -1  0  0  1 -4  4  5 -3  0 -4 ⋯  0 -1 -3 -3 -3  0 -3  5 -1 -6\n",
       "X -1 -1 -1 -1 -1 -1 -1 -1 -1 -1 ⋯ -1 -1 -1 -1 -1 -1 -1 -1 -1 -6\n",
       "* -6 -6 -6 -6 -6 -6 -6 -6 -6 -6 ⋯ -6 -6 -6 -6 -6 -6 -6 -6 -6  1"
      ]
     },
     "metadata": {},
     "output_type": "display_data"
    }
   ],
   "source": [
    "data(BLOSUM80)\n",
    "BLOSUM80"
   ]
  },
  {
   "cell_type": "code",
   "execution_count": 10,
   "metadata": {
    "collapsed": true
   },
   "outputs": [],
   "source": [
    "nw = pairwiseAlignment(AAString(\"GAWHEAE\"), AAString(\"HEAGAWHEE\"), substitutionMatrix=BLOSUM80)"
   ]
  },
  {
   "cell_type": "code",
   "execution_count": 11,
   "metadata": {
    "collapsed": false
   },
   "outputs": [
    {
     "data": {
      "text/plain": [
       "Global PairwiseAlignmentsSingleSubject (1 of 1)\n",
       "pattern: [1] GAWHEAE \n",
       "subject: [4] GAWHE-E \n",
       "score: 6 "
      ]
     },
     "metadata": {},
     "output_type": "display_data"
    }
   ],
   "source": [
    "nw"
   ]
  },
  {
   "cell_type": "code",
   "execution_count": 12,
   "metadata": {
    "collapsed": false
   },
   "outputs": [
    {
     "data": {
      "text/html": [
       "'GAWHE+E'"
      ],
      "text/latex": [
       "'GAWHE+E'"
      ],
      "text/markdown": [
       "'GAWHE+E'"
      ],
      "text/plain": [
       "[1] \"GAWHE+E\""
      ]
     },
     "metadata": {},
     "output_type": "display_data"
    }
   ],
   "source": [
    "compareStrings(nw)"
   ]
  },
  {
   "cell_type": "code",
   "execution_count": null,
   "metadata": {
    "collapsed": true
   },
   "outputs": [],
   "source": []
  },
  {
   "cell_type": "code",
   "execution_count": null,
   "metadata": {
    "collapsed": true
   },
   "outputs": [],
   "source": []
  }
 ],
 "metadata": {
  "kernelspec": {
   "display_name": "R",
   "language": "R",
   "name": "ir"
  },
  "language_info": {
   "codemirror_mode": "r",
   "file_extension": ".r",
   "mimetype": "text/x-r-source",
   "name": "R",
   "pygments_lexer": "r",
   "version": "3.2.3"
  }
 },
 "nbformat": 4,
 "nbformat_minor": 2
}
