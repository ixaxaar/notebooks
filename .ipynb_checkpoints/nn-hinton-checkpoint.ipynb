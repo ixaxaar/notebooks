{
 "cells": [
  {
   "cell_type": "code",
   "execution_count": 1,
   "metadata": {
    "collapsed": true
   },
   "outputs": [],
   "source": [
    "interp.load.ivy(\"org.typelevel\" %% \"cats\" % \"0.9.0\")\n",
    "interp.load.ivy(\"org.tallison\" % \"jmatio\" % \"1.2\")"
   ]
  },
  {
   "cell_type": "code",
   "execution_count": 2,
   "metadata": {},
   "outputs": [
    {
     "data": {
      "text/plain": [
       "\u001b[32mimport \u001b[39m\u001b[36mjava.nio.file.Paths\n",
       "\u001b[39m\n",
       "\u001b[32mimport \u001b[39m\u001b[36mammonite.ops._\n",
       "\u001b[39m\n",
       "\u001b[32mimport \u001b[39m\u001b[36mammonite._\n",
       "\n",
       "// refer to http://mxnet.io/get_started/build_from_source.html to build this\n",
       "\u001b[39m\n",
       "\u001b[36mp\u001b[39m: \u001b[32mjava\u001b[39m.\u001b[32mnio\u001b[39m.\u001b[32mfile\u001b[39m.\u001b[32mPath\u001b[39m = /home/ixaxaar/.m2/repository/ml/dmlc/mxnet/mxnet-full_2.11-linux-x86_64-gpu/0.1.2-SNAPSHOT/mxnet-full_2.11-linux-x86_64-gpu-0.1.2-SNAPSHOT.jar"
      ]
     },
     "execution_count": 2,
     "metadata": {},
     "output_type": "execute_result"
    }
   ],
   "source": [
    "import java.nio.file.Paths\n",
    "import ammonite.ops._\n",
    "import ammonite._\n",
    "\n",
    "// refer to http://mxnet.io/get_started/build_from_source.html to build this\n",
    "val p = Paths.get(\"/home/ixaxaar/.m2/repository/ml/dmlc/mxnet/mxnet-full_2.11-linux-x86_64-gpu/0.1.2-SNAPSHOT/mxnet-full_2.11-linux-x86_64-gpu-0.1.2-SNAPSHOT.jar\")\n",
    "\n",
    "interp.load.cp(FilePath(p).asInstanceOf[ammonite.ops.Path])"
   ]
  },
  {
   "cell_type": "code",
   "execution_count": 3,
   "metadata": {},
   "outputs": [
    {
     "data": {
      "text/plain": [
       "\u001b[32mimport \u001b[39m\u001b[36mml.dmlc.mxnet._\n",
       "\u001b[39m\n",
       "\u001b[32mimport \u001b[39m\u001b[36mml.dmlc.mxnet.{ Symbol => T }\n",
       "\u001b[39m\n",
       "\u001b[32mimport \u001b[39m\u001b[36mml.dmlc.mxnet.{ NDArray => np }\u001b[39m"
      ]
     },
     "execution_count": 3,
     "metadata": {},
     "output_type": "execute_result"
    }
   ],
   "source": [
    "import ml.dmlc.mxnet._\n",
    "import ml.dmlc.mxnet.{ Symbol => T }\n",
    "import ml.dmlc.mxnet.{ NDArray => np }"
   ]
  },
  {
   "cell_type": "code",
   "execution_count": 4,
   "metadata": {},
   "outputs": [
    {
     "data": {
      "text/plain": [
       "\u001b[32mimport \u001b[39m\u001b[36mcats._\n",
       "\u001b[39m\n",
       "\u001b[32mimport \u001b[39m\u001b[36mcats.syntax._\n",
       "\u001b[39m\n",
       "\u001b[32mimport \u001b[39m\u001b[36mcats.implicits._\n",
       "\u001b[39m\n",
       "\u001b[32mimport \u001b[39m\u001b[36mcats.instances.all._\u001b[39m"
      ]
     },
     "execution_count": 4,
     "metadata": {},
     "output_type": "execute_result"
    }
   ],
   "source": [
    "import cats._\n",
    "import cats.syntax._\n",
    "import cats.implicits._\n",
    "import cats.instances.all._"
   ]
  },
  {
   "cell_type": "code",
   "execution_count": 5,
   "metadata": {},
   "outputs": [
    {
     "data": {
      "text/plain": [
       "\u001b[32mimport \u001b[39m\u001b[36mscala.collection.JavaConversions._\u001b[39m"
      ]
     },
     "execution_count": 5,
     "metadata": {},
     "output_type": "execute_result"
    }
   ],
   "source": [
    "import scala.collection.JavaConversions._"
   ]
  },
  {
   "cell_type": "code",
   "execution_count": 6,
   "metadata": {},
   "outputs": [
    {
     "data": {
      "text/plain": [
       "defined \u001b[32mclass\u001b[39m \u001b[36mCrossable\u001b[39m"
      ]
     },
     "execution_count": 6,
     "metadata": {},
     "output_type": "execute_result"
    }
   ],
   "source": [
    "implicit class Crossable[X](xs: Traversable[X]) {\n",
    "  def cross[Y](ys: Traversable[Y]) = for { x <- xs; y <- ys } yield (x, y)\n",
    "}"
   ]
  },
  {
   "cell_type": "code",
   "execution_count": 6,
   "metadata": {},
   "outputs": [
    {
     "name": "stderr",
     "output_type": "stream",
     "text": [
      "cmd6.sc:4: not found: type MatlabDatatype\n",
      "def loader[T](data:MLArray):MatlabDatatype[T] = {\n",
      "                            ^cmd6.sc:10: not found: value MArray\n",
      "            MArray(\n",
      "            ^cmd6.sc:11: missing parameter type for expanded function\n",
      "The argument types of an anonymous function must be fully known. (SLS 8.5)\n",
      "Expected type was: ?\n",
      "                (0 to x.getM-1) cross (0 to x.getN-1) map{ case(a,b) => x.get(a,b).toInt }.toArray, \n",
      "                                                         ^cmd6.sc:11: type mismatch;\n",
      " found   : Any\n",
      " required: Int\n",
      "                (0 to x.getM-1) cross (0 to x.getN-1) map{ case(a,b) => x.get(a,b).toInt }.toArray, \n",
      "                                                                              ^cmd6.sc:11: type mismatch;\n",
      " found   : Any\n",
      " required: Int\n",
      "                (0 to x.getM-1) cross (0 to x.getN-1) map{ case(a,b) => x.get(a,b).toInt }.toArray, \n",
      "                                                                                ^cmd6.sc:15: not found: value MArray\n",
      "            MArray(\n",
      "            ^cmd6.sc:16: missing parameter type for expanded function\n",
      "The argument types of an anonymous function must be fully known. (SLS 8.5)\n",
      "Expected type was: ?\n",
      "                (0 to x.getM-1) cross (0 to x.getN-1) map{ case(a,b) => x.get(a,b).toLong }.toArray, \n",
      "                                                         ^cmd6.sc:16: type mismatch;\n",
      " found   : Any\n",
      " required: Int\n",
      "                (0 to x.getM-1) cross (0 to x.getN-1) map{ case(a,b) => x.get(a,b).toLong }.toArray, \n",
      "                                                                              ^cmd6.sc:16: type mismatch;\n",
      " found   : Any\n",
      " required: Int\n",
      "                (0 to x.getM-1) cross (0 to x.getN-1) map{ case(a,b) => x.get(a,b).toLong }.toArray, \n",
      "                                                                                ^cmd6.sc:20: not found: value MArray\n",
      "            MArray(\n",
      "            ^cmd6.sc:21: missing parameter type for expanded function\n",
      "The argument types of an anonymous function must be fully known. (SLS 8.5)\n",
      "Expected type was: ?\n",
      "                (0 to x.getM-1) cross (0 to x.getN-1) map{ case(a,b) => x.get(a,b).toInt }.toArray, \n",
      "                                                         ^cmd6.sc:21: type mismatch;\n",
      " found   : Any\n",
      " required: Int\n",
      "                (0 to x.getM-1) cross (0 to x.getN-1) map{ case(a,b) => x.get(a,b).toInt }.toArray, \n",
      "                                                                              ^cmd6.sc:21: type mismatch;\n",
      " found   : Any\n",
      " required: Int\n",
      "                (0 to x.getM-1) cross (0 to x.getN-1) map{ case(a,b) => x.get(a,b).toInt }.toArray, \n",
      "                                                                                ^cmd6.sc:25: not found: value MArray\n",
      "            MArray(\n",
      "            ^cmd6.sc:26: missing parameter type for expanded function\n",
      "The argument types of an anonymous function must be fully known. (SLS 8.5)\n",
      "Expected type was: ?\n",
      "                (0 to x.getM-1) cross (0 to x.getN-1) map{ case(a,b) => x.get(a,b).toShort }.toArray, \n",
      "                                                         ^cmd6.sc:26: type mismatch;\n",
      " found   : Any\n",
      " required: Int\n",
      "                (0 to x.getM-1) cross (0 to x.getN-1) map{ case(a,b) => x.get(a,b).toShort }.toArray, \n",
      "                                                                              ^cmd6.sc:26: type mismatch;\n",
      " found   : Any\n",
      " required: Int\n",
      "                (0 to x.getM-1) cross (0 to x.getN-1) map{ case(a,b) => x.get(a,b).toShort }.toArray, \n",
      "                                                                                ^cmd6.sc:30: not found: value MArray\n",
      "            MArray(\n",
      "            ^cmd6.sc:31: missing parameter type for expanded function\n",
      "The argument types of an anonymous function must be fully known. (SLS 8.5)\n",
      "Expected type was: ?\n",
      "                (0 to x.getM-1) cross (0 to x.getN-1) map{ case(a,b) => x.get(a,b).toFloat }.toArray, \n",
      "                                                         ^cmd6.sc:31: type mismatch;\n",
      " found   : Any\n",
      " required: Int\n",
      "                (0 to x.getM-1) cross (0 to x.getN-1) map{ case(a,b) => x.get(a,b).toFloat }.toArray, \n",
      "                                                                              ^cmd6.sc:31: type mismatch;\n",
      " found   : Any\n",
      " required: Int\n",
      "                (0 to x.getM-1) cross (0 to x.getN-1) map{ case(a,b) => x.get(a,b).toFloat }.toArray, \n",
      "                                                                                ^cmd6.sc:35: not found: value MArray\n",
      "            MArray(\n",
      "            ^cmd6.sc:36: missing parameter type for expanded function\n",
      "The argument types of an anonymous function must be fully known. (SLS 8.5)\n",
      "Expected type was: ?\n",
      "                (0 to x.getM-1) cross (0 to x.getN-1) map{ case(a,b) => x.get(a,b).toShort }.toArray, \n",
      "                                                         ^cmd6.sc:36: type mismatch;\n",
      " found   : Any\n",
      " required: Int\n",
      "                (0 to x.getM-1) cross (0 to x.getN-1) map{ case(a,b) => x.get(a,b).toShort }.toArray, \n",
      "                                                                              ^cmd6.sc:36: type mismatch;\n",
      " found   : Any\n",
      " required: Int\n",
      "                (0 to x.getM-1) cross (0 to x.getN-1) map{ case(a,b) => x.get(a,b).toShort }.toArray, \n",
      "                                                                                ^cmd6.sc:40: not found: value MArray\n",
      "            MArray(\n",
      "            ^cmd6.sc:41: missing parameter type for expanded function\n",
      "The argument types of an anonymous function must be fully known. (SLS 8.5)\n",
      "Expected type was: ?\n",
      "                (0 to x.getM-1) cross (0 to x.getN-1) map{ case(a,b) => x.get(a,b).toInt }.toArray, \n",
      "                                                         ^cmd6.sc:41: type mismatch;\n",
      " found   : Any\n",
      " required: Int\n",
      "                (0 to x.getM-1) cross (0 to x.getN-1) map{ case(a,b) => x.get(a,b).toInt }.toArray, \n",
      "                                                                              ^cmd6.sc:41: type mismatch;\n",
      " found   : Any\n",
      " required: Int\n",
      "                (0 to x.getM-1) cross (0 to x.getN-1) map{ case(a,b) => x.get(a,b).toInt }.toArray, \n",
      "                                                                                ^cmd6.sc:45: not found: value MArray\n",
      "            MArray(\n",
      "            ^cmd6.sc:46: missing parameter type for expanded function\n",
      "The argument types of an anonymous function must be fully known. (SLS 8.5)\n",
      "Expected type was: ?\n",
      "                (0 to x.getM-1) cross (0 to x.getN-1) map{ case(a,b) => x.get(a,b).toLong }.toArray, \n",
      "                                                         ^cmd6.sc:46: type mismatch;\n",
      " found   : Any\n",
      " required: Int\n",
      "                (0 to x.getM-1) cross (0 to x.getN-1) map{ case(a,b) => x.get(a,b).toLong }.toArray, \n",
      "                                                                              ^cmd6.sc:46: type mismatch;\n",
      " found   : Any\n",
      " required: Int\n",
      "                (0 to x.getM-1) cross (0 to x.getN-1) map{ case(a,b) => x.get(a,b).toLong }.toArray, \n",
      "                                                                                ^cmd6.sc:50: not found: value MArray\n",
      "            MArray(\n",
      "            ^cmd6.sc:52: value _1 is not a member of Array[Int]\n",
      "                (x.getDimensions._1, x.getDimensions._2)\n",
      "                                 ^cmd6.sc:52: value _2 is not a member of Array[Int]\n",
      "                (x.getDimensions._1, x.getDimensions._2)\n",
      "                                                     ^cmd6.sc:54: not found: value MNothing\n",
      "        case _ => MNothing()\n",
      "                  ^"
     ]
    },
    {
     "ename": "",
     "evalue": "",
     "output_type": "error",
     "traceback": [
      "Compilation Failed"
     ]
    }
   ],
   "source": [
    "import com.jmatio.io.MatFileReader\n",
    "import com.jmatio.types._\n",
    "\n",
    "def loader[T](data:MLArray):MatlabDatatype[T] = {\n",
    "    data match {\n",
    "        // case x:MLStructure =>\n",
    "        //     val fields = x.getFieldNames\n",
    "        //     MMap(fields.map{ f => (f -> loader(x(f))) }.toMap)\n",
    "        case x:MLNumericArray[java.lang.Integer] =>\n",
    "            MArray(\n",
    "                (0 to x.getM-1) cross (0 to x.getN-1) map{ case(a,b) => x.get(a,b).toInt }.toArray, \n",
    "                (x.getM, x.getN)\n",
    "            )\n",
    "        case x:MLUInt64 =>\n",
    "            MArray(\n",
    "                (0 to x.getM-1) cross (0 to x.getN-1) map{ case(a,b) => x.get(a,b).toLong }.toArray, \n",
    "                (x.getM, x.getN)\n",
    "            )\n",
    "        case x:MLUInt32 =>\n",
    "            MArray(\n",
    "                (0 to x.getM-1) cross (0 to x.getN-1) map{ case(a,b) => x.get(a,b).toInt }.toArray, \n",
    "                (x.getM, x.getN)\n",
    "            )\n",
    "        case x:MLUInt8 =>\n",
    "            MArray(\n",
    "                (0 to x.getM-1) cross (0 to x.getN-1) map{ case(a,b) => x.get(a,b).toShort }.toArray, \n",
    "                (x.getM, x.getN)\n",
    "            )\n",
    "        case x:MLNumericArray[java.lang.Float] =>\n",
    "            MArray(\n",
    "                (0 to x.getM-1) cross (0 to x.getN-1) map{ case(a,b) => x.get(a,b).toFloat }.toArray, \n",
    "                (x.getM, x.getN)\n",
    "            )\n",
    "        case x:MLNumericArray[java.lang.Short] =>\n",
    "            MArray(\n",
    "                (0 to x.getM-1) cross (0 to x.getN-1) map{ case(a,b) => x.get(a,b).toShort }.toArray, \n",
    "                (x.getM, x.getN)\n",
    "            )\n",
    "        case x:MLNumericArray[java.lang.Integer] =>\n",
    "            MArray(\n",
    "                (0 to x.getM-1) cross (0 to x.getN-1) map{ case(a,b) => x.get(a,b).toInt }.toArray, \n",
    "                (x.getM, x.getN)\n",
    "            )\n",
    "        case x:MLNumericArray[java.lang.Long] =>\n",
    "            MArray(\n",
    "                (0 to x.getM-1) cross (0 to x.getN-1) map{ case(a,b) => x.get(a,b).toLong }.toArray, \n",
    "                (x.getM, x.getN)\n",
    "            )\n",
    "        case x:MLCell =>\n",
    "            MArray(\n",
    "                x.cells.toList.map{ loader(_) }, \n",
    "                (x.getDimensions._1, x.getDimensions._2)\n",
    "            )\n",
    "        case _ => MNothing()\n",
    "    }\n",
    "}"
   ]
  },
  {
   "cell_type": "code",
   "execution_count": null,
   "metadata": {
    "collapsed": true
   },
   "outputs": [],
   "source": []
  },
  {
   "cell_type": "code",
   "execution_count": null,
   "metadata": {
    "collapsed": true
   },
   "outputs": [],
   "source": []
  },
  {
   "cell_type": "code",
   "execution_count": null,
   "metadata": {
    "collapsed": true
   },
   "outputs": [],
   "source": []
  },
  {
   "cell_type": "code",
   "execution_count": null,
   "metadata": {
    "collapsed": true
   },
   "outputs": [],
   "source": []
  },
  {
   "cell_type": "code",
   "execution_count": null,
   "metadata": {
    "collapsed": true
   },
   "outputs": [],
   "source": []
  },
  {
   "cell_type": "code",
   "execution_count": null,
   "metadata": {
    "collapsed": true
   },
   "outputs": [],
   "source": []
  },
  {
   "cell_type": "markdown",
   "metadata": {},
   "source": [
    "# Load MATLAB array as MXNET tensor"
   ]
  },
  {
   "cell_type": "code",
   "execution_count": 7,
   "metadata": {},
   "outputs": [
    {
     "data": {
      "text/plain": [
       "defined \u001b[32mclass\u001b[39m \u001b[36mmatToTensor\u001b[39m"
      ]
     },
     "execution_count": 7,
     "metadata": {},
     "output_type": "execute_result"
    }
   ],
   "source": [
    "implicit class matToTensor(x:String) {\n",
    "    import com.jmatio.io.MatFileReader\n",
    "    import com.jmatio.types.MLArray\n",
    "    import com.jmatio.types.MLNumericArray\n",
    "\n",
    "    def loadMatAsTensor() = {\n",
    "        val data1 = (new MatFileReader()).read(new java.io.File(x))\n",
    "        val data1Vars = data1.toMap.map{ case(k,v) => k }.toList\n",
    "        \n",
    "        data1Vars.map{ d1v =>\n",
    "            data1.get(d1v).asInstanceOf[MLNumericArray[java.lang.Double]]\n",
    "        }.map{ v => \n",
    "            (0 to v.getM-1) cross (0 to v.getN-1) map{ case(a,b) => v.get(a,b).toFloat }\n",
    "        }.map{ _.toArray }\n",
    "        .zip(data1Vars)\n",
    "        .zip(data1Vars.map{ d1v => data1.get(d1v).getDimensions.toList })\n",
    "        .map{ case((d,n), dd) => \n",
    "             if (dd(0) == 0) (n -> none)\n",
    "             else (n -> np.array(d, shape=Shape(dd(0),dd(1))).some)\n",
    "            }.toMap\n",
    "    }\n",
    "}"
   ]
  },
  {
   "cell_type": "code",
   "execution_count": 0,
   "metadata": {},
   "outputs": [
    {
     "name": "stderr",
     "output_type": "stream",
     "text": [
      "cmd0.sc:1: object jmatio is not a member of package com\n",
      "import com.jmatio.io.MatFileReader\n",
      "           ^cmd0.sc:2: object jmatio is not a member of package com\n",
      "import com.jmatio.types._\n",
      "           ^cmd0.sc:4: not found: type MatlabDatatype\n",
      "def loader[T](data:MLArray):MatlabDatatype[T] = {\n",
      "                            ^cmd0.sc:4: not found: type MLArray\n",
      "def loader[T](data:MLArray):MatlabDatatype[T] = {\n",
      "                   ^cmd0.sc:9: not found: type MLNumericArray\n",
      "        case x:MLNumericArray[java.lang.Integer] =>\n",
      "               ^cmd0.sc:10: not found: value MArray\n",
      "            MArray(\n",
      "            ^cmd0.sc:11: value cross is not a member of scala.collection.immutable.Range.Inclusive\n",
      "                (0 to x.getM-1) cross (0 to x.getN-1) map{ case(a,b) => x.get(a,b).toInt }.toArray, \n",
      "                                ^cmd0.sc:11: missing parameter type for expanded function\n",
      "The argument types of an anonymous function must be fully known. (SLS 8.5)\n",
      "Expected type was: ?\n",
      "                (0 to x.getM-1) cross (0 to x.getN-1) map{ case(a,b) => x.get(a,b).toInt }.toArray, \n",
      "                                                         ^cmd0.sc:14: not found: type MLUInt64\n",
      "        case x:MLUInt64 =>\n",
      "               ^cmd0.sc:15: not found: value MArray\n",
      "            MArray(\n",
      "            ^cmd0.sc:16: value cross is not a member of scala.collection.immutable.Range.Inclusive\n",
      "                (0 to x.getM-1) cross (0 to x.getN-1) map{ case(a,b) => x.get(a,b).toLong }.toArray, \n",
      "                                ^cmd0.sc:16: missing parameter type for expanded function\n",
      "The argument types of an anonymous function must be fully known. (SLS 8.5)\n",
      "Expected type was: ?\n",
      "                (0 to x.getM-1) cross (0 to x.getN-1) map{ case(a,b) => x.get(a,b).toLong }.toArray, \n",
      "                                                         ^cmd0.sc:19: not found: type MLUInt32\n",
      "        case x:MLUInt32 =>\n",
      "               ^cmd0.sc:20: not found: value MArray\n",
      "            MArray(\n",
      "            ^cmd0.sc:21: value cross is not a member of scala.collection.immutable.Range.Inclusive\n",
      "                (0 to x.getM-1) cross (0 to x.getN-1) map{ case(a,b) => x.get(a,b).toInt }.toArray, \n",
      "                                ^cmd0.sc:21: missing parameter type for expanded function\n",
      "The argument types of an anonymous function must be fully known. (SLS 8.5)\n",
      "Expected type was: ?\n",
      "                (0 to x.getM-1) cross (0 to x.getN-1) map{ case(a,b) => x.get(a,b).toInt }.toArray, \n",
      "                                                         ^cmd0.sc:24: not found: type MLUInt8\n",
      "        case x:MLUInt8 =>\n",
      "               ^cmd0.sc:25: not found: value MArray\n",
      "            MArray(\n",
      "            ^cmd0.sc:26: value cross is not a member of scala.collection.immutable.Range.Inclusive\n",
      "                (0 to x.getM-1) cross (0 to x.getN-1) map{ case(a,b) => x.get(a,b).toShort }.toArray, \n",
      "                                ^cmd0.sc:26: missing parameter type for expanded function\n",
      "The argument types of an anonymous function must be fully known. (SLS 8.5)\n",
      "Expected type was: ?\n",
      "                (0 to x.getM-1) cross (0 to x.getN-1) map{ case(a,b) => x.get(a,b).toShort }.toArray, \n",
      "                                                         ^cmd0.sc:29: not found: type MLNumericArray\n",
      "        case x:MLNumericArray[java.lang.Float] =>\n",
      "               ^cmd0.sc:30: not found: value MArray\n",
      "            MArray(\n",
      "            ^cmd0.sc:31: value cross is not a member of scala.collection.immutable.Range.Inclusive\n",
      "                (0 to x.getM-1) cross (0 to x.getN-1) map{ case(a,b) => x.get(a,b).toFloat }.toArray, \n",
      "                                ^cmd0.sc:31: missing parameter type for expanded function\n",
      "The argument types of an anonymous function must be fully known. (SLS 8.5)\n",
      "Expected type was: ?\n",
      "                (0 to x.getM-1) cross (0 to x.getN-1) map{ case(a,b) => x.get(a,b).toFloat }.toArray, \n",
      "                                                         ^cmd0.sc:34: not found: type MLNumericArray\n",
      "        case x:MLNumericArray[java.lang.Short] =>\n",
      "               ^cmd0.sc:35: not found: value MArray\n",
      "            MArray(\n",
      "            ^cmd0.sc:36: value cross is not a member of scala.collection.immutable.Range.Inclusive\n",
      "                (0 to x.getM-1) cross (0 to x.getN-1) map{ case(a,b) => x.get(a,b).toShort }.toArray, \n",
      "                                ^cmd0.sc:36: missing parameter type for expanded function\n",
      "The argument types of an anonymous function must be fully known. (SLS 8.5)\n",
      "Expected type was: ?\n",
      "                (0 to x.getM-1) cross (0 to x.getN-1) map{ case(a,b) => x.get(a,b).toShort }.toArray, \n",
      "                                                         ^cmd0.sc:39: not found: type MLNumericArray\n",
      "        case x:MLNumericArray[java.lang.Integer] =>\n",
      "               ^cmd0.sc:40: not found: value MArray\n",
      "            MArray(\n",
      "            ^cmd0.sc:41: value cross is not a member of scala.collection.immutable.Range.Inclusive\n",
      "                (0 to x.getM-1) cross (0 to x.getN-1) map{ case(a,b) => x.get(a,b).toInt }.toArray, \n",
      "                                ^cmd0.sc:41: missing parameter type for expanded function\n",
      "The argument types of an anonymous function must be fully known. (SLS 8.5)\n",
      "Expected type was: ?\n",
      "                (0 to x.getM-1) cross (0 to x.getN-1) map{ case(a,b) => x.get(a,b).toInt }.toArray, \n",
      "                                                         ^cmd0.sc:44: not found: type MLNumericArray\n",
      "        case x:MLNumericArray[java.lang.Long] =>\n",
      "               ^cmd0.sc:45: not found: value MArray\n",
      "            MArray(\n",
      "            ^cmd0.sc:46: value cross is not a member of scala.collection.immutable.Range.Inclusive\n",
      "                (0 to x.getM-1) cross (0 to x.getN-1) map{ case(a,b) => x.get(a,b).toLong }.toArray, \n",
      "                                ^cmd0.sc:46: missing parameter type for expanded function\n",
      "The argument types of an anonymous function must be fully known. (SLS 8.5)\n",
      "Expected type was: ?\n",
      "                (0 to x.getM-1) cross (0 to x.getN-1) map{ case(a,b) => x.get(a,b).toLong }.toArray, \n",
      "                                                         ^cmd0.sc:49: not found: type MLCell\n",
      "        case x:MLCell =>\n",
      "               ^cmd0.sc:50: not found: value MArray\n",
      "            MArray(\n",
      "            ^cmd0.sc:54: not found: value MNothing\n",
      "        case _ => MNothing()\n",
      "                  ^"
     ]
    },
    {
     "ename": "",
     "evalue": "",
     "output_type": "error",
     "traceback": [
      "Compilation Failed"
     ]
    }
   ],
   "source": [
    "import com.jmatio.io.MatFileReader\n",
    "import com.jmatio.types._\n",
    "\n",
    "def loader[T](data:MLArray):MatlabDatatype[T] = {\n",
    "    data match {\n",
    "        // case x:MLStructure =>\n",
    "        //     val fields = x.getFieldNames\n",
    "        //     MMap(fields.map{ f => (f -> loader(x(f))) }.toMap)\n",
    "        case x:MLNumericArray[java.lang.Integer] =>\n",
    "            MArray(\n",
    "                (0 to x.getM-1) cross (0 to x.getN-1) map{ case(a,b) => x.get(a,b).toInt }.toArray, \n",
    "                (x.getM, x.getN)\n",
    "            )\n",
    "        case x:MLUInt64 =>\n",
    "            MArray(\n",
    "                (0 to x.getM-1) cross (0 to x.getN-1) map{ case(a,b) => x.get(a,b).toLong }.toArray, \n",
    "                (x.getM, x.getN)\n",
    "            )\n",
    "        case x:MLUInt32 =>\n",
    "            MArray(\n",
    "                (0 to x.getM-1) cross (0 to x.getN-1) map{ case(a,b) => x.get(a,b).toInt }.toArray, \n",
    "                (x.getM, x.getN)\n",
    "            )\n",
    "        case x:MLUInt8 =>\n",
    "            MArray(\n",
    "                (0 to x.getM-1) cross (0 to x.getN-1) map{ case(a,b) => x.get(a,b).toShort }.toArray, \n",
    "                (x.getM, x.getN)\n",
    "            )\n",
    "        case x:MLNumericArray[java.lang.Float] =>\n",
    "            MArray(\n",
    "                (0 to x.getM-1) cross (0 to x.getN-1) map{ case(a,b) => x.get(a,b).toFloat }.toArray, \n",
    "                (x.getM, x.getN)\n",
    "            )\n",
    "        case x:MLNumericArray[java.lang.Short] =>\n",
    "            MArray(\n",
    "                (0 to x.getM-1) cross (0 to x.getN-1) map{ case(a,b) => x.get(a,b).toShort }.toArray, \n",
    "                (x.getM, x.getN)\n",
    "            )\n",
    "        case x:MLNumericArray[java.lang.Integer] =>\n",
    "            MArray(\n",
    "                (0 to x.getM-1) cross (0 to x.getN-1) map{ case(a,b) => x.get(a,b).toInt }.toArray, \n",
    "                (x.getM, x.getN)\n",
    "            )\n",
    "        case x:MLNumericArray[java.lang.Long] =>\n",
    "            MArray(\n",
    "                (0 to x.getM-1) cross (0 to x.getN-1) map{ case(a,b) => x.get(a,b).toLong }.toArray, \n",
    "                (x.getM, x.getN)\n",
    "            )\n",
    "        case x:MLCell =>\n",
    "            MArray(\n",
    "                x.cells.toList.map{ loader(_) }, \n",
    "                (x.getDimensions._1, x.getDimensions._2)\n",
    "            )\n",
    "        case _ => MNothing()\n",
    "    }\n",
    "}"
   ]
  },
  {
   "cell_type": "code",
   "execution_count": null,
   "metadata": {
    "collapsed": true
   },
   "outputs": [],
   "source": []
  },
  {
   "cell_type": "code",
   "execution_count": null,
   "metadata": {
    "collapsed": true
   },
   "outputs": [],
   "source": []
  },
  {
   "cell_type": "code",
   "execution_count": null,
   "metadata": {
    "collapsed": true
   },
   "outputs": [],
   "source": []
  },
  {
   "cell_type": "code",
   "execution_count": null,
   "metadata": {
    "collapsed": true
   },
   "outputs": [],
   "source": []
  },
  {
   "cell_type": "code",
   "execution_count": null,
   "metadata": {
    "collapsed": true
   },
   "outputs": [],
   "source": []
  },
  {
   "cell_type": "code",
   "execution_count": null,
   "metadata": {
    "collapsed": true
   },
   "outputs": [],
   "source": []
  },
  {
   "cell_type": "code",
   "execution_count": null,
   "metadata": {
    "collapsed": true
   },
   "outputs": [],
   "source": []
  },
  {
   "cell_type": "code",
   "execution_count": null,
   "metadata": {
    "collapsed": true
   },
   "outputs": [],
   "source": []
  },
  {
   "cell_type": "code",
   "execution_count": null,
   "metadata": {
    "collapsed": true
   },
   "outputs": [],
   "source": []
  },
  {
   "cell_type": "code",
   "execution_count": null,
   "metadata": {
    "collapsed": true
   },
   "outputs": [],
   "source": []
  },
  {
   "cell_type": "code",
   "execution_count": null,
   "metadata": {
    "collapsed": true
   },
   "outputs": [],
   "source": []
  },
  {
   "cell_type": "code",
   "execution_count": null,
   "metadata": {
    "collapsed": true
   },
   "outputs": [],
   "source": []
  },
  {
   "cell_type": "code",
   "execution_count": null,
   "metadata": {
    "collapsed": true
   },
   "outputs": [],
   "source": []
  },
  {
   "cell_type": "markdown",
   "metadata": {},
   "source": [
    "# Assigment 1"
   ]
  },
  {
   "cell_type": "code",
   "execution_count": 8,
   "metadata": {},
   "outputs": [
    {
     "data": {
      "text/plain": [
       "\u001b[36mdatasets\u001b[39m: \u001b[32mList\u001b[39m[\u001b[32mString\u001b[39m] = \u001b[33mList\u001b[39m(\n",
       "  \u001b[32m\"/home/ixaxaar/data/Coursera/nn-hinton/Assignment1/Datasets/dataset1.mat\"\u001b[39m,\n",
       "  \u001b[32m\"/home/ixaxaar/data/Coursera/nn-hinton/Assignment1/Datasets/dataset2.mat\"\u001b[39m,\n",
       "  \u001b[32m\"/home/ixaxaar/data/Coursera/nn-hinton/Assignment1/Datasets/dataset3.mat\"\u001b[39m,\n",
       "  \u001b[32m\"/home/ixaxaar/data/Coursera/nn-hinton/Assignment1/Datasets/dataset4.mat\"\u001b[39m\n",
       ")"
      ]
     },
     "execution_count": 8,
     "metadata": {},
     "output_type": "execute_result"
    }
   ],
   "source": [
    "val datasets = List(\n",
    "    \"/home/ixaxaar/data/Coursera/nn-hinton/Assignment1/Datasets/dataset1.mat\",\n",
    "    \"/home/ixaxaar/data/Coursera/nn-hinton/Assignment1/Datasets/dataset2.mat\",\n",
    "    \"/home/ixaxaar/data/Coursera/nn-hinton/Assignment1/Datasets/dataset3.mat\",\n",
    "    \"/home/ixaxaar/data/Coursera/nn-hinton/Assignment1/Datasets/dataset4.mat\"\n",
    ")"
   ]
  },
  {
   "cell_type": "code",
   "execution_count": 9,
   "metadata": {},
   "outputs": [
    {
     "name": "stderr",
     "output_type": "stream",
     "text": [
      "log4j:WARN No appenders could be found for logger (MXNetJVM).\n",
      "log4j:WARN Please initialize the log4j system properly.\n",
      "log4j:WARN See http://logging.apache.org/log4j/1.2/faq.html#noconfig for more info.\n"
     ]
    },
    {
     "data": {
      "text/plain": [
       "\u001b[36mdata\u001b[39m: \u001b[32mList\u001b[39m[\u001b[32mMap\u001b[39m[\u001b[32mString\u001b[39m, \u001b[32mOption\u001b[39m[\u001b[32mNDArray\u001b[39m]]] = \u001b[33mList\u001b[39m(\n",
       "  \u001b[33mMap\u001b[39m(\n",
       "    \u001b[32m\"neg_examples_nobias\"\u001b[39m -> \u001b[33mSome\u001b[39m(ml.dmlc.mxnet.NDArray@c9ee27af),\n",
       "    \u001b[32m\"pos_examples_nobias\"\u001b[39m -> \u001b[33mSome\u001b[39m(ml.dmlc.mxnet.NDArray@dade28c4),\n",
       "    \u001b[32m\"w_init\"\u001b[39m -> \u001b[33mSome\u001b[39m(ml.dmlc.mxnet.NDArray@d5f1aff7),\n",
       "    \u001b[32m\"w_gen_feas\"\u001b[39m -> \u001b[33mSome\u001b[39m(ml.dmlc.mxnet.NDArray@8f91f434)\n",
       "  ),\n",
       "  \u001b[33mMap\u001b[39m(\n",
       "    \u001b[32m\"neg_examples_nobias\"\u001b[39m -> \u001b[33mSome\u001b[39m(ml.dmlc.mxnet.NDArray@d3e2bb74),\n",
       "    \u001b[32m\"pos_examples_nobias\"\u001b[39m -> \u001b[33mSome\u001b[39m(ml.dmlc.mxnet.NDArray@b7c96dbb),\n",
       "    \u001b[32m\"w_init\"\u001b[39m -> \u001b[33mSome\u001b[39m(ml.dmlc.mxnet.NDArray@a70b87bd),\n",
       "    \u001b[32m\"w_gen_feas\"\u001b[39m -> None\n",
       "\u001b[33m...\u001b[39m\n",
       "defined \u001b[32mtype\u001b[39m \u001b[36mMappedTensors\u001b[39m"
      ]
     },
     "execution_count": 9,
     "metadata": {},
     "output_type": "execute_result"
    }
   ],
   "source": [
    "val data = datasets.map{ d => d.loadMatAsTensor }\n",
    "type MappedTensors = Map[String, Option[NDArray]]"
   ]
  },
  {
   "cell_type": "code",
   "execution_count": 10,
   "metadata": {},
   "outputs": [
    {
     "data": {
      "text/plain": [
       "defined \u001b[32mclass\u001b[39m \u001b[36maddColumn\u001b[39m"
      ]
     },
     "execution_count": 10,
     "metadata": {},
     "output_type": "execute_result"
    }
   ],
   "source": [
    "implicit class addColumn(d:NDArray) {\n",
    "\n",
    "    def appendColumn(value:Float):NDArray = {\n",
    "        val Array(a,b) = d.shape.toArray.take(2)\n",
    "        np.array(\n",
    "            (0 to a-1).map{ c => d.toArray.drop(b*c).take(b).toArray ++ Array(value) }.toArray.flatten, \n",
    "            shape=Shape(a,b+1)\n",
    "        )\n",
    "    }\n",
    "}"
   ]
  },
  {
   "cell_type": "code",
   "execution_count": 181,
   "metadata": {},
   "outputs": [
    {
     "data": {
      "text/plain": [
       "defined \u001b[32mfunction\u001b[39m \u001b[36mevalPerceptron\u001b[39m"
      ]
     },
     "execution_count": 181,
     "metadata": {},
     "output_type": "execute_result"
    }
   ],
   "source": [
    "def evalPerceptron(data:(NDArray, NDArray, NDArray)) = {\n",
    "    val (neg, pos, w) = data\n",
    "    val ws = w.shape.head\n",
    "    val nitr = (0 to neg.shape.head-1)\n",
    "    val pitr = (0 to pos.shape.head-1)\n",
    "\n",
    "    val negMistakes = nitr.\n",
    "        map{ i:Int => (i, np.dot(neg.slice(i), w).get.toArray.head) }.toList.\n",
    "        filter{ case(i, v) => v >= 0 }.map{ _._1 }\n",
    "    \n",
    "    val posMistakes = pitr.\n",
    "        map{ i:Int => (i, np.dot(pos.slice(i), w).get.toArray.head) }.toList.\n",
    "        filter{ case(i, v) => v < 0 }.map{ _._1 }\n",
    "\n",
    "    (negMistakes, posMistakes)\n",
    "}"
   ]
  },
  {
   "cell_type": "code",
   "execution_count": 195,
   "metadata": {},
   "outputs": [
    {
     "data": {
      "text/plain": [
       "defined \u001b[32mfunction\u001b[39m \u001b[36mupdateWeights\u001b[39m"
      ]
     },
     "execution_count": 195,
     "metadata": {},
     "output_type": "execute_result"
    }
   ],
   "source": [
    "def updateWeights(data:(NDArray, NDArray, NDArray)):NDArray = {\n",
    "    val (neg, pos, w) = data\n",
    "    val nitr = (0 to neg.shape.head-1)\n",
    "    val pitr = (0 to pos.shape.head-1)\n",
    "\n",
    "    val negUpdate = nitr.foldLeft(w){ case(mem, i) =>\n",
    "        val act = np.dot(neg.slice(i), mem).get.toArray.head\n",
    "        if (act >= 0) mem - neg.slice(i).T\n",
    "        else mem\n",
    "    }\n",
    "    \n",
    "    val posUpdate = pitr.foldLeft(negUpdate){ case(mem, i) =>\n",
    "        val act = np.dot(pos.slice(i), mem).get.toArray.head\n",
    "        if (act < 0) mem + pos.slice(i).T\n",
    "        else mem\n",
    "    }\n",
    "\n",
    "    posUpdate\n",
    "}"
   ]
  },
  {
   "cell_type": "code",
   "execution_count": 196,
   "metadata": {},
   "outputs": [
    {
     "data": {
      "text/plain": [
       "defined \u001b[32mfunction\u001b[39m \u001b[36mrecursiveTrainer\u001b[39m"
      ]
     },
     "execution_count": 196,
     "metadata": {},
     "output_type": "execute_result"
    }
   ],
   "source": [
    "def recursiveTrainer(data:(NDArray, NDArray, NDArray)):Unit = {\n",
    "    val (neg, pos, w) = data\n",
    "    val w2 = updateWeights(data)\n",
    "    println(w2.toArray.toList)\n",
    "\n",
    "    val (m1,m2) = evalPerceptron((neg, pos, w2))\n",
    "    val mistakes = m1.length + m2.length\n",
    "    println(s\"Positive mistakes: ${m1.length}, negative: ${m2.length}\")\n",
    "\n",
    "    if (mistakes > 0) recursiveTrainer((neg, pos, w2))\n",
    "}"
   ]
  },
  {
   "cell_type": "code",
   "execution_count": 197,
   "metadata": {},
   "outputs": [
    {
     "data": {
      "text/plain": [
       "defined \u001b[32mfunction\u001b[39m \u001b[36mlearnPerceptron\u001b[39m"
      ]
     },
     "execution_count": 197,
     "metadata": {},
     "output_type": "execute_result"
    }
   ],
   "source": [
    "def learnPerceptron(data:MappedTensors):Unit = {\n",
    "    val numNeg = data(\"neg_examples_nobias\").map{ d => d.shape.head }.getOrElse(0)\n",
    "    val numPos = data(\"pos_examples_nobias\").map{ d => d.shape.head }.getOrElse(0)\n",
    "\n",
    "    val neg = data(\"neg_examples_nobias\").map{ d => d.appendColumn(1f) }\n",
    "    val pos = data(\"pos_examples_nobias\").map{ d => d.appendColumn(1f) }\n",
    "    val w = data(\"w_init\").getOrElse(Random.uniform(0, 1, shape=Shape(3,1))).some\n",
    "    \n",
    "    val initErr = for {\n",
    "        x <- neg\n",
    "        y <- pos\n",
    "        z <- w\n",
    "    } yield evalPerceptron((x,y,z))\n",
    "    println(initErr)\n",
    "    \n",
    "    val x = for {\n",
    "        x <- neg\n",
    "        y <- pos\n",
    "        z <- w\n",
    "    } yield recursiveTrainer((x,y,z))\n",
    "}"
   ]
  },
  {
   "cell_type": "code",
   "execution_count": 198,
   "metadata": {},
   "outputs": [
    {
     "name": "stdout",
     "output_type": "stream",
     "text": [
      "Some((List(0, 1, 2, 3),List(3)))\n",
      "List(1.0582986, 0.5482907, 0.77187204)\n",
      "Positive mistakes: 3, negative: 0\n",
      "List(2.3811557, -0.5148322, -0.22812796)\n",
      "Positive mistakes: 1, negative: 0\n",
      "List(2.8954413, -0.7407457, -0.22812796)\n",
      "Positive mistakes: 1, negative: 0\n",
      "List(3.4097269, -0.96665925, -0.22812796)\n",
      "Positive mistakes: 1, negative: 0\n",
      "List(3.052584, -1.8171575, -1.228128)\n",
      "Positive mistakes: 0, negative: 0\n"
     ]
    }
   ],
   "source": [
    "learnPerceptron(data(0))"
   ]
  },
  {
   "cell_type": "markdown",
   "metadata": {},
   "source": [
    "# Assigment 2"
   ]
  },
  {
   "cell_type": "code",
   "execution_count": null,
   "metadata": {
    "collapsed": true
   },
   "outputs": [],
   "source": []
  },
  {
   "cell_type": "code",
   "execution_count": null,
   "metadata": {
    "collapsed": true
   },
   "outputs": [],
   "source": []
  },
  {
   "cell_type": "code",
   "execution_count": null,
   "metadata": {
    "collapsed": true
   },
   "outputs": [],
   "source": []
  },
  {
   "cell_type": "code",
   "execution_count": null,
   "metadata": {
    "collapsed": true
   },
   "outputs": [],
   "source": []
  },
  {
   "cell_type": "code",
   "execution_count": null,
   "metadata": {
    "collapsed": true
   },
   "outputs": [],
   "source": []
  },
  {
   "cell_type": "code",
   "execution_count": null,
   "metadata": {
    "collapsed": true
   },
   "outputs": [],
   "source": []
  },
  {
   "cell_type": "code",
   "execution_count": null,
   "metadata": {
    "collapsed": true
   },
   "outputs": [],
   "source": []
  },
  {
   "cell_type": "code",
   "execution_count": null,
   "metadata": {
    "collapsed": true
   },
   "outputs": [],
   "source": []
  },
  {
   "cell_type": "code",
   "execution_count": null,
   "metadata": {
    "collapsed": true
   },
   "outputs": [],
   "source": []
  },
  {
   "cell_type": "code",
   "execution_count": null,
   "metadata": {
    "collapsed": true
   },
   "outputs": [],
   "source": []
  },
  {
   "cell_type": "code",
   "execution_count": null,
   "metadata": {
    "collapsed": true
   },
   "outputs": [],
   "source": []
  },
  {
   "cell_type": "code",
   "execution_count": null,
   "metadata": {
    "collapsed": true
   },
   "outputs": [],
   "source": []
  },
  {
   "cell_type": "code",
   "execution_count": null,
   "metadata": {
    "collapsed": true
   },
   "outputs": [],
   "source": []
  },
  {
   "cell_type": "code",
   "execution_count": null,
   "metadata": {
    "collapsed": true
   },
   "outputs": [],
   "source": []
  }
 ],
 "metadata": {
  "kernelspec": {
   "display_name": "Scala",
   "language": "scala",
   "name": "scala"
  },
  "language_info": {
   "codemirror_mode": "text/x-scala",
   "file_extension": ".scala",
   "mimetype": "text/x-scala",
   "name": "scala211",
   "nbconvert_exporter": "script",
   "pygments_lexer": "scala",
   "version": "2.11.8"
  }
 },
 "nbformat": 4,
 "nbformat_minor": 1
}
