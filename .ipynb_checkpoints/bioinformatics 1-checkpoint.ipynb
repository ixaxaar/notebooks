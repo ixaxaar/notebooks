{
 "cells": [
  {
   "cell_type": "code",
   "execution_count": 52,
   "metadata": {
    "collapsed": false
   },
   "outputs": [],
   "source": [
    "patternCount :: String -> String -> Int\n",
    "patternCount \"\" p = 0\n",
    "patternCount t p = \n",
    "    if x == p then \n",
    "        1 + next t p\n",
    "    else\n",
    "        next t p\n",
    "    where\n",
    "        x = take (length p) t\n",
    "        next t' p' = patternCount (drop 1 t') p'"
   ]
  },
  {
   "cell_type": "code",
   "execution_count": 55,
   "metadata": {
    "collapsed": false
   },
   "outputs": [
    {
     "data": {
      "text/plain": [
       "35"
      ]
     },
     "metadata": {},
     "output_type": "display_data"
    }
   ],
   "source": [
    "patternCount \"CTCCCAAAGGCATCCTTCCCAAAGCCCAAAGCCCCAAAGCCCAAAGCCCAAAGGGCCCAAAGCCCAAAGCGCCCAAAGGCCCAAAGCAAACCCCAAAGCCCAAAGCGAACCCAAAGAGGTCGCCCAAAGGACCCAAAGCCCAAAGACACCCAAAGTTTCCCAAAGCCCAAAGTCCCAAAGTTTCTCCCAAAGGGCGTCCCAAAGATCGCCCAAAGGAACCCAAAGACCCAAAGTAAGTCCCAAAGTCCCAAAGCCCAAAGCCCAAAGCACCCAAAGGCAAAGCCCCTAGGAACCCAAAGCCCAAAGTAGTGGCTGAACCCAAAGTTGACCCAAAGCTGACGGCCCAAAGCCCCAAAGGTCTCTCAGTCTAGTACACCCAAAGCCCAAAGGCGGACTACCCAAAGTGCCCAAAGCCCAAAGCCCAAAGGTACCCAAAGATGTATTCCCTCCAAGCCCAAAGTTATCTGCATCTCCCAAAGTCACCCAAAGGACCCAAAGCCCAAAGCCCAAAGCCCAAAGAACCCAAAGCCCAAAGGCGCCCAAAGGCCCAAAGTGCCCAAAGGCCCAAAGGCCCCAAAGCCCAAAGCCCAAAGCTCAGGTCCCAAAGCCCAAAGCCCAAAGGGTCCCGTTCATTCCCAAAGCCCAAAGTCCCAAAGGAATCTCCCCAAAGAAACCCAAAGCACCTTCCCCAAAGGGCTAAGCCCAAAGCCTGACGTCCCAAAGCCCAAAGTCCCAAAGCCGATCCCAAAGGGTACCCAAAGCCCAAAGCCCAAAGCCCAAAGACCCAAAGCCCAAAGTTTCCCAAAGTCCCAAAGGTTTTGGCCCAAAGCCCCAAAGCCCAAAGCCCAAAGTCTACCCCAAAGGCCCAAAGTCCCAAAGATCCCAAAGAACGAGAAAACCCCCCAAAGCCCAAAGTACCCCAAAGTGACCCCAAAGTACTTAGTGGCCCAAAGCTTACCCCAAAGACGGATATCCCAAAGGGCGGGACAAGCCCAAAGACTGCCCAAAGATCCCAAAGGTCCCAAAGCGGACGTCCCAAAG\" \"CCCAAAGCC\""
   ]
  },
  {
   "cell_type": "code",
   "execution_count": 45,
   "metadata": {
    "collapsed": false
   },
   "outputs": [
    {
     "data": {
      "text/plain": [
       "\"c\""
      ]
     },
     "metadata": {},
     "output_type": "display_data"
    }
   ],
   "source": [
    "frequentWords :: String -> Int -> String\n",
    "frequentWords \"\" k = \"\"\n",
    "frequentWords t k = "
   ]
  }
 ],
 "metadata": {
  "kernelspec": {
   "display_name": "Haskell",
   "language": "haskell",
   "name": "haskell"
  },
  "language_info": {
   "codemirror_mode": "ihaskell",
   "file_extension": ".hs",
   "name": "haskell",
   "version": "7.10.2"
  }
 },
 "nbformat": 4,
 "nbformat_minor": 0
}
