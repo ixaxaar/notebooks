{
 "cells": [
  {
   "cell_type": "code",
   "execution_count": 8,
   "metadata": {
    "collapsed": true,
    "scrolled": true
   },
   "outputs": [],
   "source": [
    "interp.load.ivy(\"org.typelevel\" %% \"cats\" % \"0.9.0\")\n",
    "interp.load.ivy(\"org.typelevel\" %% \"kittens\" % \"1.0.0-M9\")\n",
    "interp.load.ivy(\"com.chuusai\" %% \"shapeless\" % \"2.3.2\")"
   ]
  },
  {
   "cell_type": "code",
   "execution_count": 9,
   "metadata": {},
   "outputs": [
    {
     "data": {
      "text/plain": [
       "\u001b[32mimport \u001b[39m\u001b[36mcats._\n",
       "\u001b[39m\n",
       "\u001b[32mimport \u001b[39m\u001b[36mcats.syntax._\n",
       "\u001b[39m\n",
       "\u001b[32mimport \u001b[39m\u001b[36mcats.implicits._\n",
       "\u001b[39m\n",
       "\u001b[32mimport \u001b[39m\u001b[36mcats.instances.all._\n",
       "\u001b[39m\n",
       "\u001b[32mimport \u001b[39m\u001b[36mcats.derived._\n",
       "\u001b[39m\n",
       "\u001b[32mimport \u001b[39m\u001b[36mcats.functor._\n",
       "\u001b[39m\n",
       "\u001b[32mimport \u001b[39m\u001b[36mscala.reflect._\n",
       "\u001b[39m\n",
       "\u001b[32mimport \u001b[39m\u001b[36mshapeless.HList._\n",
       "// import shapeless.Functions._\n",
       "\u001b[39m\n",
       "\u001b[32mimport \u001b[39m\u001b[36mshapeless.Poly._\n",
       "// import shapeless.TypeOperators._\u001b[39m"
      ]
     },
     "execution_count": 9,
     "metadata": {},
     "output_type": "execute_result"
    }
   ],
   "source": [
    "import cats._\n",
    "import cats.syntax._\n",
    "import cats.implicits._\n",
    "import cats.instances.all._\n",
    "import cats.derived._\n",
    "import cats.functor._\n",
    "import scala.reflect._\n",
    "import shapeless.HList._\n",
    "// import shapeless.Functions._\n",
    "import shapeless.Poly._\n",
    "// import shapeless.TypeOperators._"
   ]
  },
  {
   "cell_type": "markdown",
   "metadata": {
    "collapsed": true
   },
   "source": [
    "# Typeclasses"
   ]
  },
  {
   "cell_type": "code",
   "execution_count": null,
   "metadata": {
    "collapsed": true
   },
   "outputs": [],
   "source": [
    "val shown = Show.apply[Map[String,Double]].show(Map(\"ajda\" -> 3254.2345))\n",
    "val shown1 = Map(\"ajda\" -> 3254.2345).show"
   ]
  },
  {
   "cell_type": "code",
   "execution_count": null,
   "metadata": {
    "collapsed": true
   },
   "outputs": [],
   "source": [
    "import java.util.Date\n",
    "\n",
    "implicit val dateShow = Show.show[Date] { date =>\n",
    "    s\"${date.getTime} milliseconds since epoch\"\n",
    "}"
   ]
  },
  {
   "cell_type": "code",
   "execution_count": null,
   "metadata": {
    "collapsed": true
   },
   "outputs": [],
   "source": [
    "new Date().show"
   ]
  },
  {
   "cell_type": "code",
   "execution_count": null,
   "metadata": {
    "collapsed": true
   },
   "outputs": [],
   "source": [
    "val eqInt = Eq[Int]\n",
    "eqInt.eqv(123, 123)\n",
    "\n",
    "123 =!= 123\n",
    "\n",
    "Map(\"lol\" -> List(1.2), \"lel\" -> List(2.1)) === Map(\"lel\" -> List(2.1), \"lol\" -> List(1.2))\n",
    "\n",
    "1.some === None\n",
    "\n",
    "implicit val dateEq = Eq.instance[Date] { (x,y) => x.getTime == y.getTime }\n",
    "\n",
    "new Date() === new Date() // weird mix of side effects, you see this now?!"
   ]
  },
  {
   "cell_type": "markdown",
   "metadata": {
    "collapsed": true
   },
   "source": [
    "# Monoids"
   ]
  },
  {
   "cell_type": "code",
   "execution_count": null,
   "metadata": {
    "collapsed": true
   },
   "outputs": [],
   "source": [
    "3.some |+| 4.some\n",
    "\n",
    "3.some === none[Int]\n",
    "\n",
    "implicit val dateMonoid = new Monoid[Date] {\n",
    "    def empty = new Date(0)\n",
    "    def combine(x:Date, y:Date):Date = new Date(x.getTime + y.getTime)\n",
    "}\n",
    "\n",
    "new Date() |+| new Date(36000000)"
   ]
  },
  {
   "cell_type": "markdown",
   "metadata": {},
   "source": [
    "# Functors"
   ]
  },
  {
   "cell_type": "code",
   "execution_count": null,
   "metadata": {
    "collapsed": true
   },
   "outputs": [],
   "source": [
    "val f1 = (x:Int) => x.toDouble\n",
    "val f2 = (y:Double) => y*3\n",
    "val f3 = f1 map f2\n",
    "f3(2)\n",
    "\n",
    "import cats.data.NonEmptyList\n",
    "\n",
    "val list = List(NonEmptyList(1, List(2, 3)), NonEmptyList(4, List(5, 6)))\n",
    "val lifted = list.map(nel => Option(nel))\n",
    "Monoid.combineAll(lifted)\n",
    "\n",
    "val f = (x:Int) => Map(\"number\" -> 1)\n",
    "val flifted = Functor[Option].lift(f)\n",
    "flifted(3.some)"
   ]
  },
  {
   "cell_type": "code",
   "execution_count": null,
   "metadata": {
    "collapsed": true
   },
   "outputs": [],
   "source": [
    "sealed trait Result[+A]\n",
    "final case class Success[A](value:A) extends Result[A]\n",
    "final case class Warning[A](value:A, message:String) extends Result[A]\n",
    "final case class Failure[A](value:A) extends Result[Nothing]\n",
    "\n",
    "def success[A](value:A):Result[A] = Success(value)\n",
    "def warning[A](value:A, message:String):Result[A] = Warning(value, message)\n",
    "def failure[A](value:A):Result[A] = Failure(value)\n",
    "\n",
    "implicit val resultFunctor = new Functor[Result] {\n",
    "    def map[A,B](x:Result[A])(f: A => B ):Result[B] =\n",
    "        x match {\n",
    "            case Success(x) => Success(f(x))\n",
    "            case Warning(x, msg) => Warning(f(x), msg)\n",
    "            case _:Result[_] => Failure()\n",
    "        }\n",
    "}\n",
    "\n",
    "success(100) map( _ * 2 )"
   ]
  },
  {
   "cell_type": "code",
   "execution_count": null,
   "metadata": {
    "collapsed": true
   },
   "outputs": [],
   "source": [
    "val listOpt = List(1.some, 2.some, none)\n",
    "Functor[List].compose(Functor[Option]).map(listOpt){ x => x + 3 }\n",
    "\n",
    "import cats.data.Nested\n",
    "val nested = Nested(listOpt)\n",
    "nested.map{ _ + 3 }"
   ]
  },
  {
   "cell_type": "markdown",
   "metadata": {},
   "source": [
    "# Applicatives"
   ]
  },
  {
   "cell_type": "code",
   "execution_count": null,
   "metadata": {
    "collapsed": true
   },
   "outputs": [],
   "source": []
  },
  {
   "cell_type": "markdown",
   "metadata": {},
   "source": [
    "# Monads"
   ]
  },
  {
   "cell_type": "code",
   "execution_count": null,
   "metadata": {
    "collapsed": true
   },
   "outputs": [],
   "source": [
    "sealed trait Result[+A]\n",
    "final case class Success[A](value:A) extends Result[A]\n",
    "final case class Warning[A](value:A, message:String) extends Result[A]\n",
    "final case class Failure[A](value:A) extends Result[Nothing]\n",
    "\n",
    "def success[A](value:A):Result[A] = Success(value)\n",
    "def warning[A](value:A, message:String):Result[A] = Warning(value, message)\n",
    "def failure[A](value:A):Result[A] = Failure(value)"
   ]
  },
  {
   "cell_type": "code",
   "execution_count": null,
   "metadata": {
    "collapsed": true
   },
   "outputs": [],
   "source": [
    "implicit def resultMonad = new Monad[Result] {\n",
    "\n",
    "    def flatMap[A, B](fa: Result[A])(f: A => Result[B]): Result[B] =\n",
    "        fa match {\n",
    "            case Success(x) => f(x)\n",
    "            case Warning(x, m) => f(x)\n",
    "            case Failure(x) => Failure(x)\n",
    "        }\n",
    "\n",
    "    def pure[A](x:A):Result[A] = Success(x)\n",
    "\n",
    "    @annotation.tailrec\n",
    "    def tailRecM[A, B](a: A)(f: A => Result[Either[A, B]]): Result[B] = f(a) match {\n",
    "        case Failure(x) => Failure(x)\n",
    "        case Success(Left(nextA)) => tailRecM(nextA)(f)\n",
    "        case Success(Right(b)) => Success(b)\n",
    "\n",
    "        case Warning(Left(nextA), msg) => tailRecM(nextA)(f)\n",
    "        case Warning(Right(b), msg) => Warning(b, msg)\n",
    "    }\n",
    "}\n",
    "\n",
    "warning(100, \"whatever\").flatMap{ x => Warning(x + 100, \"whatever\") }\n",
    "Monad[Result].pure(121)"
   ]
  },
  {
   "cell_type": "markdown",
   "metadata": {},
   "source": [
    "# Useful Monads"
   ]
  },
  {
   "cell_type": "markdown",
   "metadata": {},
   "source": [
    "## Either"
   ]
  },
  {
   "cell_type": "code",
   "execution_count": null,
   "metadata": {
    "collapsed": true
   },
   "outputs": [],
   "source": [
    "val either:List[Either[Int, String]] = List(Right(\"1\"), Left(2))\n",
    "\n",
    "either.map{ e => e.flatMap{ x => Right(x.toString +\" wow\") }.map{ _ + \" only to right\" } }\n",
    "\n",
    "Either.catchOnly[NumberFormatException](\"abc\".toInt)\n",
    "Either.catchNonFatal(\"abc\".toInt)"
   ]
  },
  {
   "cell_type": "markdown",
   "metadata": {},
   "source": [
    "## Custom"
   ]
  },
  {
   "cell_type": "code",
   "execution_count": null,
   "metadata": {
    "collapsed": true
   },
   "outputs": [],
   "source": [
    "def coolEquationMonad[A[_] : Monad](a:Either[Int,String], b:Either[Int,String]): A[Either[Int,String]] = {\n",
    "    val x = a.pure[A]\n",
    "    val y = b.pure[A]\n",
    "    x flatMap { x1 => y map { y1 => Right(x1.right.getOrElse(\" \") + y1.right.getOrElse(\" \")) } }\n",
    "}\n",
    "\n",
    "coolEquationMonad[Option](Right(\"bonny\"), Left(1))"
   ]
  },
  {
   "cell_type": "markdown",
   "metadata": {},
   "source": [
    "## ID"
   ]
  },
  {
   "cell_type": "code",
   "execution_count": null,
   "metadata": {
    "collapsed": true
   },
   "outputs": [],
   "source": [
    "val x:Id[Int] = 3\n",
    "x.flatMap { _ + 2 }"
   ]
  },
  {
   "cell_type": "code",
   "execution_count": null,
   "metadata": {
    "collapsed": true
   },
   "outputs": [],
   "source": [
    "Right(1) flatMap { x => Right[String, Int](x) }"
   ]
  },
  {
   "cell_type": "markdown",
   "metadata": {},
   "source": [
    "## Eval"
   ]
  },
  {
   "cell_type": "code",
   "execution_count": null,
   "metadata": {
    "collapsed": true
   },
   "outputs": [],
   "source": [
    "val x = Eval.now{ 1 + 2 }\n",
    "Eval.later{ 3 + 4 }\n",
    "Eval.always{ 5 + 6 }\n",
    "x.value"
   ]
  },
  {
   "cell_type": "code",
   "execution_count": null,
   "metadata": {
    "collapsed": true
   },
   "outputs": [],
   "source": [
    "val timedGreeting = Eval.always{ System.currentTimeMillis }.map{ x => s\"Hello user, its ${x}\" }\n",
    "timedGreeting.value"
   ]
  },
  {
   "cell_type": "code",
   "execution_count": null,
   "metadata": {
    "collapsed": true
   },
   "outputs": [],
   "source": [
    "def stackDepth: Int = Thread.currentThread.getStackTrace.length\n",
    "def loopM[M[_] : Monad](a:M[Int], b:Int): M[Int] = {\n",
    "    println(s\"Stack depth $stackDepth\")\n",
    "    b match {\n",
    "        case 0 => a\n",
    "        case n => a.flatMap{ _ => loopM(a, b-1) }\n",
    "    }\n",
    "}\n",
    "loopM(1.some, 10)\n",
    "println(\"-----------------------\")\n",
    "loopM(Eval.now(1), 10).value\n",
    "println(\"-----------------------\")\n",
    "loopM(Eval.later(1), 10).value\n",
    "println(\"-----------------------\")\n",
    "loopM(Eval.always(1), 10).value"
   ]
  },
  {
   "cell_type": "markdown",
   "metadata": {},
   "source": [
    "## Writer"
   ]
  },
  {
   "cell_type": "code",
   "execution_count": null,
   "metadata": {
    "collapsed": true
   },
   "outputs": [],
   "source": [
    "import cats.data.Writer\n",
    "\n",
    "val w = Writer(Vector(\"bhector\"), 123)\n",
    "\n",
    "type Logged[A] = Writer[Vector[String], A]\n",
    "123.pure[Logged]\n",
    "\"whatever\".pure[Logged]\n",
    "val x = List(\"bhector\").tell\n",
    "x.run"
   ]
  },
  {
   "cell_type": "code",
   "execution_count": null,
   "metadata": {
    "collapsed": true
   },
   "outputs": [],
   "source": [
    "123.pure[Logged].map{ x => x + 100 }.flatMap{ x => (x - 100).pure[Logged] }.run"
   ]
  },
  {
   "cell_type": "code",
   "execution_count": null,
   "metadata": {
    "collapsed": true
   },
   "outputs": [],
   "source": [
    "val ret = 123.pure[Logged].bimap(\n",
    "    log => log :+ \"here\", \n",
    "    result => result * 100\n",
    ").bimap(\n",
    "    log => log :+ \" we\", \n",
    "    result => result * 100\n",
    ").bimap(\n",
    "    log => log :+ \" go\", \n",
    "    result => result * 100\n",
    ").mapWritten{ x => x.map{ _.toUpperCase } }\n",
    "\n",
    "ret.run\n",
    "ret.reset"
   ]
  },
  {
   "cell_type": "markdown",
   "metadata": {},
   "source": [
    "## Reader"
   ]
  },
  {
   "cell_type": "code",
   "execution_count": null,
   "metadata": {
    "collapsed": true
   },
   "outputs": [],
   "source": [
    "import cats.data.Reader\n",
    "\n",
    "val r1 = Reader( (x:Int) => x + 3 )\n",
    "val r2 = Reader( (x:Int) => x + 2 )\n",
    "r1(10)\n",
    "\n",
    "val computation = r.map{ x => x*12 }.map{ x => x.toString }.run\n",
    "computation(10)\n",
    "\n",
    "val flatmapped = for {\n",
    "    x <- r1\n",
    "    y <- r2\n",
    "} yield x + y\n",
    "flatmapped.run.apply(10)"
   ]
  },
  {
   "cell_type": "markdown",
   "metadata": {},
   "source": [
    "## Monad Transformers"
   ]
  },
  {
   "cell_type": "code",
   "execution_count": null,
   "metadata": {
    "collapsed": true
   },
   "outputs": [],
   "source": [
    "import cats.data.OptionT\n",
    "import cats.data.EitherT\n",
    "\n",
    "type ListOption[A] = OptionT[List, A]\n",
    "42.pure[ListOption]  |+| 32.pure[ListOption]"
   ]
  },
  {
   "cell_type": "code",
   "execution_count": null,
   "metadata": {
    "collapsed": true
   },
   "outputs": [],
   "source": [
    "import scala.concurrent.Future\n",
    "import scala.util.{ Success, Failure }\n",
    "import scala.concurrent.ExecutionContext.Implicits.global\n",
    "\n",
    "type Error = Exception\n",
    "type ErrorOr[A] = Either[Error, A]\n",
    "type FutureErrorOr[A] = EitherT[Future, Error, A]\n",
    "\n",
    "val comp = (0 to 10).map{ x => x.pure[FutureErrorOr].map{ _ / 2 }.map{ x => x/x }.map{ _ + 10 } }\n",
    "\n",
    "comp.map{ _.value.value match {\n",
    "    case Some(Success(Right(x))) => x\n",
    "    case _ => 0\n",
    "} }\n",
    "\n",
    "// 0.pure[ErrorOr].map{ _ + 1 }"
   ]
  },
  {
   "cell_type": "code",
   "execution_count": null,
   "metadata": {
    "collapsed": true
   },
   "outputs": [],
   "source": [
    "3.pure[FutureErrorOr]"
   ]
  },
  {
   "cell_type": "code",
   "execution_count": null,
   "metadata": {
    "collapsed": true
   },
   "outputs": [],
   "source": [
    "val a: String => String = _.toLowerCase\n",
    "val b: String => String = _.toUpperCase\n",
    "a.pure[FutureErrorOr].map{ _ andThen b }"
   ]
  },
  {
   "cell_type": "code",
   "execution_count": null,
   "metadata": {
    "collapsed": true
   },
   "outputs": [],
   "source": [
    "Either.catchNonFatal(\"0\".toInt)"
   ]
  },
  {
   "cell_type": "code",
   "execution_count": null,
   "metadata": {
    "collapsed": true
   },
   "outputs": [],
   "source": []
  },
  {
   "cell_type": "code",
   "execution_count": null,
   "metadata": {
    "collapsed": true
   },
   "outputs": [],
   "source": [
    "trait WrappedFunction1[A, B] {\n",
    "  def f : Function1[A, B]\n",
    "  def doc: String\n",
    "  def apply(x:A):B = f(x)\n",
    "\n",
    "  def +[C](that:WrappedFunction1[B, C]):WrappedFunction1[A, C] = \n",
    "    new Wrapper[A, C](this.f andThen that.f, this.doc + \" composed with \" + that.doc)\n",
    "}\n",
    "\n",
    "class Wrapper[A, B](f1:Function1[A, B], sos:String) extends WrappedFunction1[A, B] {\n",
    "  val f = f1\n",
    "  val doc = sos\n",
    "}\n",
    "\n",
    "class ADifferentWrappedFunction1[A, B](f1:Function1[String, B], doc1:String) extends WrappedFunction1[String, B] {\n",
    "  val (f, doc) = (f1, doc1)\n",
    "}\n",
    "\n",
    "object Wrapper {\n",
    "  implicit class Wrap[A, B](f1:Function1[A, B]) {\n",
    "    def wrap(sos:String):WrappedFunction1[A, B] = new Wrapper(f1, sos)\n",
    "  }\n",
    "    \n",
    "  implicit class WrapS[A, B](f1:Function1[String, B]) {\n",
    "      def wrapS(sos:String):ADifferentWrappedFunction1[String, B] = new ADifferentWrappedFunction1[String, B](f1, sos)\n",
    "  }\n",
    "}"
   ]
  },
  {
   "cell_type": "code",
   "execution_count": null,
   "metadata": {
    "collapsed": true
   },
   "outputs": [],
   "source": [
    "import Wrapper._\n",
    "val x : String => String = _.toLowerCase\n",
    "val y : String => String = _.toUpperCase\n",
    "val z : String => List[String] = _.split(\" \").toList\n",
    "val x1 = x.wrap(\"a function for lowercasing\")\n",
    "val y1 = y.wrap(\"a function for uppercasing\")\n",
    "val z1 = z.wrap(\"a function for splitting a string\")"
   ]
  },
  {
   "cell_type": "code",
   "execution_count": null,
   "metadata": {
    "collapsed": true
   },
   "outputs": [],
   "source": [
    "println(x1(\"LOL\"))\n",
    "println(x1.doc)"
   ]
  },
  {
   "cell_type": "code",
   "execution_count": null,
   "metadata": {
    "collapsed": true
   },
   "outputs": [],
   "source": [
    "val xy = x1 + y1 + z1"
   ]
  },
  {
   "cell_type": "code",
   "execution_count": null,
   "metadata": {
    "collapsed": true
   },
   "outputs": [],
   "source": [
    "xy(\"LoL\")"
   ]
  },
  {
   "cell_type": "code",
   "execution_count": null,
   "metadata": {
    "collapsed": true
   },
   "outputs": [],
   "source": [
    "xy.doc"
   ]
  },
  {
   "cell_type": "code",
   "execution_count": null,
   "metadata": {
    "collapsed": true
   },
   "outputs": [],
   "source": []
  },
  {
   "cell_type": "code",
   "execution_count": null,
   "metadata": {
    "collapsed": true
   },
   "outputs": [],
   "source": []
  },
  {
   "cell_type": "code",
   "execution_count": null,
   "metadata": {
    "collapsed": true
   },
   "outputs": [],
   "source": [
    "val f:String => List[String] = { x => List(x, x, x) }"
   ]
  },
  {
   "cell_type": "code",
   "execution_count": null,
   "metadata": {
    "collapsed": true
   },
   "outputs": [],
   "source": [
    "f.map{ case(x:List[String]) => x.toArray }"
   ]
  },
  {
   "cell_type": "code",
   "execution_count": null,
   "metadata": {
    "collapsed": true,
    "scrolled": true
   },
   "outputs": [],
   "source": []
  },
  {
   "cell_type": "code",
   "execution_count": null,
   "metadata": {
    "collapsed": true
   },
   "outputs": [],
   "source": [
    "case class Cat[Food](food: Option[Food], foods: List[Food])"
   ]
  },
  {
   "cell_type": "code",
   "execution_count": null,
   "metadata": {
    "collapsed": true
   },
   "outputs": [],
   "source": [
    "val f = Functor[Cat]"
   ]
  },
  {
   "cell_type": "code",
   "execution_count": null,
   "metadata": {
    "collapsed": true
   },
   "outputs": [],
   "source": [
    "import cats.derived._\n",
    "val f = Functor[T]"
   ]
  },
  {
   "cell_type": "code",
   "execution_count": null,
   "metadata": {
    "collapsed": true
   },
   "outputs": [],
   "source": []
  },
  {
   "cell_type": "code",
   "execution_count": null,
   "metadata": {
    "collapsed": true
   },
   "outputs": [],
   "source": [
    "object t {\n",
    "    def toF[A: ClassTag, B:ClassTag] = Functor[Function1[A, B]]\n",
    "}"
   ]
  },
  {
   "cell_type": "code",
   "execution_count": null,
   "metadata": {
    "collapsed": true
   },
   "outputs": [],
   "source": [
    "import scala.concurrent.Future\n",
    "import scala.concurrent.ExecutionContext.Implicits.global\n",
    "\n",
    "Future{3}.map{ _ + 1 }"
   ]
  },
  {
   "cell_type": "code",
   "execution_count": null,
   "metadata": {
    "collapsed": true
   },
   "outputs": [],
   "source": [
    "Functor.pure[List]"
   ]
  },
  {
   "cell_type": "code",
   "execution_count": null,
   "metadata": {
    "collapsed": true
   },
   "outputs": [],
   "source": [
    "type AbsR[T] = Map[T, _]"
   ]
  },
  {
   "cell_type": "code",
   "execution_count": null,
   "metadata": {
    "collapsed": true
   },
   "outputs": [],
   "source": [
    "classOf[AbsR[String]]"
   ]
  },
  {
   "cell_type": "code",
   "execution_count": null,
   "metadata": {
    "collapsed": true
   },
   "outputs": [],
   "source": []
  },
  {
   "cell_type": "code",
   "execution_count": null,
   "metadata": {
    "collapsed": true
   },
   "outputs": [],
   "source": []
  },
  {
   "cell_type": "code",
   "execution_count": null,
   "metadata": {
    "collapsed": true
   },
   "outputs": [],
   "source": []
  },
  {
   "cell_type": "code",
   "execution_count": 10,
   "metadata": {},
   "outputs": [
    {
     "data": {
      "text/plain": [
       "\u001b[32mimport \u001b[39m\u001b[36mscala.language.higherKinds\u001b[39m"
      ]
     },
     "execution_count": 10,
     "metadata": {},
     "output_type": "execute_result"
    }
   ],
   "source": [
    "import scala.language.higherKinds"
   ]
  },
  {
   "cell_type": "code",
   "execution_count": 11,
   "metadata": {},
   "outputs": [
    {
     "data": {
      "text/plain": [
       "defined \u001b[32mclass\u001b[39m \u001b[36mAbstract\u001b[39m"
      ]
     },
     "execution_count": 11,
     "metadata": {},
     "output_type": "execute_result"
    }
   ],
   "source": [
    "case class Abstract[M[_], A, B](f:M[A] => M[B]) {\n",
    "    def fn: M[A] => M[B] = { case x: M[A] => f(x) }\n",
    "}"
   ]
  },
  {
   "cell_type": "code",
   "execution_count": 33,
   "metadata": {},
   "outputs": [
    {
     "data": {
      "text/plain": [
       "defined \u001b[32mclass\u001b[39m \u001b[36mAbstractAPI\u001b[39m"
      ]
     },
     "execution_count": 33,
     "metadata": {},
     "output_type": "execute_result"
    }
   ],
   "source": [
    "case class AbstractAPI[E]() {\n",
    "    type AbsO[T] = Abstract[List, E, T]\n",
    "    def empty[T] = new Abstract[List, E, T]({ x:List[E] => List.empty[T] })\n",
    "\n",
    "    implicit val abstractO: Functor[AbsO] = new Functor[AbsO] {\n",
    "        def map[A, B](fa: AbsO[A])(f: A => B): AbsO[B] = {\n",
    "            new Abstract(fa.fn andThen { x: List[A] => x.map{ y => f(y) } })\n",
    "        }\n",
    "    }\n",
    "    \n",
    "    def instance = abstractO\n",
    "}"
   ]
  },
  {
   "cell_type": "code",
   "execution_count": 35,
   "metadata": {},
   "outputs": [
    {
     "data": {
      "text/plain": [
       "defined \u001b[32mobject\u001b[39m \u001b[36mAbstractAPI\u001b[39m"
      ]
     },
     "execution_count": 35,
     "metadata": {},
     "output_type": "execute_result"
    }
   ],
   "source": [
    "object AbstractAPI {\n",
    "    def apply[T] = (new AbstractAPI[T]).instance\n",
    "}"
   ]
  },
  {
   "cell_type": "code",
   "execution_count": 39,
   "metadata": {},
   "outputs": [
    {
     "data": {
      "text/plain": [
       "\u001b[36mapi\u001b[39m: \u001b[32mFunctor\u001b[39m[\u001b[32mAbstract\u001b[39m[\u001b[32mList\u001b[39m[\u001b[32mA\u001b[39m], \u001b[32mInt\u001b[39m, \u001b[32mT\u001b[39m]] = $sess.cmd32Wrapper$Helper$AbstractAPI$$anon$1@ad12fab"
      ]
     },
     "execution_count": 39,
     "metadata": {},
     "output_type": "execute_result"
    }
   ],
   "source": [
    "implicit val api = AbstractAPI[Int]"
   ]
  },
  {
   "cell_type": "code",
   "execution_count": null,
   "metadata": {
    "collapsed": true
   },
   "outputs": [],
   "source": []
  },
  {
   "cell_type": "code",
   "execution_count": null,
   "metadata": {
    "collapsed": true
   },
   "outputs": [],
   "source": []
  },
  {
   "cell_type": "code",
   "execution_count": null,
   "metadata": {
    "collapsed": true
   },
   "outputs": [],
   "source": []
  },
  {
   "cell_type": "code",
   "execution_count": null,
   "metadata": {
    "collapsed": true
   },
   "outputs": [],
   "source": []
  },
  {
   "cell_type": "code",
   "execution_count": 29,
   "metadata": {},
   "outputs": [
    {
     "data": {
      "text/plain": [
       "\u001b[36mevidence\u001b[39m: \u001b[32mFunctor\u001b[39m[\u001b[32mAbstract\u001b[39m[\u001b[32mList\u001b[39m[\u001b[32mA\u001b[39m], \u001b[32mNothing\u001b[39m, \u001b[32mT\u001b[39m]] = $sess.cmd22Wrapper$Helper$AbstractAPI$$anon$1@464a59e4"
      ]
     },
     "execution_count": 29,
     "metadata": {},
     "output_type": "execute_result"
    }
   ],
   "source": [
    "implicit val evidence = AbstractAPI[Int].instance"
   ]
  },
  {
   "cell_type": "code",
   "execution_count": 38,
   "metadata": {},
   "outputs": [
    {
     "data": {
      "text/plain": [
       "\u001b[36mf\u001b[39m: \u001b[32mList\u001b[39m[\u001b[32mInt\u001b[39m] => \u001b[32mList\u001b[39m[\u001b[32mString\u001b[39m] = <function1>"
      ]
     },
     "execution_count": 38,
     "metadata": {},
     "output_type": "execute_result"
    }
   ],
   "source": [
    "val f:List[Int] => List[String] = { case x: List[Int] => x.map{ _.toString.toLowerCase } }"
   ]
  },
  {
   "cell_type": "code",
   "execution_count": 42,
   "metadata": {},
   "outputs": [
    {
     "data": {
      "text/plain": [
       "\u001b[36mx\u001b[39m: \u001b[32mAbstract\u001b[39m[\u001b[32mList\u001b[39m, \u001b[32mInt\u001b[39m, (\u001b[32mInt\u001b[39m, \u001b[32mString\u001b[39m)] = \u001b[33mAbstract\u001b[39m(<function1>)"
      ]
     },
     "execution_count": 42,
     "metadata": {},
     "output_type": "execute_result"
    }
   ],
   "source": [
    "val x = (new Abstract(f)).map{ x => x.toString }.map{ x => x.toInt }.map{ x => x.toFloat }.map{ x => (x.toInt, \"lol\") }"
   ]
  },
  {
   "cell_type": "code",
   "execution_count": 43,
   "metadata": {},
   "outputs": [
    {
     "data": {
      "text/plain": [
       "\u001b[36mres42\u001b[39m: \u001b[32mList\u001b[39m[(\u001b[32mInt\u001b[39m, \u001b[32mString\u001b[39m)] = \u001b[33mList\u001b[39m((\u001b[32m1\u001b[39m, \u001b[32m\"lol\"\u001b[39m), (\u001b[32m2\u001b[39m, \u001b[32m\"lol\"\u001b[39m), (\u001b[32m3\u001b[39m, \u001b[32m\"lol\"\u001b[39m), (\u001b[32m4\u001b[39m, \u001b[32m\"lol\"\u001b[39m), (\u001b[32m5\u001b[39m, \u001b[32m\"lol\"\u001b[39m))"
      ]
     },
     "execution_count": 43,
     "metadata": {},
     "output_type": "execute_result"
    }
   ],
   "source": [
    "x.fn(List(1,2,3,4,5))"
   ]
  },
  {
   "cell_type": "code",
   "execution_count": null,
   "metadata": {
    "collapsed": true
   },
   "outputs": [],
   "source": []
  }
 ],
 "metadata": {
  "kernelspec": {
   "display_name": "Scala (develop)",
   "language": "scala",
   "name": "scala-develop"
  },
  "language_info": {
   "codemirror_mode": "text/x-scala",
   "file_extension": ".scala",
   "mimetype": "text/x-scala",
   "name": "scala211",
   "nbconvert_exporter": "script",
   "pygments_lexer": "scala",
   "version": "2.11.8"
  }
 },
 "nbformat": 4,
 "nbformat_minor": 2
}
