{
 "cells": [
  {
   "cell_type": "code",
   "execution_count": 5,
   "metadata": {
    "scrolled": true
   },
   "outputs": [],
   "source": [
    "interp.load.ivy(\"org.typelevel\" %% \"cats\" % \"0.9.0\")"
   ]
  },
  {
   "cell_type": "code",
   "execution_count": 6,
   "metadata": {},
   "outputs": [
    {
     "data": {
      "text/plain": [
       "\u001b[32mimport \u001b[39m\u001b[36mcats._\n",
       "\u001b[39m\n",
       "\u001b[32mimport \u001b[39m\u001b[36mcats.syntax._\n",
       "\u001b[39m\n",
       "\u001b[32mimport \u001b[39m\u001b[36mcats.implicits._\n",
       "\u001b[39m\n",
       "\u001b[32mimport \u001b[39m\u001b[36mcats.instances.all._\u001b[39m"
      ]
     },
     "execution_count": 6,
     "metadata": {},
     "output_type": "execute_result"
    }
   ],
   "source": [
    "import cats._\n",
    "import cats.syntax._\n",
    "import cats.implicits._\n",
    "import cats.instances.all._"
   ]
  },
  {
   "cell_type": "markdown",
   "metadata": {
    "collapsed": true
   },
   "source": [
    "# Typeclasses"
   ]
  },
  {
   "cell_type": "code",
   "execution_count": 5,
   "metadata": {},
   "outputs": [
    {
     "data": {
      "text/plain": [
       "\u001b[36mshown\u001b[39m: \u001b[32mString\u001b[39m = \u001b[32m\"Map(ajda -> 3254.2345)\"\u001b[39m\n",
       "\u001b[36mshown1\u001b[39m: \u001b[32mString\u001b[39m = \u001b[32m\"Map(ajda -> 3254.2345)\"\u001b[39m"
      ]
     },
     "execution_count": 5,
     "metadata": {},
     "output_type": "execute_result"
    }
   ],
   "source": [
    "val shown = Show.apply[Map[String,Double]].show(Map(\"ajda\" -> 3254.2345))\n",
    "val shown1 = Map(\"ajda\" -> 3254.2345).show"
   ]
  },
  {
   "cell_type": "code",
   "execution_count": 6,
   "metadata": {},
   "outputs": [
    {
     "data": {
      "text/plain": [
       "\u001b[32mimport \u001b[39m\u001b[36mjava.util.Date\n",
       "\n",
       "\u001b[39m\n",
       "\u001b[36mdateShow\u001b[39m: \u001b[32mShow\u001b[39m[\u001b[32mjava\u001b[39m.\u001b[32mutil\u001b[39m.\u001b[32mDate\u001b[39m] = cats.Show$$anon$2@3612a08a"
      ]
     },
     "execution_count": 6,
     "metadata": {},
     "output_type": "execute_result"
    }
   ],
   "source": [
    "import java.util.Date\n",
    "\n",
    "implicit val dateShow = Show.show[Date] { date =>\n",
    "    s\"${date.getTime} milliseconds since epoch\"\n",
    "}"
   ]
  },
  {
   "cell_type": "code",
   "execution_count": 7,
   "metadata": {},
   "outputs": [
    {
     "data": {
      "text/plain": [
       "\u001b[36mres6\u001b[39m: \u001b[32mString\u001b[39m = \u001b[32m\"1492781480234 milliseconds since epoch\"\u001b[39m"
      ]
     },
     "execution_count": 7,
     "metadata": {},
     "output_type": "execute_result"
    }
   ],
   "source": [
    "new Date().show"
   ]
  },
  {
   "cell_type": "code",
   "execution_count": 8,
   "metadata": {},
   "outputs": [
    {
     "data": {
      "text/plain": [
       "\u001b[36meqInt\u001b[39m: \u001b[32mEq\u001b[39m[\u001b[32mInt\u001b[39m] = cats.kernel.instances.IntOrder@68f187b9\n",
       "\u001b[36mres7_1\u001b[39m: \u001b[32mBoolean\u001b[39m = \u001b[32mtrue\u001b[39m\n",
       "\u001b[36mres7_2\u001b[39m: \u001b[32mBoolean\u001b[39m = \u001b[32mfalse\u001b[39m\n",
       "\u001b[36mres7_3\u001b[39m: \u001b[32mBoolean\u001b[39m = \u001b[32mtrue\u001b[39m\n",
       "\u001b[36mres7_4\u001b[39m: \u001b[32mBoolean\u001b[39m = \u001b[32mfalse\u001b[39m\n",
       "\u001b[36mdateEq\u001b[39m: \u001b[32mEq\u001b[39m[\u001b[32mDate\u001b[39m] = cats.kernel.Eq$$anon$115@e01ac0\n",
       "\u001b[36mres7_6\u001b[39m: \u001b[32mBoolean\u001b[39m = \u001b[32mtrue\u001b[39m"
      ]
     },
     "execution_count": 8,
     "metadata": {},
     "output_type": "execute_result"
    }
   ],
   "source": [
    "val eqInt = Eq[Int]\n",
    "eqInt.eqv(123, 123)\n",
    "\n",
    "123 =!= 123\n",
    "\n",
    "Map(\"lol\" -> List(1.2), \"lel\" -> List(2.1)) === Map(\"lel\" -> List(2.1), \"lol\" -> List(1.2))\n",
    "\n",
    "1.some === None\n",
    "\n",
    "implicit val dateEq = Eq.instance[Date] { (x,y) => x.getTime == y.getTime }\n",
    "\n",
    "new Date() === new Date() // weird mix of side effects, you see this now?!"
   ]
  },
  {
   "cell_type": "markdown",
   "metadata": {
    "collapsed": true
   },
   "source": [
    "# Monoids"
   ]
  },
  {
   "cell_type": "code",
   "execution_count": 8,
   "metadata": {},
   "outputs": [
    {
     "data": {
      "text/plain": [
       "\u001b[36mres7_0\u001b[39m: \u001b[32mOption\u001b[39m[\u001b[32mInt\u001b[39m] = \u001b[33mSome\u001b[39m(\u001b[32m7\u001b[39m)\n",
       "\u001b[36mres7_1\u001b[39m: \u001b[32mBoolean\u001b[39m = \u001b[32mfalse\u001b[39m\n",
       "\u001b[36mdateMonoid\u001b[39m: \u001b[32mAnyRef\u001b[39m with \u001b[32mMonoid\u001b[39m[\u001b[32mDate\u001b[39m] = $sess.cmd7Wrapper$Helper$$anon$1@256a5bdc\n",
       "\u001b[36mres7_3\u001b[39m: \u001b[32mDate\u001b[39m = Sat Mar 25 00:02:12 IST 2017"
      ]
     },
     "execution_count": 8,
     "metadata": {},
     "output_type": "execute_result"
    }
   ],
   "source": [
    "3.some |+| 4.some\n",
    "\n",
    "3.some === none[Int]\n",
    "\n",
    "implicit val dateMonoid = new Monoid[Date] {\n",
    "    def empty = new Date(0)\n",
    "    def combine(x:Date, y:Date):Date = new Date(x.getTime + y.getTime)\n",
    "}\n",
    "\n",
    "new Date() |+| new Date(36000000)"
   ]
  },
  {
   "cell_type": "markdown",
   "metadata": {},
   "source": [
    "# Functors"
   ]
  },
  {
   "cell_type": "code",
   "execution_count": 9,
   "metadata": {},
   "outputs": [
    {
     "data": {
      "text/plain": [
       "\u001b[36mf1\u001b[39m: \u001b[32mInt\u001b[39m => \u001b[32mDouble\u001b[39m = <function1>\n",
       "\u001b[36mf2\u001b[39m: \u001b[32mDouble\u001b[39m => \u001b[32mDouble\u001b[39m = <function1>\n",
       "\u001b[36mf3\u001b[39m: \u001b[32mInt\u001b[39m => \u001b[32mDouble\u001b[39m = <function1>\n",
       "\u001b[36mres8_3\u001b[39m: \u001b[32mDouble\u001b[39m = \u001b[32m6.0\u001b[39m\n",
       "\u001b[32mimport \u001b[39m\u001b[36mcats.data.NonEmptyList\n",
       "\n",
       "\u001b[39m\n",
       "\u001b[36mlist\u001b[39m: \u001b[32mList\u001b[39m[\u001b[32mdata\u001b[39m.\u001b[32mNonEmptyList\u001b[39m[\u001b[32mInt\u001b[39m]] = \u001b[33mList\u001b[39m(NonEmptyList(1, 2, 3), NonEmptyList(4, 5, 6))\n",
       "\u001b[36mlifted\u001b[39m: \u001b[32mList\u001b[39m[\u001b[32mOption\u001b[39m[\u001b[32mdata\u001b[39m.\u001b[32mNonEmptyList\u001b[39m[\u001b[32mInt\u001b[39m]]] = \u001b[33mList\u001b[39m(\u001b[33mSome\u001b[39m(NonEmptyList(1, 2, 3)), \u001b[33mSome\u001b[39m(NonEmptyList(4, 5, 6)))\n",
       "\u001b[36mres8_7\u001b[39m: \u001b[32mOption\u001b[39m[\u001b[32mdata\u001b[39m.\u001b[32mNonEmptyList\u001b[39m[\u001b[32mInt\u001b[39m]] = \u001b[33mSome\u001b[39m(NonEmptyList(1, 2, 3, 4, 5, 6))\n",
       "\u001b[36mf\u001b[39m: \u001b[32mInt\u001b[39m => \u001b[32mMap\u001b[39m[\u001b[32mString\u001b[39m, \u001b[32mInt\u001b[39m] = <function1>\n",
       "\u001b[36mflifted\u001b[39m: \u001b[32mOption\u001b[39m[\u001b[32mInt\u001b[39m] => \u001b[32mOption\u001b[39m[\u001b[32mMap\u001b[39m[\u001b[32mString\u001b[39m, \u001b[32mInt\u001b[39m]] = <function1>\n",
       "\u001b[36mres8_10\u001b[39m: \u001b[32mOption\u001b[39m[\u001b[32mMap\u001b[39m[\u001b[32mString\u001b[39m, \u001b[32mInt\u001b[39m]] = \u001b[33mSome\u001b[39m(\u001b[33mMap\u001b[39m(\u001b[32m\"number\"\u001b[39m -> \u001b[32m1\u001b[39m))"
      ]
     },
     "execution_count": 9,
     "metadata": {},
     "output_type": "execute_result"
    }
   ],
   "source": [
    "val f1 = (x:Int) => x.toDouble\n",
    "val f2 = (y:Double) => y*3\n",
    "val f3 = f1 map f2\n",
    "f3(2)\n",
    "\n",
    "import cats.data.NonEmptyList\n",
    "\n",
    "val list = List(NonEmptyList(1, List(2, 3)), NonEmptyList(4, List(5, 6)))\n",
    "val lifted = list.map(nel => Option(nel))\n",
    "Monoid.combineAll(lifted)\n",
    "\n",
    "val f = (x:Int) => Map(\"number\" -> 1)\n",
    "val flifted = Functor[Option].lift(f)\n",
    "flifted(3.some)"
   ]
  },
  {
   "cell_type": "code",
   "execution_count": 10,
   "metadata": {},
   "outputs": [
    {
     "data": {
      "text/plain": [
       "defined \u001b[32mtrait\u001b[39m \u001b[36mResult\u001b[39m\n",
       "defined \u001b[32mclass\u001b[39m \u001b[36mSuccess\u001b[39m\n",
       "defined \u001b[32mclass\u001b[39m \u001b[36mWarning\u001b[39m\n",
       "defined \u001b[32mclass\u001b[39m \u001b[36mFailure\u001b[39m\n",
       "defined \u001b[32mfunction\u001b[39m \u001b[36msuccess\u001b[39m\n",
       "defined \u001b[32mfunction\u001b[39m \u001b[36mwarning\u001b[39m\n",
       "defined \u001b[32mfunction\u001b[39m \u001b[36mfailure\u001b[39m\n",
       "\u001b[36mresultFunctor\u001b[39m: \u001b[32mAnyRef\u001b[39m with \u001b[32mFunctor\u001b[39m[\u001b[32mResult\u001b[39m] = $sess.cmd9Wrapper$Helper$$anon$1@151993de\n",
       "\u001b[36mres9_8\u001b[39m: \u001b[32mResult\u001b[39m[\u001b[32mInt\u001b[39m] = Success(200)"
      ]
     },
     "execution_count": 10,
     "metadata": {},
     "output_type": "execute_result"
    }
   ],
   "source": [
    "sealed trait Result[+A]\n",
    "final case class Success[A](value:A) extends Result[A]\n",
    "final case class Warning[A](value:A, message:String) extends Result[A]\n",
    "final case class Failure[A](value:A) extends Result[Nothing]\n",
    "\n",
    "def success[A](value:A):Result[A] = Success(value)\n",
    "def warning[A](value:A, message:String):Result[A] = Warning(value, message)\n",
    "def failure[A](value:A):Result[A] = Failure(value)\n",
    "\n",
    "implicit val resultFunctor = new Functor[Result] {\n",
    "    def map[A,B](x:Result[A])(f: A => B ):Result[B] =\n",
    "        x match {\n",
    "            case Success(x) => Success(f(x))\n",
    "            case Warning(x, msg) => Warning(f(x), msg)\n",
    "            case _:Result[_] => Failure()\n",
    "        }\n",
    "}\n",
    "\n",
    "success(100) map( _ * 2 )"
   ]
  },
  {
   "cell_type": "code",
   "execution_count": 11,
   "metadata": {},
   "outputs": [
    {
     "data": {
      "text/plain": [
       "\u001b[36mlistOpt\u001b[39m: \u001b[32mList\u001b[39m[\u001b[32mOption\u001b[39m[\u001b[32mInt\u001b[39m]] = \u001b[33mList\u001b[39m(\u001b[33mSome\u001b[39m(\u001b[32m1\u001b[39m), \u001b[33mSome\u001b[39m(\u001b[32m2\u001b[39m), None)\n",
       "\u001b[36mres10_1\u001b[39m: \u001b[32mList\u001b[39m[\u001b[32mOption\u001b[39m[\u001b[32mInt\u001b[39m]] = \u001b[33mList\u001b[39m(\u001b[33mSome\u001b[39m(\u001b[32m4\u001b[39m), \u001b[33mSome\u001b[39m(\u001b[32m5\u001b[39m), None)\n",
       "\u001b[32mimport \u001b[39m\u001b[36mcats.data.Nested\n",
       "\u001b[39m\n",
       "\u001b[36mnested\u001b[39m: \u001b[32mdata\u001b[39m.\u001b[32mNested\u001b[39m[\u001b[32mList\u001b[39m, \u001b[32mOption\u001b[39m, \u001b[32mInt\u001b[39m] = \u001b[33mNested\u001b[39m(\u001b[33mList\u001b[39m(\u001b[33mSome\u001b[39m(\u001b[32m1\u001b[39m), \u001b[33mSome\u001b[39m(\u001b[32m2\u001b[39m), None))\n",
       "\u001b[36mres10_4\u001b[39m: \u001b[32mdata\u001b[39m.\u001b[32mNested\u001b[39m[\u001b[32mList\u001b[39m, \u001b[32mOption\u001b[39m, \u001b[32mInt\u001b[39m] = \u001b[33mNested\u001b[39m(\u001b[33mList\u001b[39m(\u001b[33mSome\u001b[39m(\u001b[32m4\u001b[39m), \u001b[33mSome\u001b[39m(\u001b[32m5\u001b[39m), None))"
      ]
     },
     "execution_count": 11,
     "metadata": {},
     "output_type": "execute_result"
    }
   ],
   "source": [
    "val listOpt = List(1.some, 2.some, none)\n",
    "Functor[List].compose(Functor[Option]).map(listOpt){ x => x + 3 }\n",
    "\n",
    "import cats.data.Nested\n",
    "val nested = Nested(listOpt)\n",
    "nested.map{ _ + 3 }"
   ]
  },
  {
   "cell_type": "markdown",
   "metadata": {},
   "source": [
    "# Applicatives"
   ]
  },
  {
   "cell_type": "code",
   "execution_count": null,
   "metadata": {
    "collapsed": true
   },
   "outputs": [],
   "source": []
  },
  {
   "cell_type": "markdown",
   "metadata": {},
   "source": [
    "# Monads"
   ]
  },
  {
   "cell_type": "code",
   "execution_count": 12,
   "metadata": {},
   "outputs": [
    {
     "data": {
      "text/plain": [
       "defined \u001b[32mtrait\u001b[39m \u001b[36mResult\u001b[39m\n",
       "defined \u001b[32mclass\u001b[39m \u001b[36mSuccess\u001b[39m\n",
       "defined \u001b[32mclass\u001b[39m \u001b[36mWarning\u001b[39m\n",
       "defined \u001b[32mclass\u001b[39m \u001b[36mFailure\u001b[39m\n",
       "defined \u001b[32mfunction\u001b[39m \u001b[36msuccess\u001b[39m\n",
       "defined \u001b[32mfunction\u001b[39m \u001b[36mwarning\u001b[39m\n",
       "defined \u001b[32mfunction\u001b[39m \u001b[36mfailure\u001b[39m"
      ]
     },
     "execution_count": 12,
     "metadata": {},
     "output_type": "execute_result"
    }
   ],
   "source": [
    "sealed trait Result[+A]\n",
    "final case class Success[A](value:A) extends Result[A]\n",
    "final case class Warning[A](value:A, message:String) extends Result[A]\n",
    "final case class Failure[A](value:A) extends Result[Nothing]\n",
    "\n",
    "def success[A](value:A):Result[A] = Success(value)\n",
    "def warning[A](value:A, message:String):Result[A] = Warning(value, message)\n",
    "def failure[A](value:A):Result[A] = Failure(value)"
   ]
  },
  {
   "cell_type": "code",
   "execution_count": 13,
   "metadata": {},
   "outputs": [
    {
     "data": {
      "text/plain": [
       "defined \u001b[32mfunction\u001b[39m \u001b[36mresultMonad\u001b[39m\n",
       "\u001b[36mres12_1\u001b[39m: \u001b[32mResult\u001b[39m[\u001b[32mInt\u001b[39m] = Warning(200,whatever)\n",
       "\u001b[36mres12_2\u001b[39m: \u001b[32mResult\u001b[39m[\u001b[32mInt\u001b[39m] = Success(121)"
      ]
     },
     "execution_count": 13,
     "metadata": {},
     "output_type": "execute_result"
    }
   ],
   "source": [
    "implicit def resultMonad = new Monad[Result] {\n",
    "\n",
    "    def flatMap[A, B](fa: Result[A])(f: A => Result[B]): Result[B] =\n",
    "        fa match {\n",
    "            case Success(x) => f(x)\n",
    "            case Warning(x, m) => f(x)\n",
    "            case Failure(x) => Failure(x)\n",
    "        }\n",
    "\n",
    "    def pure[A](x:A):Result[A] = Success(x)\n",
    "\n",
    "    @annotation.tailrec\n",
    "    def tailRecM[A, B](a: A)(f: A => Result[Either[A, B]]): Result[B] = f(a) match {\n",
    "        case Failure(x) => Failure(x)\n",
    "        case Success(Left(nextA)) => tailRecM(nextA)(f)\n",
    "        case Success(Right(b)) => Success(b)\n",
    "\n",
    "        case Warning(Left(nextA), msg) => tailRecM(nextA)(f)\n",
    "        case Warning(Right(b), msg) => Warning(b, msg)\n",
    "    }\n",
    "}\n",
    "\n",
    "warning(100, \"whatever\").flatMap{ x => Warning(x + 100, \"whatever\") }\n",
    "Monad[Result].pure(121)"
   ]
  },
  {
   "cell_type": "markdown",
   "metadata": {},
   "source": [
    "# Useful Monads"
   ]
  },
  {
   "cell_type": "markdown",
   "metadata": {},
   "source": [
    "## Either"
   ]
  },
  {
   "cell_type": "code",
   "execution_count": 15,
   "metadata": {},
   "outputs": [
    {
     "data": {
      "text/plain": [
       "\u001b[36meither\u001b[39m: \u001b[32mList\u001b[39m[\u001b[32mEither\u001b[39m[\u001b[32mInt\u001b[39m, \u001b[32mString\u001b[39m]] = \u001b[33mList\u001b[39m(\u001b[33mRight\u001b[39m(\u001b[32m\"1\"\u001b[39m), \u001b[33mLeft\u001b[39m(\u001b[32m2\u001b[39m))\n",
       "\u001b[36mres14_1\u001b[39m: \u001b[32mList\u001b[39m[\u001b[32mEither\u001b[39m[\u001b[32mInt\u001b[39m, \u001b[32mString\u001b[39m]] = \u001b[33mList\u001b[39m(\u001b[33mRight\u001b[39m(\u001b[32m\"1 wow only to right\"\u001b[39m), \u001b[33mLeft\u001b[39m(\u001b[32m2\u001b[39m))\n",
       "\u001b[36mres14_2\u001b[39m: \u001b[32mEither\u001b[39m[\u001b[32mNumberFormatException\u001b[39m, \u001b[32mInt\u001b[39m] = \u001b[33mLeft\u001b[39m(java.lang.NumberFormatException: For input string: \"abc\")\n",
       "\u001b[36mres14_3\u001b[39m: \u001b[32mEither\u001b[39m[\u001b[32mThrowable\u001b[39m, \u001b[32mInt\u001b[39m] = \u001b[33mLeft\u001b[39m(java.lang.NumberFormatException: For input string: \"abc\")"
      ]
     },
     "execution_count": 15,
     "metadata": {},
     "output_type": "execute_result"
    }
   ],
   "source": [
    "val either:List[Either[Int, String]] = List(Right(\"1\"), Left(2))\n",
    "\n",
    "either.map{ e => e.flatMap{ x => Right(x.toString +\" wow\") }.map{ _ + \" only to right\" } }\n",
    "\n",
    "Either.catchOnly[NumberFormatException](\"abc\".toInt)\n",
    "Either.catchNonFatal(\"abc\".toInt)"
   ]
  },
  {
   "cell_type": "markdown",
   "metadata": {},
   "source": [
    "## Custom"
   ]
  },
  {
   "cell_type": "code",
   "execution_count": 35,
   "metadata": {},
   "outputs": [
    {
     "data": {
      "text/plain": [
       "defined \u001b[32mfunction\u001b[39m \u001b[36mcoolEquationMonad\u001b[39m\n",
       "\u001b[36mres34_1\u001b[39m: \u001b[32mOption\u001b[39m[\u001b[32mEither\u001b[39m[\u001b[32mInt\u001b[39m, \u001b[32mString\u001b[39m]] = \u001b[33mSome\u001b[39m(\u001b[33mRight\u001b[39m(\u001b[32m\"bonny \"\u001b[39m))"
      ]
     },
     "execution_count": 35,
     "metadata": {},
     "output_type": "execute_result"
    }
   ],
   "source": [
    "def coolEquationMonad[A[_] : Monad](a:Either[Int,String], b:Either[Int,String]): A[Either[Int,String]] = {\n",
    "    val x = a.pure[A]\n",
    "    val y = b.pure[A]\n",
    "    x flatMap { x1 => y map { y1 => Right(x1.right.getOrElse(\" \") + y1.right.getOrElse(\" \")) } }\n",
    "}\n",
    "\n",
    "coolEquationMonad[Option](Right(\"bonny\"), Left(1))"
   ]
  },
  {
   "cell_type": "markdown",
   "metadata": {},
   "source": [
    "## ID"
   ]
  },
  {
   "cell_type": "code",
   "execution_count": 30,
   "metadata": {},
   "outputs": [
    {
     "data": {
      "text/plain": [
       "\u001b[36mx\u001b[39m: \u001b[32mId\u001b[39m[\u001b[32mInt\u001b[39m] = \u001b[32m3\u001b[39m\n",
       "\u001b[36mres29_1\u001b[39m: \u001b[32mId\u001b[39m[\u001b[32mInt\u001b[39m] = \u001b[32m5\u001b[39m"
      ]
     },
     "execution_count": 30,
     "metadata": {},
     "output_type": "execute_result"
    }
   ],
   "source": [
    "val x:Id[Int] = 3\n",
    "x.flatMap { _ + 2 }"
   ]
  },
  {
   "cell_type": "code",
   "execution_count": 34,
   "metadata": {},
   "outputs": [
    {
     "data": {
      "text/plain": [
       "\u001b[36mres33\u001b[39m: \u001b[32mEither\u001b[39m[\u001b[32mString\u001b[39m, \u001b[32mInt\u001b[39m] = \u001b[33mRight\u001b[39m(\u001b[32m1\u001b[39m)"
      ]
     },
     "execution_count": 34,
     "metadata": {},
     "output_type": "execute_result"
    }
   ],
   "source": [
    "Right(1) flatMap { x => Right[String, Int](x) }"
   ]
  },
  {
   "cell_type": "markdown",
   "metadata": {},
   "source": [
    "## Eval"
   ]
  },
  {
   "cell_type": "code",
   "execution_count": 37,
   "metadata": {},
   "outputs": [
    {
     "data": {
      "text/plain": [
       "\u001b[36mx\u001b[39m: \u001b[32mEval\u001b[39m[\u001b[32mInt\u001b[39m] = \u001b[33mNow\u001b[39m(\u001b[32m3\u001b[39m)\n",
       "\u001b[36mres36_1\u001b[39m: \u001b[32mEval\u001b[39m[\u001b[32mInt\u001b[39m] = cats.Later@5e545bd9\n",
       "\u001b[36mres36_2\u001b[39m: \u001b[32mEval\u001b[39m[\u001b[32mInt\u001b[39m] = cats.Always@3bf56bb9\n",
       "\u001b[36mres36_3\u001b[39m: \u001b[32mInt\u001b[39m = \u001b[32m3\u001b[39m"
      ]
     },
     "execution_count": 37,
     "metadata": {},
     "output_type": "execute_result"
    }
   ],
   "source": [
    "val x = Eval.now{ 1 + 2 }\n",
    "Eval.later{ 3 + 4 }\n",
    "Eval.always{ 5 + 6 }\n",
    "x.value"
   ]
  },
  {
   "cell_type": "code",
   "execution_count": 42,
   "metadata": {},
   "outputs": [
    {
     "data": {
      "text/plain": [
       "\u001b[36mtimedGreeting\u001b[39m: \u001b[32mEval\u001b[39m[\u001b[32mString\u001b[39m] = cats.Eval$$anon$8@4148b1f8\n",
       "\u001b[36mres41_1\u001b[39m: \u001b[32mString\u001b[39m = \u001b[32m\"Hello user, its 1490350146959\"\u001b[39m"
      ]
     },
     "execution_count": 42,
     "metadata": {},
     "output_type": "execute_result"
    }
   ],
   "source": [
    "val timedGreeting = Eval.always{ System.currentTimeMillis }.map{ x => s\"Hello user, its ${x}\" }\n",
    "timedGreeting.value"
   ]
  },
  {
   "cell_type": "code",
   "execution_count": 48,
   "metadata": {},
   "outputs": [
    {
     "name": "stdout",
     "output_type": "stream",
     "text": [
      "Stack depth 79\n",
      "Stack depth 87\n",
      "Stack depth 95\n",
      "Stack depth 103\n",
      "Stack depth 111\n",
      "Stack depth 119\n",
      "Stack depth 127\n",
      "Stack depth 135\n",
      "Stack depth 143\n",
      "Stack depth 151\n",
      "Stack depth 159\n",
      "-----------------------\n",
      "Stack depth 79\n",
      "Stack depth 83\n",
      "Stack depth 83\n",
      "Stack depth 83\n",
      "Stack depth 83\n",
      "Stack depth 83\n",
      "Stack depth 83\n",
      "Stack depth 83\n",
      "Stack depth 83\n",
      "Stack depth 83\n",
      "Stack depth 83\n",
      "-----------------------\n",
      "Stack depth 79\n",
      "Stack depth 83\n",
      "Stack depth 83\n",
      "Stack depth 83\n",
      "Stack depth 83\n",
      "Stack depth 83\n",
      "Stack depth 83\n",
      "Stack depth 83\n",
      "Stack depth 83\n",
      "Stack depth 83\n",
      "Stack depth 83\n",
      "-----------------------\n",
      "Stack depth 79\n",
      "Stack depth 83\n",
      "Stack depth 83\n",
      "Stack depth 83\n",
      "Stack depth 83\n",
      "Stack depth 83\n",
      "Stack depth 83\n",
      "Stack depth 83\n",
      "Stack depth 83\n",
      "Stack depth 83\n",
      "Stack depth 83\n"
     ]
    },
    {
     "data": {
      "text/plain": [
       "defined \u001b[32mfunction\u001b[39m \u001b[36mstackDepth\u001b[39m\n",
       "defined \u001b[32mfunction\u001b[39m \u001b[36mloopM\u001b[39m\n",
       "\u001b[36mres47_2\u001b[39m: \u001b[32mOption\u001b[39m[\u001b[32mInt\u001b[39m] = \u001b[33mSome\u001b[39m(\u001b[32m1\u001b[39m)\n",
       "\u001b[36mres47_4\u001b[39m: \u001b[32mInt\u001b[39m = \u001b[32m1\u001b[39m\n",
       "\u001b[36mres47_6\u001b[39m: \u001b[32mInt\u001b[39m = \u001b[32m1\u001b[39m\n",
       "\u001b[36mres47_8\u001b[39m: \u001b[32mInt\u001b[39m = \u001b[32m1\u001b[39m"
      ]
     },
     "execution_count": 48,
     "metadata": {},
     "output_type": "execute_result"
    }
   ],
   "source": [
    "def stackDepth: Int = Thread.currentThread.getStackTrace.length\n",
    "def loopM[M[_] : Monad](a:M[Int], b:Int): M[Int] = {\n",
    "    println(s\"Stack depth $stackDepth\")\n",
    "    b match {\n",
    "        case 0 => a\n",
    "        case n => a.flatMap{ _ => loopM(a, b-1) }\n",
    "    }\n",
    "}\n",
    "loopM(1.some, 10)\n",
    "println(\"-----------------------\")\n",
    "loopM(Eval.now(1), 10).value\n",
    "println(\"-----------------------\")\n",
    "loopM(Eval.later(1), 10).value\n",
    "println(\"-----------------------\")\n",
    "loopM(Eval.always(1), 10).value"
   ]
  },
  {
   "cell_type": "markdown",
   "metadata": {},
   "source": [
    "## Writer"
   ]
  },
  {
   "cell_type": "code",
   "execution_count": 54,
   "metadata": {},
   "outputs": [
    {
     "data": {
      "text/plain": [
       "\u001b[32mimport \u001b[39m\u001b[36mcats.data.Writer\n",
       "\n",
       "\u001b[39m\n",
       "\u001b[36mw\u001b[39m: \u001b[32mdata\u001b[39m.\u001b[32mWriterT\u001b[39m[\u001b[32mId\u001b[39m, \u001b[32mVector\u001b[39m[\u001b[32mString\u001b[39m], \u001b[32mInt\u001b[39m] = \u001b[33mWriterT\u001b[39m((\u001b[33mVector\u001b[39m(\u001b[32m\"bhector\"\u001b[39m), \u001b[32m123\u001b[39m))\n",
       "defined \u001b[32mtype\u001b[39m \u001b[36mLogged\u001b[39m\n",
       "\u001b[36mres53_3\u001b[39m: \u001b[32mwrapper\u001b[39m.\u001b[32mwrapper\u001b[39m.\u001b[32mLogged\u001b[39m[\u001b[32mInt\u001b[39m] = \u001b[33mWriterT\u001b[39m((\u001b[33mVector\u001b[39m(), \u001b[32m123\u001b[39m))\n",
       "\u001b[36mres53_4\u001b[39m: \u001b[32mwrapper\u001b[39m.\u001b[32mwrapper\u001b[39m.\u001b[32mLogged\u001b[39m[\u001b[32mString\u001b[39m] = \u001b[33mWriterT\u001b[39m((\u001b[33mVector\u001b[39m(), \u001b[32m\"whatever\"\u001b[39m))\n",
       "\u001b[36mx\u001b[39m: \u001b[32mWriter\u001b[39m[\u001b[32mList\u001b[39m[\u001b[32mString\u001b[39m], \u001b[32mUnit\u001b[39m] = \u001b[33mWriterT\u001b[39m((\u001b[33mList\u001b[39m(\u001b[32m\"bhector\"\u001b[39m), \u001b[32m()\u001b[39m))\n",
       "\u001b[36mres53_6\u001b[39m: (\u001b[32mList\u001b[39m[\u001b[32mString\u001b[39m], \u001b[32mUnit\u001b[39m) = (\u001b[33mList\u001b[39m(\u001b[32m\"bhector\"\u001b[39m), \u001b[32m()\u001b[39m)"
      ]
     },
     "execution_count": 54,
     "metadata": {},
     "output_type": "execute_result"
    }
   ],
   "source": [
    "import cats.data.Writer\n",
    "\n",
    "val w = Writer(Vector(\"bhector\"), 123)\n",
    "\n",
    "type Logged[A] = Writer[Vector[String], A]\n",
    "123.pure[Logged]\n",
    "\"whatever\".pure[Logged]\n",
    "val x = List(\"bhector\").tell\n",
    "x.run"
   ]
  },
  {
   "cell_type": "code",
   "execution_count": 60,
   "metadata": {},
   "outputs": [
    {
     "data": {
      "text/plain": [
       "\u001b[36mres59\u001b[39m: (\u001b[32mVector\u001b[39m[\u001b[32mString\u001b[39m], \u001b[32mInt\u001b[39m) = (\u001b[33mVector\u001b[39m(), \u001b[32m123\u001b[39m)"
      ]
     },
     "execution_count": 60,
     "metadata": {},
     "output_type": "execute_result"
    }
   ],
   "source": [
    "123.pure[Logged].map{ x => x + 100 }.flatMap{ x => (x - 100).pure[Logged] }.run"
   ]
  },
  {
   "cell_type": "code",
   "execution_count": 73,
   "metadata": {},
   "outputs": [
    {
     "data": {
      "text/plain": [
       "\u001b[36mret\u001b[39m: \u001b[32mdata\u001b[39m.\u001b[32mWriterT\u001b[39m[\u001b[32mId\u001b[39m, \u001b[32mVector\u001b[39m[\u001b[32mString\u001b[39m], \u001b[32mInt\u001b[39m] = \u001b[33mWriterT\u001b[39m((\u001b[33mVector\u001b[39m(\u001b[32m\"HERE\"\u001b[39m, \u001b[32m\" WE\"\u001b[39m, \u001b[32m\" GO\"\u001b[39m), \u001b[32m123000000\u001b[39m))\n",
       "\u001b[36mres72_1\u001b[39m: (\u001b[32mVector\u001b[39m[\u001b[32mString\u001b[39m], \u001b[32mInt\u001b[39m) = (\u001b[33mVector\u001b[39m(\u001b[32m\"HERE\"\u001b[39m, \u001b[32m\" WE\"\u001b[39m, \u001b[32m\" GO\"\u001b[39m), \u001b[32m123000000\u001b[39m)\n",
       "\u001b[36mres72_2\u001b[39m: \u001b[32mdata\u001b[39m.\u001b[32mWriterT\u001b[39m[\u001b[32mId\u001b[39m, \u001b[32mVector\u001b[39m[\u001b[32mString\u001b[39m], \u001b[32mInt\u001b[39m] = \u001b[33mWriterT\u001b[39m((\u001b[33mVector\u001b[39m(), \u001b[32m123000000\u001b[39m))"
      ]
     },
     "execution_count": 73,
     "metadata": {},
     "output_type": "execute_result"
    }
   ],
   "source": [
    "val ret = 123.pure[Logged].bimap(\n",
    "    log => log :+ \"here\", \n",
    "    result => result * 100\n",
    ").bimap(\n",
    "    log => log :+ \" we\", \n",
    "    result => result * 100\n",
    ").bimap(\n",
    "    log => log :+ \" go\", \n",
    "    result => result * 100\n",
    ").mapWritten{ x => x.map{ _.toUpperCase } }\n",
    "\n",
    "ret.run\n",
    "ret.reset"
   ]
  },
  {
   "cell_type": "markdown",
   "metadata": {},
   "source": [
    "## Reader"
   ]
  },
  {
   "cell_type": "code",
   "execution_count": 80,
   "metadata": {},
   "outputs": [
    {
     "data": {
      "text/plain": [
       "\u001b[32mimport \u001b[39m\u001b[36mcats.data.Reader\n",
       "\n",
       "\u001b[39m\n",
       "\u001b[36mr1\u001b[39m: \u001b[32mReader\u001b[39m[\u001b[32mInt\u001b[39m, \u001b[32mInt\u001b[39m] = \u001b[33mKleisli\u001b[39m(<function1>)\n",
       "\u001b[36mr2\u001b[39m: \u001b[32mReader\u001b[39m[\u001b[32mInt\u001b[39m, \u001b[32mInt\u001b[39m] = \u001b[33mKleisli\u001b[39m(<function1>)\n",
       "\u001b[36mres79_3\u001b[39m: \u001b[32mId\u001b[39m[\u001b[32mInt\u001b[39m] = \u001b[32m13\u001b[39m\n",
       "\u001b[36mcomputation\u001b[39m: \u001b[32mInt\u001b[39m => \u001b[32mId\u001b[39m[\u001b[32mString\u001b[39m] = <function1>\n",
       "\u001b[36mres79_5\u001b[39m: \u001b[32mId\u001b[39m[\u001b[32mString\u001b[39m] = \u001b[32m\"156\"\u001b[39m\n",
       "\u001b[36mflatmapped\u001b[39m: \u001b[32mdata\u001b[39m.\u001b[32mKleisli\u001b[39m[\u001b[32mId\u001b[39m, \u001b[32mInt\u001b[39m, \u001b[32mInt\u001b[39m] = \u001b[33mKleisli\u001b[39m(<function1>)\n",
       "\u001b[36mres79_7\u001b[39m: \u001b[32mId\u001b[39m[\u001b[32mInt\u001b[39m] = \u001b[32m25\u001b[39m"
      ]
     },
     "execution_count": 80,
     "metadata": {},
     "output_type": "execute_result"
    }
   ],
   "source": [
    "import cats.data.Reader\n",
    "\n",
    "val r1 = Reader( (x:Int) => x + 3 )\n",
    "val r2 = Reader( (x:Int) => x + 2 )\n",
    "r1(10)\n",
    "\n",
    "val computation = r.map{ x => x*12 }.map{ x => x.toString }.run\n",
    "computation(10)\n",
    "\n",
    "val flatmapped = for {\n",
    "    x <- r1\n",
    "    y <- r2\n",
    "} yield x + y\n",
    "flatmapped.run.apply(10)"
   ]
  },
  {
   "cell_type": "markdown",
   "metadata": {},
   "source": [
    "## Monad Transformers"
   ]
  },
  {
   "cell_type": "code",
   "execution_count": 9,
   "metadata": {},
   "outputs": [
    {
     "data": {
      "text/plain": [
       "\u001b[32mimport \u001b[39m\u001b[36mcats.data.OptionT\n",
       "\u001b[39m\n",
       "\u001b[32mimport \u001b[39m\u001b[36mcats.data.EitherT\n",
       "\n",
       "\u001b[39m\n",
       "defined \u001b[32mtype\u001b[39m \u001b[36mListOption\u001b[39m\n",
       "\u001b[36mres8_3\u001b[39m: \u001b[32mdata\u001b[39m.\u001b[32mOptionT\u001b[39m[\u001b[32mList\u001b[39m, \u001b[32mInt\u001b[39m] = \u001b[33mOptionT\u001b[39m(\u001b[33mList\u001b[39m(\u001b[33mSome\u001b[39m(\u001b[32m42\u001b[39m), \u001b[33mSome\u001b[39m(\u001b[32m32\u001b[39m)))"
      ]
     },
     "execution_count": 9,
     "metadata": {},
     "output_type": "execute_result"
    }
   ],
   "source": [
    "import cats.data.OptionT\n",
    "import cats.data.EitherT\n",
    "\n",
    "type ListOption[A] = OptionT[List, A]\n",
    "42.pure[ListOption]  |+| 32.pure[ListOption]"
   ]
  },
  {
   "cell_type": "code",
   "execution_count": 14,
   "metadata": {},
   "outputs": [
    {
     "data": {
      "text/plain": [
       "\u001b[32mimport \u001b[39m\u001b[36mscala.concurrent.Future\n",
       "\u001b[39m\n",
       "\u001b[32mimport \u001b[39m\u001b[36mscala.util.{ Success, Failure }\n",
       "\u001b[39m\n",
       "\u001b[32mimport \u001b[39m\u001b[36mscala.concurrent.ExecutionContext.Implicits.global\n",
       "\n",
       "\u001b[39m\n",
       "defined \u001b[32mtype\u001b[39m \u001b[36mError\u001b[39m\n",
       "defined \u001b[32mtype\u001b[39m \u001b[36mErrorOr\u001b[39m\n",
       "defined \u001b[32mtype\u001b[39m \u001b[36mFutureErrorOr\u001b[39m\n",
       "\u001b[36mcomp\u001b[39m: \u001b[32mcollection\u001b[39m.\u001b[32mimmutable\u001b[39m.\u001b[32mIndexedSeq\u001b[39m[\u001b[32mEitherT\u001b[39m[\u001b[32mFuture\u001b[39m, \u001b[32mError\u001b[39m, \u001b[32mInt\u001b[39m]] = \u001b[33mVector\u001b[39m(\n",
       "  \u001b[33mEitherT\u001b[39m(Failure(java.lang.ArithmeticException: / by zero)),\n",
       "  \u001b[33mEitherT\u001b[39m(Failure(java.lang.ArithmeticException: / by zero)),\n",
       "  \u001b[33mEitherT\u001b[39m(Success(Right(11))),\n",
       "  \u001b[33mEitherT\u001b[39m(Success(Right(11))),\n",
       "  \u001b[33mEitherT\u001b[39m(Success(Right(11))),\n",
       "  \u001b[33mEitherT\u001b[39m(Success(Right(11))),\n",
       "  \u001b[33mEitherT\u001b[39m(Success(Right(11))),\n",
       "  \u001b[33mEitherT\u001b[39m(Success(Right(11))),\n",
       "  \u001b[33mEitherT\u001b[39m(Success(Right(11))),\n",
       "  \u001b[33mEitherT\u001b[39m(Success(Right(11))),\n",
       "  \u001b[33mEitherT\u001b[39m(Success(Right(11)))\n",
       "\u001b[33m...\u001b[39m\n",
       "\u001b[36mres13_7\u001b[39m: \u001b[32mcollection\u001b[39m.\u001b[32mimmutable\u001b[39m.\u001b[32mIndexedSeq\u001b[39m[\u001b[32mInt\u001b[39m] = \u001b[33mVector\u001b[39m(\u001b[32m0\u001b[39m, \u001b[32m0\u001b[39m, \u001b[32m11\u001b[39m, \u001b[32m11\u001b[39m, \u001b[32m11\u001b[39m, \u001b[32m11\u001b[39m, \u001b[32m11\u001b[39m, \u001b[32m11\u001b[39m, \u001b[32m11\u001b[39m, \u001b[32m11\u001b[39m, \u001b[32m11\u001b[39m)"
      ]
     },
     "execution_count": 14,
     "metadata": {},
     "output_type": "execute_result"
    }
   ],
   "source": [
    "import scala.concurrent.Future\n",
    "import scala.util.{ Success, Failure }\n",
    "import scala.concurrent.ExecutionContext.Implicits.global\n",
    "\n",
    "type Error = Exception\n",
    "type ErrorOr[A] = Either[Error, A]\n",
    "type FutureErrorOr[A] = EitherT[Future, Error, A]\n",
    "\n",
    "val comp = (0 to 10).map{ x => x.pure[FutureErrorOr].map{ _ / 2 }.map{ x => x/x }.map{ _ + 10 } }\n",
    "\n",
    "comp.map{ _.value.value match {\n",
    "    case Some(Success(Right(x))) => x\n",
    "    case _ => 0\n",
    "} }\n",
    "\n",
    "// 0.pure[ErrorOr].map{ _ + 1 }"
   ]
  },
  {
   "cell_type": "code",
   "execution_count": 15,
   "metadata": {},
   "outputs": [
    {
     "data": {
      "text/plain": [
       "\u001b[36mres14\u001b[39m: \u001b[32mFutureErrorOr\u001b[39m[\u001b[32mInt\u001b[39m] = \u001b[33mEitherT\u001b[39m(scala.concurrent.impl.Promise$KeptPromise@26829c4f)"
      ]
     },
     "execution_count": 15,
     "metadata": {},
     "output_type": "execute_result"
    }
   ],
   "source": [
    "3.pure[FutureErrorOr]"
   ]
  },
  {
   "cell_type": "code",
   "execution_count": 17,
   "metadata": {},
   "outputs": [
    {
     "data": {
      "text/plain": [
       "\u001b[36ma\u001b[39m: \u001b[32mString\u001b[39m => \u001b[32mString\u001b[39m = <function1>\n",
       "\u001b[36mb\u001b[39m: \u001b[32mString\u001b[39m => \u001b[32mString\u001b[39m = <function1>\n",
       "\u001b[36mres16_2\u001b[39m: \u001b[32mEitherT\u001b[39m[\u001b[32mFuture\u001b[39m, \u001b[32mError\u001b[39m, \u001b[32mString\u001b[39m => \u001b[32mString\u001b[39m] = \u001b[33mEitherT\u001b[39m(Success(Right(<function1>)))"
      ]
     },
     "execution_count": 17,
     "metadata": {},
     "output_type": "execute_result"
    }
   ],
   "source": [
    "val a: String => String = _.toLowerCase\n",
    "val b: String => String = _.toUpperCase\n",
    "a.pure[FutureErrorOr].map{ _ andThen b }"
   ]
  },
  {
   "cell_type": "code",
   "execution_count": 22,
   "metadata": {},
   "outputs": [
    {
     "data": {
      "text/plain": [
       "\u001b[36mres21\u001b[39m: \u001b[32mEither\u001b[39m[\u001b[32mThrowable\u001b[39m, \u001b[32mInt\u001b[39m] = \u001b[33mRight\u001b[39m(\u001b[32m0\u001b[39m)"
      ]
     },
     "execution_count": 22,
     "metadata": {},
     "output_type": "execute_result"
    }
   ],
   "source": [
    "Either.catchNonFatal(\"0\".toInt)"
   ]
  },
  {
   "cell_type": "code",
   "execution_count": null,
   "metadata": {
    "collapsed": true
   },
   "outputs": [],
   "source": []
  },
  {
   "cell_type": "code",
   "execution_count": 1,
   "metadata": {},
   "outputs": [
    {
     "data": {
      "text/plain": [
       "defined \u001b[32mtrait\u001b[39m \u001b[36mWrappedFunction1\u001b[39m\n",
       "defined \u001b[32mclass\u001b[39m \u001b[36mWrapper\u001b[39m\n",
       "defined \u001b[32mobject\u001b[39m \u001b[36mWrapper\u001b[39m"
      ]
     },
     "execution_count": 1,
     "metadata": {},
     "output_type": "execute_result"
    }
   ],
   "source": [
    "trait WrappedFunction1[A, B] {\n",
    "  def f : Function1[A, B]\n",
    "  def doc: String\n",
    "  def apply(x:A):B = f(x)\n",
    "\n",
    "  def compose[C, T <:WrappedFunction1[B, C]](that:T with WrappedFunction1[B, C]):WrappedFunction1[A, C] = \n",
    "    new Wrapper[A, C](this.f andThen that.f, this.doc + \" composed with \" + that.doc)\n",
    "}\n",
    "\n",
    "class Wrapper[A, B](f1:Function1[A, B], sos:String) extends WrappedFunction1[A, B] {\n",
    "  val f = f1\n",
    "  val doc = sos\n",
    "}\n",
    "\n",
    "class ADifferentWrappedFunction1[A, B] {\n",
    "  def\n",
    "}\n",
    "\n",
    "object Wrapper {\n",
    "  implicit class Wrap[A, B](f1:Function1[A, B]) {\n",
    "    def wrap(sos:String):WrappedFunction1[A, B] = new Wrapper(f1, sos)\n",
    "  }\n",
    "}"
   ]
  },
  {
   "cell_type": "code",
   "execution_count": 2,
   "metadata": {},
   "outputs": [
    {
     "data": {
      "text/plain": [
       "\u001b[32mimport \u001b[39m\u001b[36mWrapper._\n",
       "\u001b[39m\n",
       "\u001b[36mx\u001b[39m: \u001b[32mString\u001b[39m => \u001b[32mString\u001b[39m = <function1>\n",
       "\u001b[36my\u001b[39m: \u001b[32mString\u001b[39m => \u001b[32mString\u001b[39m = <function1>\n",
       "\u001b[36mx1\u001b[39m: \u001b[32mWrappedFunction1\u001b[39m[\u001b[32mString\u001b[39m, \u001b[32mString\u001b[39m] = $sess.cmd0Wrapper$Helper$Wrapper@25f6af1c\n",
       "\u001b[36my1\u001b[39m: \u001b[32mWrappedFunction1\u001b[39m[\u001b[32mString\u001b[39m, \u001b[32mString\u001b[39m] = $sess.cmd0Wrapper$Helper$Wrapper@418f108"
      ]
     },
     "execution_count": 2,
     "metadata": {},
     "output_type": "execute_result"
    }
   ],
   "source": [
    "import Wrapper._\n",
    "val x : String => String = _.toLowerCase\n",
    "val y : String => String = _.toUpperCase\n",
    "val x1 = x.wrap(\"a function for lowercasing\")\n",
    "val y1 = y.wrap(\"a function for uppercasing\")"
   ]
  },
  {
   "cell_type": "code",
   "execution_count": 3,
   "metadata": {},
   "outputs": [
    {
     "name": "stdout",
     "output_type": "stream",
     "text": [
      "lol\n",
      "a function for lowercasing\n"
     ]
    }
   ],
   "source": [
    "println(x1(\"LOL\"))\n",
    "println(x1.doc)"
   ]
  },
  {
   "cell_type": "code",
   "execution_count": 4,
   "metadata": {},
   "outputs": [
    {
     "data": {
      "text/plain": [
       "\u001b[36mxy\u001b[39m: \u001b[32mWrappedFunction1\u001b[39m[\u001b[32mString\u001b[39m, \u001b[32mString\u001b[39m] = $sess.cmd0Wrapper$Helper$Wrapper@da4a104"
      ]
     },
     "execution_count": 4,
     "metadata": {},
     "output_type": "execute_result"
    }
   ],
   "source": [
    "val xy = x1 compose y1"
   ]
  },
  {
   "cell_type": "code",
   "execution_count": 5,
   "metadata": {},
   "outputs": [
    {
     "data": {
      "text/plain": [
       "\u001b[36mres4\u001b[39m: \u001b[32mString\u001b[39m = \u001b[32m\"LOL\"\u001b[39m"
      ]
     },
     "execution_count": 5,
     "metadata": {},
     "output_type": "execute_result"
    }
   ],
   "source": [
    "xy(\"LoL\")"
   ]
  },
  {
   "cell_type": "code",
   "execution_count": null,
   "metadata": {
    "collapsed": true
   },
   "outputs": [],
   "source": []
  },
  {
   "cell_type": "code",
   "execution_count": null,
   "metadata": {
    "collapsed": true
   },
   "outputs": [],
   "source": []
  },
  {
   "cell_type": "code",
   "execution_count": null,
   "metadata": {
    "collapsed": true
   },
   "outputs": [],
   "source": []
  },
  {
   "cell_type": "code",
   "execution_count": null,
   "metadata": {
    "collapsed": true
   },
   "outputs": [],
   "source": []
  },
  {
   "cell_type": "code",
   "execution_count": null,
   "metadata": {
    "collapsed": true
   },
   "outputs": [],
   "source": []
  },
  {
   "cell_type": "code",
   "execution_count": null,
   "metadata": {
    "collapsed": true
   },
   "outputs": [],
   "source": []
  },
  {
   "cell_type": "code",
   "execution_count": null,
   "metadata": {
    "collapsed": true
   },
   "outputs": [],
   "source": []
  },
  {
   "cell_type": "code",
   "execution_count": null,
   "metadata": {
    "collapsed": true
   },
   "outputs": [],
   "source": []
  }
 ],
 "metadata": {
  "kernelspec": {
   "display_name": "Scala (develop)",
   "language": "scala",
   "name": "scala-develop"
  },
  "language_info": {
   "codemirror_mode": "text/x-scala",
   "file_extension": ".scala",
   "mimetype": "text/x-scala",
   "name": "scala211",
   "nbconvert_exporter": "script",
   "pygments_lexer": "scala",
   "version": "2.11.8"
  }
 },
 "nbformat": 4,
 "nbformat_minor": 2
}
