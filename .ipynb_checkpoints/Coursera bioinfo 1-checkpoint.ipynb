{
 "cells": [
  {
   "cell_type": "markdown",
   "metadata": {},
   "source": [
    "# Coursera Bioinformatics 1 assignment"
   ]
  },
  {
   "cell_type": "markdown",
   "metadata": {},
   "source": [
    "Mycobacterium tuberculosis (MTB) can persist in a latent state in humans for many years before causing disease. Latency has been found to be linked to hypoxia (lack of oxygen) in the host. You suspect that genes that are activated in hypoxia are regulated by a common transcription factor, so you collect the upstream sequences for all of the MTB genes that are upregulated in hypoxia, looking for the motif that corresponds to the binding site for the transcription factor regulating these genes. Your biologist colleague tells you that you should look at the 250 bp upstream region of each gene (which have been conveniently compiled for you in a [FASTA](https://en.wikipedia.org/wiki/FASTA_format) file named [upstream250.txt](http://bioinformaticsalgorithms.com/software_challenges/motifs/upstream250.txt) -- right click and download this file). Your colleague also tells you that the motif is probably about 20 bp long."
   ]
  },
  {
   "cell_type": "code",
   "execution_count": 1,
   "metadata": {},
   "outputs": [
    {
     "name": "stderr",
     "output_type": "stream",
     "text": [
      "--2017-05-06 17:05:39--  http://bioinformaticsalgorithms.com/software_challenges/motifs/upstream250.txt\n",
      "Resolving bioinformaticsalgorithms.com (bioinformaticsalgorithms.com)... 54.84.71.212\n",
      "Connecting to bioinformaticsalgorithms.com (bioinformaticsalgorithms.com)|54.84.71.212|:80... connected.\n",
      "HTTP request sent, awaiting response... 200 OK\n",
      "Length: 9344 (9.1K) [text/plain]\n",
      "Saving to: ‘upstream250.txt.3’\n",
      "\n",
      "     0K .........                                             100% 8.91K=1.0s\n",
      "\n",
      "2017-05-06 17:05:41 (8.91 KB/s) - ‘upstream250.txt.3’ saved [9344/9344]\n",
      "\n"
     ]
    },
    {
     "data": {
      "text/plain": [
       "\u001b[32mimport \u001b[39m\u001b[36msys.process._\n",
       "\u001b[39m\n",
       "\u001b[36mres0_1\u001b[39m: \u001b[32mInt\u001b[39m = \u001b[32m0\u001b[39m"
      ]
     },
     "execution_count": 1,
     "metadata": {},
     "output_type": "execute_result"
    }
   ],
   "source": [
    "import sys.process._\n",
    "\"wget http://bioinformaticsalgorithms.com/software_challenges/motifs/upstream250.txt\" !"
   ]
  },
  {
   "cell_type": "markdown",
   "metadata": {},
   "source": [
    "Use Biojava for reading FASTA files and spire for math on BigDecimals"
   ]
  },
  {
   "cell_type": "code",
   "execution_count": 2,
   "metadata": {
    "scrolled": true
   },
   "outputs": [],
   "source": [
    "interp.load.ivy(\"org.biojava\" % \"biojava-core\" % \"4.2.4\")\n",
    "interp.load.ivy(\"org.typelevel\" %% \"spire\" % \"0.14.1\")"
   ]
  },
  {
   "cell_type": "code",
   "execution_count": 3,
   "metadata": {},
   "outputs": [
    {
     "data": {
      "text/plain": [
       "\u001b[32mimport \u001b[39m\u001b[36morg.biojava.nbio.core\n",
       "\u001b[39m\n",
       "\u001b[32mimport \u001b[39m\u001b[36mcore.sequence.io.FastaReaderHelper\n",
       "\u001b[39m\n",
       "\u001b[32mimport \u001b[39m\u001b[36mscala.collection.JavaConversions._\n",
       "\u001b[39m\n",
       "\u001b[32mimport \u001b[39m\u001b[36mspire.implicits._\n",
       "\u001b[39m\n",
       "\u001b[32mimport \u001b[39m\u001b[36mspire.math._\u001b[39m"
      ]
     },
     "execution_count": 3,
     "metadata": {},
     "output_type": "execute_result"
    }
   ],
   "source": [
    "import org.biojava.nbio.core\n",
    "import core.sequence.io.FastaReaderHelper\n",
    "import scala.collection.JavaConversions._\n",
    "import spire.implicits._\n",
    "import spire.math._"
   ]
  },
  {
   "cell_type": "code",
   "execution_count": 4,
   "metadata": {},
   "outputs": [
    {
     "name": "stderr",
     "output_type": "stream",
     "text": [
      "SLF4J: Failed to load class \"org.slf4j.impl.StaticLoggerBinder\".\n",
      "SLF4J: Defaulting to no-operation (NOP) logger implementation\n",
      "SLF4J: See http://www.slf4j.org/codes.html#StaticLoggerBinder for further details.\n"
     ]
    },
    {
     "data": {
      "text/plain": [
       "\u001b[36mfastaSeqs\u001b[39m: \u001b[32mMap\u001b[39m[\u001b[32mString\u001b[39m, \u001b[32mString\u001b[39m] = \u001b[33mMap\u001b[39m(\n",
       "  \u001b[32m\"Rv2006\"\u001b[39m -> \u001b[32m\"CACCACGTGGACCACGGTCAGCGGAATGTTCCTCATCGCCGCATCGGTGGCACCCCAACAGGCGGCGGCATCCGATTCGAGCGAACCATCTACCCCGACGACAACTCCGTGCTGCTTGCGGGGTTTAGACATCTCATTCTCCCTTCGCCTCGAGCAACGCTATGAACCGGGACAGTCACCGGTCATGAGGCTTTAGTCCCCAATCGGACGGCCAACCGACCATGATTGGATTCGACGCCCGAATCCAAGC\"\u001b[39m,\n",
       "  \u001b[32m\"Rv2627c\"\u001b[39m -> \u001b[32m\"ACCGTCGATGTGCCCGGTCGCGCCGCGTCCACCTCGGTCATCGACCCCACGATGAGGACGCCATCGGCCGCGACCAAGCCCCGTGAAACTCTGACGGCGTGCTGGCCGGGCTGCGGCACCTGATCACCTTAGGGCACTTGGGCCACCACAACGGGCCGCCGGTCTCGACAGTGGCCACCACCACACAGGTGACTTCCGGCGGGACGTAAGTCCCTAACGCGTCGTTCCGCACGCGGTTAGCTTTGCTGCC\"\u001b[39m,\n",
       "  \u001b[32m\"Rv2007c\"\u001b[39m -> \u001b[32m\"TTCCCGCGGATCAGATCTTGACCACCGGGAGTGTCGATGAACTTCTCGCGCTCTTGAAATGACGGGCTATCGTAAGTTTATGGCCTGGGGGAGCGTGAATCCCGCTGGCGGTCGGGTGAACCGCCCCGGTTTTCTTGCACCCCGCGTCGACGTGCCAGTGACGAACTTGACGAATAAGGCCTTTGGTCCTTTCCGGTAGGGGTCTTTGGATAGGCGCGATCCTC\u001b[33m...\u001b[39m"
      ]
     },
     "execution_count": 4,
     "metadata": {},
     "output_type": "execute_result"
    }
   ],
   "source": [
    "val fastaSeqs = FastaReaderHelper.\n",
    "                    readFastaDNASequence(new java.io.File(\"./upstream250.txt\")).\n",
    "                    toMap.map{ case(k, v) => (k -> v.toString) }"
   ]
  },
  {
   "cell_type": "markdown",
   "metadata": {},
   "source": [
    "### Known information & Approach\n",
    "\n",
    "- The motif for the binding site is \"probably about 20 bp long\"\n",
    "    - implies we should search for motifs around 20bps, lets try with a range of 15-25\n",
    "- We use Gibbs sampling to discover this motif initially for the entire range of base pair lengths"
   ]
  },
  {
   "cell_type": "code",
   "execution_count": 5,
   "metadata": {},
   "outputs": [
    {
     "data": {
      "text/plain": [
       "\u001b[32mimport \u001b[39m\u001b[36mscala.math.{ BigDecimal => Big, log }\n",
       "\u001b[39m\n",
       "defined \u001b[32mtype\u001b[39m \u001b[36mMatrix\u001b[39m\n",
       "defined \u001b[32mfunction\u001b[39m \u001b[36mlog2\u001b[39m"
      ]
     },
     "execution_count": 5,
     "metadata": {},
     "output_type": "execute_result"
    }
   ],
   "source": [
    "import scala.math.{ BigDecimal => Big, log }\n",
    "type Matrix = List[List[Big]]\n",
    "def log2(x:Big) = x.log / log(2)"
   ]
  },
  {
   "cell_type": "markdown",
   "metadata": {},
   "source": [
    "#### Generate profile most probable kmers from dna strings"
   ]
  },
  {
   "cell_type": "code",
   "execution_count": 6,
   "metadata": {},
   "outputs": [
    {
     "data": {
      "text/plain": [
       "defined \u001b[32mfunction\u001b[39m \u001b[36mkmerProbability\u001b[39m"
      ]
     },
     "execution_count": 6,
     "metadata": {},
     "output_type": "execute_result"
    }
   ],
   "source": [
    "def kmerProbability(kmer:String, profile:Matrix):Big = {\n",
    "    profile.transpose.zip(kmer).map{ \n",
    "        case(prob, 'A') => prob(0)\n",
    "        case(prob, 'C') => prob(1)\n",
    "        case(prob, 'G') => prob(2)\n",
    "        case(prob, 'T') => prob(3)\n",
    "    }.reduce{ _ * _ }\n",
    "}"
   ]
  },
  {
   "cell_type": "code",
   "execution_count": 7,
   "metadata": {},
   "outputs": [
    {
     "data": {
      "text/plain": [
       "defined \u001b[32mfunction\u001b[39m \u001b[36mprofileMostProbableKmer\u001b[39m"
      ]
     },
     "execution_count": 7,
     "metadata": {},
     "output_type": "execute_result"
    }
   ],
   "source": [
    "def profileMostProbableKmer(dna:String, profile:Matrix, k:Int):List[(String, Big)] = {\n",
    "    dna.sliding(k).map{ kmer =>\n",
    "        (kmer, kmerProbability(kmer, profile))\n",
    "    }.toList.sortBy( -_._2 )\n",
    "}"
   ]
  },
  {
   "cell_type": "code",
   "execution_count": 8,
   "metadata": {},
   "outputs": [
    {
     "data": {
      "text/plain": [
       "defined \u001b[32mfunction\u001b[39m \u001b[36mgenMotifs\u001b[39m"
      ]
     },
     "execution_count": 8,
     "metadata": {},
     "output_type": "execute_result"
    }
   ],
   "source": [
    "def genMotifs(dnas:List[String], profile:Matrix, k:Int) = dnas.map{ dna => profileMostProbableKmer(dna, profile, k).head._1 }"
   ]
  },
  {
   "cell_type": "markdown",
   "metadata": {},
   "source": [
    "#### Scoring function"
   ]
  },
  {
   "cell_type": "code",
   "execution_count": 9,
   "metadata": {},
   "outputs": [
    {
     "data": {
      "text/plain": [
       "defined \u001b[32mfunction\u001b[39m \u001b[36mscoreCounts\u001b[39m"
      ]
     },
     "execution_count": 9,
     "metadata": {},
     "output_type": "execute_result"
    }
   ],
   "source": [
    "def scoreCounts(x:List[String]) = {\n",
    "    val ret = x.map{ _.toList }.transpose.\n",
    "        map{ y =>\n",
    "            \"ACGT\".map{ b => Big(y.count(_ == b)) }\n",
    "        }.map{ x => (x.sum - x.max) }\n",
    "\n",
    "    ret\n",
    "}.sum"
   ]
  },
  {
   "cell_type": "markdown",
   "metadata": {},
   "source": [
    "#### Sample random kmers from a collection of dna strings"
   ]
  },
  {
   "cell_type": "code",
   "execution_count": 10,
   "metadata": {},
   "outputs": [
    {
     "data": {
      "text/plain": [
       "defined \u001b[32mfunction\u001b[39m \u001b[36mrandomInit\u001b[39m"
      ]
     },
     "execution_count": 10,
     "metadata": {},
     "output_type": "execute_result"
    }
   ],
   "source": [
    "def randomInit(dnas:List[String], k:Int) = dnas.map{ dna => dna.drop(scala.util.Random.nextInt(dna.length-k)).take(k) }.toList"
   ]
  },
  {
   "cell_type": "code",
   "execution_count": 19,
   "metadata": {},
   "outputs": [
    {
     "data": {
      "text/plain": [
       "defined \u001b[32mfunction\u001b[39m \u001b[36mformProfileLaplacian\u001b[39m"
      ]
     },
     "execution_count": 19,
     "metadata": {},
     "output_type": "execute_result"
    }
   ],
   "source": [
    "def formProfileLaplacian(x:List[String]):Matrix = {\n",
    "    x.transpose.\n",
    "        map{ x => \n",
    "            List(\n",
    "                Big((x.count(_ == 'A').toDouble + 1)/(x.length.toDouble * 2.0d)),\n",
    "                Big((x.count(_ == 'C').toDouble + 1)/(x.length.toDouble * 2.0d)),\n",
    "                Big((x.count(_ == 'G').toDouble + 1)/(x.length.toDouble * 2.0d)),\n",
    "                Big((x.count(_ == 'T').toDouble + 1)/(x.length.toDouble * 2.0d)))\n",
    "        }.transpose\n",
    "}"
   ]
  },
  {
   "cell_type": "code",
   "execution_count": 12,
   "metadata": {
    "scrolled": true
   },
   "outputs": [
    {
     "data": {
      "text/plain": [
       "defined \u001b[32mfunction\u001b[39m \u001b[36mrandomInit\u001b[39m"
      ]
     },
     "execution_count": 12,
     "metadata": {},
     "output_type": "execute_result"
    }
   ],
   "source": [
    "def randomInit(dnas:List[String], k:Int) = dnas.map{ dna => dna.drop(scala.util.Random.nextInt(dna.length-k)).take(k) }.toList"
   ]
  },
  {
   "cell_type": "markdown",
   "metadata": {},
   "source": [
    "#### Consensus string"
   ]
  },
  {
   "cell_type": "code",
   "execution_count": 13,
   "metadata": {},
   "outputs": [
    {
     "data": {
      "text/plain": [
       "defined \u001b[32mfunction\u001b[39m \u001b[36mformProfile\u001b[39m"
      ]
     },
     "execution_count": 13,
     "metadata": {},
     "output_type": "execute_result"
    }
   ],
   "source": [
    "def formProfile(x:List[String]):Matrix = {\n",
    "    x.transpose.\n",
    "        map{ x => \n",
    "            List(\n",
    "                Big(x.count(_ == 'A').toDouble/x.length.toDouble), \n",
    "                Big(x.count(_ == 'C').toDouble/x.length.toDouble), \n",
    "                Big(x.count(_ == 'G').toDouble/x.length.toDouble), \n",
    "                Big(x.count(_ == 'T').toDouble/x.length.toDouble))  \n",
    "        }.transpose\n",
    "}"
   ]
  },
  {
   "cell_type": "code",
   "execution_count": 14,
   "metadata": {},
   "outputs": [
    {
     "data": {
      "text/plain": [
       "defined \u001b[32mfunction\u001b[39m \u001b[36mconsensus\u001b[39m"
      ]
     },
     "execution_count": 14,
     "metadata": {},
     "output_type": "execute_result"
    }
   ],
   "source": [
    "def consensus(profile:Matrix, n:Int=1):(String, Big) = {\n",
    "    val prof = \"ACGT\".zip(profile)\n",
    "    (0 to n-1).\n",
    "        map{ c => \n",
    "            prof.map{ case(base, prob) => (base, prob(c)) }.\n",
    "                foldLeft(('x', Big(0.0d))){ case(mem, x) => if (mem._2 > x._2) mem else x }\n",
    "        }.toList.foldLeft((\"\", Big(0.0d))){ case(m, x) => (m._1 + x._1, m._2 * x._2) }\n",
    "}"
   ]
  },
  {
   "cell_type": "markdown",
   "metadata": {},
   "source": [
    "#### Motif entropy"
   ]
  },
  {
   "cell_type": "code",
   "execution_count": 15,
   "metadata": {},
   "outputs": [
    {
     "data": {
      "text/plain": [
       "defined \u001b[32mfunction\u001b[39m \u001b[36mentropy\u001b[39m"
      ]
     },
     "execution_count": 15,
     "metadata": {},
     "output_type": "execute_result"
    }
   ],
   "source": [
    "def entropy(profile:Matrix):Big = {\n",
    "    -1 * profile.transpose.map{ c => c.map{ x => if (x==Big(0)) Big(0) else x * log2(x) }.sum }.sum\n",
    "}"
   ]
  },
  {
   "cell_type": "markdown",
   "metadata": {},
   "source": [
    "#### Motif search with Gibbs sampling"
   ]
  },
  {
   "cell_type": "code",
   "execution_count": 16,
   "metadata": {},
   "outputs": [
    {
     "data": {
      "text/plain": [
       "defined \u001b[32mfunction\u001b[39m \u001b[36mgibbs\u001b[39m"
      ]
     },
     "execution_count": 16,
     "metadata": {},
     "output_type": "execute_result"
    }
   ],
   "source": [
    "def gibbs(dnas:List[String], k:Int, bestM:List[String]=List[String](), N:Int):List[String] = {\n",
    "    val bestMotifs:List[String] = if (bestM.isEmpty) randomInit(dnas, k) else bestM\n",
    "\n",
    "    val ignore = scala.util.Random.nextInt(dnas.length)\n",
    "    val motifsWith1Ignored = bestMotifs.zipWithIndex.filter{ case(m, i) => i != ignore }.map{ _._1 }\n",
    "    val ignProfile = formProfileLaplacian(motifsWith1Ignored)\n",
    "    val ignMotif = genMotifs(List(dnas(ignore)), ignProfile, k).head\n",
    "    val motifs = bestMotifs.zipWithIndex.map{ case(m, i) => if (i == ignore) ignMotif else m }\n",
    "    val best = scoreCounts(bestMotifs)\n",
    "    val s = scoreCounts(motifs)\n",
    "    \n",
    "    if (s >= best && N <= 0) bestMotifs\n",
    "    else if (s < best) gibbs(dnas, k, motifs, N-1)\n",
    "    else gibbs(dnas, k, bestMotifs, N-1)\n",
    "}"
   ]
  },
  {
   "cell_type": "code",
   "execution_count": 17,
   "metadata": {
    "scrolled": true
   },
   "outputs": [
    {
     "data": {
      "text/plain": [
       "defined \u001b[32mfunction\u001b[39m \u001b[36mrepeatedGibbs\u001b[39m"
      ]
     },
     "execution_count": 17,
     "metadata": {},
     "output_type": "execute_result"
    }
   ],
   "source": [
    "def repeatedGibbs(dnas:List[String], k:Int, bestM:List[String] = List[String](), N:Int=100):List[String] = {\n",
    "    val bestMotifs:List[String] = if (bestM.isEmpty) randomInit(dnas, k) else bestM\n",
    "    val motifs = gibbs(dnas, k, N=100)\n",
    "    val s = scoreCounts(motifs)\n",
    "    val best = scoreCounts(bestMotifs)\n",
    "    \n",
    "    if(N%500==0) println(s\"Iteration ${N.toString} perplexity: ${best.toString}\")\n",
    "    if (s >= best && N <= 0) bestMotifs\n",
    "    else if (s < best) repeatedGibbs(dnas, k, motifs, N=N-1)\n",
    "    else repeatedGibbs(dnas, k, bestMotifs, N=N-1)\n",
    "}"
   ]
  },
  {
   "cell_type": "markdown",
   "metadata": {},
   "source": [
    "- Do trials of Gibbs sampling on k-mers of lengths ranging from 15 to 25\n",
    "- "
   ]
  },
  {
   "cell_type": "code",
   "execution_count": 18,
   "metadata": {},
   "outputs": [
    {
     "name": "stdout",
     "output_type": "stream",
     "text": [
      "Iteration 2000 perplexity: 329\n",
      "Iteration 2000 perplexity: 383\n",
      "Iteration 2000 perplexity: 452\n",
      "Iteration 2000 perplexity: 519\n"
     ]
    },
    {
     "ename": "",
     "evalue": "",
     "output_type": "error",
     "traceback": [
      "Interrupted!",
      "  java.lang.Object.wait(\u001b[32mNative Method\u001b[39m)",
      "  java.lang.Object.wait(\u001b[32mObject.java\u001b[39m:\u001b[32m502\u001b[39m)",
      "  scala.concurrent.forkjoin.ForkJoinTask.externalAwaitDone(\u001b[32mForkJoinTask.java\u001b[39m:\u001b[32m295\u001b[39m)",
      "  scala.concurrent.forkjoin.ForkJoinTask.doJoin(\u001b[32mForkJoinTask.java\u001b[39m:\u001b[32m341\u001b[39m)",
      "  scala.concurrent.forkjoin.ForkJoinTask.join(\u001b[32mForkJoinTask.java\u001b[39m:\u001b[32m673\u001b[39m)",
      "  scala.collection.parallel.ForkJoinTasks$WrappedTask$class.sync(\u001b[32mTasks.scala\u001b[39m:\u001b[32m378\u001b[39m)",
      "  scala.collection.parallel.AdaptiveWorkStealingForkJoinTasks$WrappedTask.sync(\u001b[32mTasks.scala\u001b[39m:\u001b[32m443\u001b[39m)",
      "  scala.collection.parallel.ForkJoinTasks$class.executeAndWaitResult(\u001b[32mTasks.scala\u001b[39m:\u001b[32m426\u001b[39m)",
      "  scala.collection.parallel.ForkJoinTaskSupport.executeAndWaitResult(\u001b[32mTaskSupport.scala\u001b[39m:\u001b[32m56\u001b[39m)",
      "  scala.collection.parallel.ExecutionContextTasks$class.executeAndWaitResult(\u001b[32mTasks.scala\u001b[39m:\u001b[32m558\u001b[39m)",
      "  scala.collection.parallel.ExecutionContextTaskSupport.executeAndWaitResult(\u001b[32mTaskSupport.scala\u001b[39m:\u001b[32m80\u001b[39m)",
      "  scala.collection.parallel.ParIterableLike$class.map(\u001b[32mParIterableLike.scala\u001b[39m:\u001b[32m499\u001b[39m)",
      "  scala.collection.parallel.immutable.ParRange.map(\u001b[32mParRange.scala\u001b[39m:\u001b[32m35\u001b[39m)",
      "  $sess.cmd17Wrapper$Helper.<init>(\u001b[32mcmd17.sc\u001b[39m:\u001b[32m1\u001b[39m)",
      "  $sess.cmd17Wrapper.<init>(\u001b[32mcmd17.sc\u001b[39m:\u001b[32m754\u001b[39m)",
      "  $sess.cmd17$.<init>(\u001b[32mcmd17.sc\u001b[39m:\u001b[32m674\u001b[39m)",
      "  $sess.cmd17$.<clinit>(\u001b[32mcmd17.sc\u001b[39m:\u001b[32m-1\u001b[39m)"
     ]
    }
   ],
   "source": [
    "val trials = (15 to 25).par.map{ k => repeatedGibbs(fastaSeqs.values.toList, k, N=2000) }.toList"
   ]
  },
  {
   "cell_type": "code",
   "execution_count": 18,
   "metadata": {},
   "outputs": [
    {
     "name": "stderr",
     "output_type": "stream",
     "text": [
      "cmd18.sc:1: not found: value trials\n",
      "val consensusStrings = trials.map{ trial => (consensus(formProfileLaplacian(trial), trial.head.length)._1, entropy(formProfileLaplacian(trial)) ) }\n",
      "                       ^"
     ]
    },
    {
     "ename": "",
     "evalue": "",
     "output_type": "error",
     "traceback": [
      "Compilation Failed"
     ]
    }
   ],
   "source": [
    "val consensusStrings = trials.map{ trial => (consensus(formProfileLaplacian(trial), trial.head.length)._1, entropy(formProfileLaplacian(trial)) ) }"
   ]
  },
  {
   "cell_type": "code",
   "execution_count": 18,
   "metadata": {
    "scrolled": false
   },
   "outputs": [
    {
     "name": "stderr",
     "output_type": "stream",
     "text": [
      "cmd18.sc:1: not found: value consensusStrings\n",
      "val res18 = consensusStrings.sortBy{ _._2 }\n",
      "            ^"
     ]
    },
    {
     "ename": "",
     "evalue": "",
     "output_type": "error",
     "traceback": [
      "Compilation Failed"
     ]
    }
   ],
   "source": [
    "consensusStrings.sortBy{ _._2 }"
   ]
  },
  {
   "cell_type": "code",
   "execution_count": null,
   "metadata": {
    "collapsed": true
   },
   "outputs": [],
   "source": []
  },
  {
   "cell_type": "code",
   "execution_count": null,
   "metadata": {
    "collapsed": true
   },
   "outputs": [],
   "source": []
  },
  {
   "cell_type": "code",
   "execution_count": null,
   "metadata": {
    "collapsed": true
   },
   "outputs": [],
   "source": []
  },
  {
   "cell_type": "code",
   "execution_count": null,
   "metadata": {
    "collapsed": true
   },
   "outputs": [],
   "source": []
  }
 ],
 "metadata": {
  "kernelspec": {
   "display_name": "Scala (develop)",
   "language": "scala",
   "name": "scala-develop"
  },
  "language_info": {
   "codemirror_mode": "text/x-scala",
   "file_extension": ".scala",
   "mimetype": "text/x-scala",
   "name": "scala211",
   "nbconvert_exporter": "script",
   "pygments_lexer": "scala",
   "version": "2.11.8"
  }
 },
 "nbformat": 4,
 "nbformat_minor": 2
}
