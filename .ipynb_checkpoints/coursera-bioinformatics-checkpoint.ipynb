{
 "cells": [
  {
   "cell_type": "markdown",
   "metadata": {},
   "source": [
    "## Nucloetide Skew"
   ]
  },
  {
   "cell_type": "code",
   "execution_count": 1,
   "metadata": {},
   "outputs": [
    {
     "data": {
      "text/plain": [
       "defined \u001b[32mfunction\u001b[39m \u001b[36mskew\u001b[39m"
      ]
     },
     "execution_count": 1,
     "metadata": {},
     "output_type": "execute_result"
    }
   ],
   "source": [
    "def skew(genome:String):List[Int] = {\n",
    "    genome.foldLeft(List(0)){ case(m, x) => \n",
    "        val ret = if (x == 'G') m :+ (m.last+1) \n",
    "            else if (x == 'C') m :+ (m.last-1) \n",
    "            else m\n",
    "        ret\n",
    "    }\n",
    "}"
   ]
  },
  {
   "cell_type": "markdown",
   "metadata": {},
   "source": [
    "## Hamming distance"
   ]
  },
  {
   "cell_type": "code",
   "execution_count": 2,
   "metadata": {},
   "outputs": [
    {
     "data": {
      "text/plain": [
       "defined \u001b[32mfunction\u001b[39m \u001b[36mhamming\u001b[39m"
      ]
     },
     "execution_count": 2,
     "metadata": {},
     "output_type": "execute_result"
    }
   ],
   "source": [
    "def hamming(s1: String, s2: String): Int = s1.zip(s2).count(c => c._1 != c._2)"
   ]
  },
  {
   "cell_type": "markdown",
   "metadata": {},
   "source": [
    "## Approx pattern matching"
   ]
  },
  {
   "cell_type": "code",
   "execution_count": 3,
   "metadata": {},
   "outputs": [
    {
     "data": {
      "text/plain": [
       "defined \u001b[32mfunction\u001b[39m \u001b[36mapproxMatch\u001b[39m"
      ]
     },
     "execution_count": 3,
     "metadata": {},
     "output_type": "execute_result"
    }
   ],
   "source": [
    "def approxMatch(pattern:String, input:String, k:Int=3):List[Int] = {\n",
    "    input.sliding(pattern.length).zipWithIndex.\n",
    "        filter{ case(kmer, i) => hamming(kmer, pattern) <= k }.\n",
    "        map{ _._2 }.toList\n",
    "}"
   ]
  },
  {
   "cell_type": "markdown",
   "metadata": {},
   "source": [
    "## Frequent k-mers with mismatches"
   ]
  },
  {
   "cell_type": "code",
   "execution_count": 4,
   "metadata": {},
   "outputs": [
    {
     "data": {
      "text/plain": [
       "defined \u001b[32mfunction\u001b[39m \u001b[36mneighbours\u001b[39m\n",
       "defined \u001b[32mfunction\u001b[39m \u001b[36mneighbours\u001b[39m"
      ]
     },
     "execution_count": 4,
     "metadata": {},
     "output_type": "execute_result"
    }
   ],
   "source": [
    "def neighbours(x:String):List[String] = {\n",
    "    val bases = \"ACTG\"\n",
    "    (0 to x.length-1).map{ i =>\n",
    "        bases.filter{ _ != x(i) }\n",
    "            .map{ b => \n",
    "                val y = x.toCharArray \n",
    "                y(i) = b\n",
    "                y.mkString(\"\")\n",
    "            }.toList\n",
    "    }.toList.flatten.distinct\n",
    "}\n",
    "def neighbours(x:String, d:Int):List[String] = if (d == 1) neighbours(x) else {\n",
    "    neighbours(x).map{ neighbours(_, d-1) }.flatten.distinct\n",
    "}"
   ]
  },
  {
   "cell_type": "code",
   "execution_count": 5,
   "metadata": {
    "scrolled": true
   },
   "outputs": [
    {
     "data": {
      "text/plain": [
       "defined \u001b[32mfunction\u001b[39m \u001b[36mapproxKmers\u001b[39m"
      ]
     },
     "execution_count": 5,
     "metadata": {},
     "output_type": "execute_result"
    }
   ],
   "source": [
    "def approxKmers(x:String, k:Int, d:Int):List[(String, Int)] = {\n",
    "    val km = x.toList.sliding(k)\n",
    "    \n",
    "    km.map{ x => x.mkString(\"\") }.\n",
    "        map{ kmer => neighbours(kmer, d) ++ List(kmer) }.flatten.toList.\n",
    "        groupBy{ identity }.map{ case(k, v) => (k, v.length) }.toList\n",
    "}"
   ]
  },
  {
   "cell_type": "code",
   "execution_count": 6,
   "metadata": {},
   "outputs": [
    {
     "data": {
      "text/plain": [
       "defined \u001b[32mfunction\u001b[39m \u001b[36mreverseCompliments\u001b[39m"
      ]
     },
     "execution_count": 6,
     "metadata": {},
     "output_type": "execute_result"
    }
   ],
   "source": [
    "def reverseCompliments(x:String):String = x.map{ base => \n",
    "    base match {\n",
    "        case 'A' => 'T'\n",
    "        case 'T' => 'A'\n",
    "        case 'G' => 'C'\n",
    "        case 'C' => 'G'\n",
    "    }\n",
    "}.reverse"
   ]
  },
  {
   "cell_type": "markdown",
   "metadata": {},
   "source": [
    "## Frequent k-mers with mismatches and reverse compliments"
   ]
  },
  {
   "cell_type": "code",
   "execution_count": 7,
   "metadata": {},
   "outputs": [
    {
     "data": {
      "text/plain": [
       "defined \u001b[32mfunction\u001b[39m \u001b[36mapproxKmersC\u001b[39m"
      ]
     },
     "execution_count": 7,
     "metadata": {},
     "output_type": "execute_result"
    }
   ],
   "source": [
    "def approxKmersC(x:String, k:Int, d:Int):List[(String, Int)] = {\n",
    "    val km = x.toList.sliding(k)\n",
    "    \n",
    "    km.map{ x => x.mkString(\"\") }.\n",
    "        map{ kmer => \n",
    "            neighbours(kmer, d) ++ List(kmer) ++\n",
    "            neighbours(kmer, d).map{ reverseCompliments(_) }\n",
    "        }.flatten.toList.\n",
    "        foldLeft(Map[String, Int]()) { case(m, x) =>\n",
    "            m ++ Map(x -> (m.get(x).getOrElse(0) + 1))\n",
    "        }.toList\n",
    "}"
   ]
  },
  {
   "cell_type": "markdown",
   "metadata": {},
   "source": [
    "## Motif Enumeration in a bunch of DNA strings"
   ]
  },
  {
   "cell_type": "code",
   "execution_count": 8,
   "metadata": {},
   "outputs": [
    {
     "data": {
      "text/plain": [
       "defined \u001b[32mfunction\u001b[39m \u001b[36mmotifEnumeration\u001b[39m"
      ]
     },
     "execution_count": 8,
     "metadata": {},
     "output_type": "execute_result"
    }
   ],
   "source": [
    "def motifEnumeration(dnas:List[String], k:Int, d:Int) = {\n",
    "    dnas.map{ dna =>\n",
    "        dna.sliding(k).map{ pattern => neighbours(pattern, d).toSet }.toSet.flatten\n",
    "    }.reduce{ (a, b) => a.intersect(b) }\n",
    "}"
   ]
  },
  {
   "cell_type": "markdown",
   "metadata": {},
   "source": [
    "## Median string problem"
   ]
  },
  {
   "cell_type": "code",
   "execution_count": 9,
   "metadata": {},
   "outputs": [
    {
     "data": {
      "text/plain": [
       "defined \u001b[32mfunction\u001b[39m \u001b[36mkmerGenerator\u001b[39m"
      ]
     },
     "execution_count": 9,
     "metadata": {},
     "output_type": "execute_result"
    }
   ],
   "source": [
    "def kmerGenerator(k:Int, str:String = \"\"):List[String] = k match {\n",
    "    case 1 => \"ACTG\".toList.map{ str + _.toString }\n",
    "    case k => \"ACTG\".toList.map{ str + _.toString }.map{ x => kmerGenerator(k-1, x) }.flatten\n",
    "}"
   ]
  },
  {
   "cell_type": "code",
   "execution_count": 10,
   "metadata": {},
   "outputs": [
    {
     "data": {
      "text/plain": [
       "defined \u001b[32mfunction\u001b[39m \u001b[36mmedianString\u001b[39m"
      ]
     },
     "execution_count": 10,
     "metadata": {},
     "output_type": "execute_result"
    }
   ],
   "source": [
    "def medianString(dnas:List[String], k:Int) = {\n",
    "    kmerGenerator(k).map{ pattern =>\n",
    "        (\n",
    "            pattern,\n",
    "            dnas.map{ dna => dna.sliding(k).map{ kmer => hamming(pattern, kmer) }.min }.sum\n",
    "        )\n",
    "    }.sortBy{ _._2 }\n",
    "}"
   ]
  },
  {
   "cell_type": "markdown",
   "metadata": {},
   "source": [
    "## Profile most probable kmer"
   ]
  },
  {
   "cell_type": "code",
   "execution_count": 11,
   "metadata": {},
   "outputs": [
    {
     "data": {
      "text/plain": [
       "\u001b[32mimport \u001b[39m\u001b[36mscala.math.{ BigDecimal => Big, log10 }\n",
       "\u001b[39m\n",
       "defined \u001b[32mtype\u001b[39m \u001b[36mMatrix\u001b[39m"
      ]
     },
     "execution_count": 11,
     "metadata": {},
     "output_type": "execute_result"
    }
   ],
   "source": [
    "import scala.math.{ BigDecimal => Big, log10 }\n",
    "type Matrix = List[List[Big]]"
   ]
  },
  {
   "cell_type": "code",
   "execution_count": 12,
   "metadata": {},
   "outputs": [
    {
     "data": {
      "text/plain": [
       "defined \u001b[32mfunction\u001b[39m \u001b[36mprofileCreator\u001b[39m"
      ]
     },
     "execution_count": 12,
     "metadata": {},
     "output_type": "execute_result"
    }
   ],
   "source": [
    "def profileCreator(x:String):Matrix = {\n",
    "    x.split(\"\\n\").map{ _.split(\" \").map{ Big(_) }.toList }.toList\n",
    "}"
   ]
  },
  {
   "cell_type": "code",
   "execution_count": 13,
   "metadata": {},
   "outputs": [
    {
     "data": {
      "text/plain": [
       "defined \u001b[32mfunction\u001b[39m \u001b[36mprofileKmer\u001b[39m"
      ]
     },
     "execution_count": 13,
     "metadata": {},
     "output_type": "execute_result"
    }
   ],
   "source": [
    "def profileKmer(profile:Matrix, n:Int=1):(String, Big) = {\n",
    "    val prof = \"ACGT\".zip(profile)\n",
    "    (0 to n-1).\n",
    "        map{ c => \n",
    "            prof.map{ case(base, prob) => (base, prob(c)) }.\n",
    "                foldLeft(('x', Big(0.0d))){ case(mem, x) => if (mem._2 > x._2) mem else x }\n",
    "        }.toList.foldLeft((\"\", Big(0.0d))){ case(m, x) => (m._1 + x._1, m._2 * x._2) }\n",
    "}"
   ]
  },
  {
   "cell_type": "code",
   "execution_count": 14,
   "metadata": {},
   "outputs": [
    {
     "data": {
      "text/plain": [
       "defined \u001b[32mfunction\u001b[39m \u001b[36mkmerProbability\u001b[39m"
      ]
     },
     "execution_count": 14,
     "metadata": {},
     "output_type": "execute_result"
    }
   ],
   "source": [
    "def kmerProbability(kmer:String, profile:Matrix):Big = {\n",
    "    profile.transpose.zip(kmer).map{ \n",
    "        case(prob, 'A') => prob(0)\n",
    "        case(prob, 'C') => prob(1)\n",
    "        case(prob, 'G') => prob(2)\n",
    "        case(prob, 'T') => prob(3)\n",
    "    }.reduce{ _ * _ }\n",
    "}"
   ]
  },
  {
   "cell_type": "code",
   "execution_count": 15,
   "metadata": {},
   "outputs": [
    {
     "data": {
      "text/plain": [
       "defined \u001b[32mfunction\u001b[39m \u001b[36mprofileMostProbableKmer\u001b[39m\n",
       "defined \u001b[32mfunction\u001b[39m \u001b[36mprofileMostProbableKmer\u001b[39m"
      ]
     },
     "execution_count": 15,
     "metadata": {},
     "output_type": "execute_result"
    }
   ],
   "source": [
    "def profileMostProbableKmer(dna:String, prof:String, k:Int):List[(String, Big)] = {\n",
    "    val profile = profileCreator(prof)\n",
    "\n",
    "    dna.sliding(k).map{ kmer =>\n",
    "        (kmer, kmerProbability(kmer, profile))\n",
    "    }.toList.sortBy( -_._2 )\n",
    "}\n",
    "\n",
    "def profileMostProbableKmer(dna:String, profile:Matrix, k:Int):List[(String, Big)] = {\n",
    "    dna.sliding(k).map{ kmer =>\n",
    "        (kmer, kmerProbability(kmer, profile))\n",
    "    }.toList.sortBy( -_._2 )\n",
    "}"
   ]
  },
  {
   "cell_type": "markdown",
   "metadata": {},
   "source": [
    "## Greedy motif search"
   ]
  },
  {
   "cell_type": "code",
   "execution_count": 16,
   "metadata": {},
   "outputs": [
    {
     "data": {
      "text/plain": [
       "defined \u001b[32mfunction\u001b[39m \u001b[36mformProfile\u001b[39m\n",
       "defined \u001b[32mfunction\u001b[39m \u001b[36mupdateProfile\u001b[39m"
      ]
     },
     "execution_count": 16,
     "metadata": {},
     "output_type": "execute_result"
    }
   ],
   "source": [
    "def formProfile(x:List[String]):Matrix = {\n",
    "    x.transpose.\n",
    "        map{ x => \n",
    "            List(\n",
    "                Big(x.count(_ == 'A').toDouble/4.0d), \n",
    "                Big(x.count(_ == 'C').toDouble/4.0d), \n",
    "                Big(x.count(_ == 'G').toDouble/4.0d), \n",
    "                Big(x.count(_ == 'T').toDouble/4.0d))  \n",
    "        }.transpose\n",
    "}\n",
    "\n",
    "def updateProfile(x:String, prof:Matrix):Matrix = {\n",
    "    prof.map{ _.map{ _ * 4 } }.transpose.zip(x.toList).map{ \n",
    "        case(prob, 'A') => List(prob(0) + 1) ++ prob.tail\n",
    "        case(prob, 'C') => prob.take(1) ++ List(prob(1) + 1) ++ prob.drop(2)\n",
    "        case(prob, 'G') => prob.take(2) ++ List(prob(1) + 1) ++ prob.drop(1)\n",
    "        case(prob, 'T') => prob.take(3) ++ List(prob(3) + 1)\n",
    "    }.transpose.map{ _.map{ _ / 4 } }\n",
    "}"
   ]
  },
  {
   "cell_type": "code",
   "execution_count": 17,
   "metadata": {},
   "outputs": [
    {
     "data": {
      "text/plain": [
       "defined \u001b[32mfunction\u001b[39m \u001b[36mscore\u001b[39m"
      ]
     },
     "execution_count": 17,
     "metadata": {},
     "output_type": "execute_result"
    }
   ],
   "source": [
    "def score(x:List[String]):Big = {\n",
    "    val consensus = profileKmer(formProfile(x), x.head.length)._1\n",
    "    x.map{ motif => Big(hamming(consensus, motif)) }.sum\n",
    "}"
   ]
  },
  {
   "cell_type": "code",
   "execution_count": 18,
   "metadata": {},
   "outputs": [
    {
     "data": {
      "text/plain": [
       "defined \u001b[32mfunction\u001b[39m \u001b[36mgreedyMotifSearch\u001b[39m"
      ]
     },
     "execution_count": 18,
     "metadata": {},
     "output_type": "execute_result"
    }
   ],
   "source": [
    "def greedyMotifSearch(dnas:List[String], k:Int) = {\n",
    "    val bestMotifs = dnas.map{ _.take(k) }.toList\n",
    "\n",
    "    dnas.head.sliding(k).foldLeft(bestMotifs){ case(mm, kmer) =>\n",
    "        val bestKmers = dnas.tail.foldLeft( List(kmer) ){ case(motifs, dna) =>\n",
    "            val next = profileMostProbableKmer(dna, formProfile(motifs), k).head._1\n",
    "            motifs ++ List(next)\n",
    "        }\n",
    "        if (score(bestKmers) < score(mm)) bestKmers else mm\n",
    "    }\n",
    "}"
   ]
  },
  {
   "cell_type": "markdown",
   "metadata": {},
   "source": [
    "## Greedy motif search with Laplacian smoothing"
   ]
  },
  {
   "cell_type": "code",
   "execution_count": 19,
   "metadata": {},
   "outputs": [
    {
     "data": {
      "text/plain": [
       "defined \u001b[32mfunction\u001b[39m \u001b[36mformProfileLaplacian\u001b[39m"
      ]
     },
     "execution_count": 19,
     "metadata": {},
     "output_type": "execute_result"
    }
   ],
   "source": [
    "def formProfileLaplacian(x:List[String]):Matrix = {\n",
    "    x.transpose.\n",
    "        map{ x => \n",
    "            List(\n",
    "                Big((x.count(_ == 'A').toDouble + 1)/4.0d),\n",
    "                Big((x.count(_ == 'C').toDouble + 1)/4.0d),\n",
    "                Big((x.count(_ == 'G').toDouble + 1)/4.0d),\n",
    "                Big((x.count(_ == 'T').toDouble + 1)/4.0d))\n",
    "        }.transpose\n",
    "}"
   ]
  },
  {
   "cell_type": "code",
   "execution_count": 20,
   "metadata": {},
   "outputs": [
    {
     "data": {
      "text/plain": [
       "defined \u001b[32mfunction\u001b[39m \u001b[36mgreedyMotifSearchLaplacian\u001b[39m"
      ]
     },
     "execution_count": 20,
     "metadata": {},
     "output_type": "execute_result"
    }
   ],
   "source": [
    "def greedyMotifSearchLaplacian(dnas:List[String], k:Int):List[String] = {\n",
    "    val bestMotifs = dnas.map{ _.take(k) }.toList\n",
    "\n",
    "    dnas.head.sliding(k).foldLeft(bestMotifs){ case(mm, kmer) =>\n",
    "        val bestKmers = dnas.tail.foldLeft( List(kmer) ){ case(motifs, dna) =>\n",
    "            val next = profileMostProbableKmer(dna, formProfileLaplacian(motifs), k).head._1\n",
    "            motifs ++ List(next)\n",
    "        }\n",
    "        if (score(bestKmers) < score(mm)) bestKmers else mm\n",
    "    }\n",
    "}"
   ]
  },
  {
   "cell_type": "markdown",
   "metadata": {},
   "source": [
    "## Randomized motif search"
   ]
  },
  {
   "cell_type": "code",
   "execution_count": 21,
   "metadata": {},
   "outputs": [
    {
     "data": {
      "text/plain": [
       "defined \u001b[32mfunction\u001b[39m \u001b[36mgenMotifs\u001b[39m"
      ]
     },
     "execution_count": 21,
     "metadata": {},
     "output_type": "execute_result"
    }
   ],
   "source": [
    "def genMotifs(dnas:List[String], profile:Matrix, k:Int) = dnas.map{ dna => profileMostProbableKmer(dna, profile, k).head._1 }"
   ]
  },
  {
   "cell_type": "code",
   "execution_count": 22,
   "metadata": {},
   "outputs": [
    {
     "data": {
      "text/plain": [
       "defined \u001b[32mfunction\u001b[39m \u001b[36mscoreCounts\u001b[39m"
      ]
     },
     "execution_count": 22,
     "metadata": {},
     "output_type": "execute_result"
    }
   ],
   "source": [
    "def scoreCounts(x:List[String]) = {\n",
    "    val ret = x.map{ _.toList }.transpose.\n",
    "        map{ y =>\n",
    "            \"ACGT\".map{ b => Big(y.count(_ == b)) }\n",
    "        }.map{ x => (x.sum - x.max) }\n",
    "\n",
    "    ret\n",
    "}.sum"
   ]
  },
  {
   "cell_type": "code",
   "execution_count": 41,
   "metadata": {},
   "outputs": [
    {
     "data": {
      "text/plain": [
       "defined \u001b[32mfunction\u001b[39m \u001b[36mrecursiveMotifSearch\u001b[39m"
      ]
     },
     "execution_count": 41,
     "metadata": {},
     "output_type": "execute_result"
    }
   ],
   "source": [
    "def recursiveMotifSearch(best:List[String], dnas:List[String], k:Int, itr:Int=0):List[String] = {\n",
    "    val profile = formProfileLaplacian(best)\n",
    "    val newMotifs = genMotifs(dnas, profile, k)\n",
    "    println(newMotifs)\n",
    "\n",
    "    if (scoreCounts(newMotifs) >= scoreCounts(best) && itr > 0) best\n",
    "    else recursiveMotifSearch(newMotifs, dnas, k, itr + 1)\n",
    "}"
   ]
  },
  {
   "cell_type": "code",
   "execution_count": 42,
   "metadata": {},
   "outputs": [
    {
     "data": {
      "text/plain": [
       "defined \u001b[32mfunction\u001b[39m \u001b[36mrandomInit\u001b[39m"
      ]
     },
     "execution_count": 42,
     "metadata": {},
     "output_type": "execute_result"
    }
   ],
   "source": [
    "def randomInit(dnas:List[String], k:Int) = dnas.map{ dna => dna.drop(scala.util.Random.nextInt(dna.length-k)).take(k) }.toList"
   ]
  },
  {
   "cell_type": "code",
   "execution_count": 43,
   "metadata": {},
   "outputs": [
    {
     "data": {
      "text/plain": [
       "defined \u001b[32mfunction\u001b[39m \u001b[36mrandomizedMotifSearch\u001b[39m"
      ]
     },
     "execution_count": 43,
     "metadata": {},
     "output_type": "execute_result"
    }
   ],
   "source": [
    "def randomizedMotifSearch(dnas:List[String], k:Int):List[String] = {\n",
    "//     val bestMotifs = randomInit(dnas, k)\n",
    "    val bestMotifs = List(\"GTC\", \"CCC\", \"ATA\", \"GCT\")\n",
    "    recursiveMotifSearch(bestMotifs, dnas, k)\n",
    "}"
   ]
  },
  {
   "cell_type": "code",
   "execution_count": 26,
   "metadata": {},
   "outputs": [
    {
     "data": {
      "text/plain": [
       "defined \u001b[32mfunction\u001b[39m \u001b[36mrepeatedrandomizedMotifSearch\u001b[39m"
      ]
     },
     "execution_count": 26,
     "metadata": {},
     "output_type": "execute_result"
    }
   ],
   "source": [
    "def repeatedrandomizedMotifSearch(dnas:List[String], k:Int, best:Big = Big(Int.MaxValue), bestMotifs:List[String] = List[String](), itr:Int=0):List[String] = {\n",
    "    val motifs = randomizedMotifSearch(dnas, k)\n",
    "    val s = scoreCounts(motifs)\n",
    "\n",
    "    print(best.toString + \", \")\n",
    "    if (s > best && itr >= 100) bestMotifs\n",
    "    else if (s < best) repeatedrandomizedMotifSearch(dnas, k, s, motifs, 0)\n",
    "    else repeatedrandomizedMotifSearch(dnas, k, best, bestMotifs, itr+1)\n",
    "}"
   ]
  },
  {
   "cell_type": "markdown",
   "metadata": {},
   "source": [
    "## Gibbs sampling"
   ]
  },
  {
   "cell_type": "code",
   "execution_count": 27,
   "metadata": {},
   "outputs": [
    {
     "data": {
      "text/plain": [
       "defined \u001b[32mfunction\u001b[39m \u001b[36mgibbs\u001b[39m"
      ]
     },
     "execution_count": 27,
     "metadata": {},
     "output_type": "execute_result"
    }
   ],
   "source": [
    "def gibbs(dnas:List[String], k:Int, bestM:List[String]=List[String](), N:Int):List[String] = {\n",
    "    val bestMotifs:List[String] = if (bestM.isEmpty) randomInit(dnas, k) else bestM\n",
    "\n",
    "    val ignore = scala.util.Random.nextInt(dnas.length)\n",
    "    val motifsWith1Ignored = bestMotifs.zipWithIndex.filter{ case(m, i) => i != ignore }.map{ _._1 }\n",
    "    val ignProfile = formProfileLaplacian(motifsWith1Ignored)\n",
    "    val ignMotif = genMotifs(List(dnas(ignore)), ignProfile, k).head\n",
    "    val motifs = bestMotifs.zipWithIndex.map{ case(m, i) => if (i == ignore) ignMotif else m }\n",
    "    val best = scoreCounts(bestMotifs)\n",
    "    val s = scoreCounts(motifs)\n",
    "    \n",
    "    if (s >= best && N <= 0) bestMotifs\n",
    "    else if (s < best) gibbs(dnas, k, motifs, N-1)\n",
    "    else gibbs(dnas, k, bestMotifs, N-1)\n",
    "}"
   ]
  },
  {
   "cell_type": "code",
   "execution_count": 39,
   "metadata": {},
   "outputs": [
    {
     "data": {
      "text/plain": [
       "defined \u001b[32mfunction\u001b[39m \u001b[36mrepeatedGibbs\u001b[39m"
      ]
     },
     "execution_count": 39,
     "metadata": {},
     "output_type": "execute_result"
    }
   ],
   "source": [
    "def repeatedGibbs(dnas:List[String], k:Int, bestM:List[String] = List[String](), N:Int=100):List[String] = {\n",
    "    val bestMotifs:List[String] = if (bestM.isEmpty) randomInit(dnas, k) else bestM\n",
    "    val motifs = gibbs(dnas, k, N=100)\n",
    "    val s = scoreCounts(motifs)\n",
    "    val best = scoreCounts(bestMotifs)\n",
    "    \n",
    "    print(best.toString + \", \")\n",
    "    if (s >= best && N <= 0) bestMotifs\n",
    "    else if (s < best) repeatedGibbs(dnas, k, motifs, N=N-1)\n",
    "    else repeatedGibbs(dnas, k, bestMotifs, N=N-1)\n",
    "}"
   ]
  },
  {
   "cell_type": "code",
   "execution_count": null,
   "metadata": {
    "collapsed": true
   },
   "outputs": [],
   "source": []
  },
  {
   "cell_type": "code",
   "execution_count": null,
   "metadata": {
    "collapsed": true
   },
   "outputs": [],
   "source": []
  },
  {
   "cell_type": "code",
   "execution_count": null,
   "metadata": {
    "collapsed": true
   },
   "outputs": [],
   "source": []
  },
  {
   "cell_type": "code",
   "execution_count": null,
   "metadata": {
    "collapsed": true
   },
   "outputs": [],
   "source": []
  },
  {
   "cell_type": "code",
   "execution_count": null,
   "metadata": {
    "collapsed": true
   },
   "outputs": [],
   "source": []
  },
  {
   "cell_type": "code",
   "execution_count": null,
   "metadata": {
    "collapsed": true
   },
   "outputs": [],
   "source": []
  },
  {
   "cell_type": "code",
   "execution_count": null,
   "metadata": {
    "collapsed": true
   },
   "outputs": [],
   "source": []
  },
  {
   "cell_type": "code",
   "execution_count": null,
   "metadata": {
    "collapsed": true
   },
   "outputs": [],
   "source": []
  },
  {
   "cell_type": "code",
   "execution_count": null,
   "metadata": {
    "collapsed": true
   },
   "outputs": [],
   "source": []
  },
  {
   "cell_type": "code",
   "execution_count": null,
   "metadata": {
    "collapsed": true
   },
   "outputs": [],
   "source": []
  },
  {
   "cell_type": "code",
   "execution_count": null,
   "metadata": {
    "collapsed": true
   },
   "outputs": [],
   "source": []
  },
  {
   "cell_type": "code",
   "execution_count": null,
   "metadata": {
    "collapsed": true
   },
   "outputs": [],
   "source": []
  }
 ],
 "metadata": {
  "kernelspec": {
   "display_name": "Scala (develop)",
   "language": "scala",
   "name": "scala-develop"
  },
  "language_info": {
   "codemirror_mode": "text/x-scala",
   "file_extension": ".scala",
   "mimetype": "text/x-scala",
   "name": "scala211",
   "nbconvert_exporter": "script",
   "pygments_lexer": "scala",
   "version": "2.11.8"
  }
 },
 "nbformat": 4,
 "nbformat_minor": 2
}
