{
 "cells": [
  {
   "cell_type": "markdown",
   "metadata": {},
   "source": [
    "## Nucloetide Skew"
   ]
  },
  {
   "cell_type": "code",
   "execution_count": 1,
   "metadata": {},
   "outputs": [
    {
     "data": {
      "text/plain": [
       "defined \u001b[32mfunction\u001b[39m \u001b[36mskew\u001b[39m"
      ]
     },
     "execution_count": 1,
     "metadata": {},
     "output_type": "execute_result"
    }
   ],
   "source": [
    "def skew(genome:String):List[Int] = {\n",
    "    genome.foldLeft(List(0)){ case(m, x) => \n",
    "        val ret = if (x == 'G') m :+ (m.last+1) \n",
    "            else if (x == 'C') m :+ (m.last-1) \n",
    "            else m\n",
    "        ret\n",
    "    }\n",
    "}"
   ]
  },
  {
   "cell_type": "markdown",
   "metadata": {},
   "source": [
    "## Hamming distance"
   ]
  },
  {
   "cell_type": "code",
   "execution_count": 2,
   "metadata": {},
   "outputs": [
    {
     "data": {
      "text/plain": [
       "defined \u001b[32mfunction\u001b[39m \u001b[36mhamming\u001b[39m"
      ]
     },
     "execution_count": 2,
     "metadata": {},
     "output_type": "execute_result"
    }
   ],
   "source": [
    "def hamming(s1: String, s2: String): Int = s1.zip(s2).count(c => c._1 != c._2)"
   ]
  },
  {
   "cell_type": "markdown",
   "metadata": {},
   "source": [
    "## Approx pattern matching"
   ]
  },
  {
   "cell_type": "code",
   "execution_count": 3,
   "metadata": {},
   "outputs": [
    {
     "data": {
      "text/plain": [
       "defined \u001b[32mfunction\u001b[39m \u001b[36mapproxMatch\u001b[39m"
      ]
     },
     "execution_count": 3,
     "metadata": {},
     "output_type": "execute_result"
    }
   ],
   "source": [
    "def approxMatch(pattern:String, input:String, k:Int=3):List[Int] = {\n",
    "    input.sliding(pattern.length).zipWithIndex.\n",
    "        filter{ case(kmer, i) => hamming(kmer, pattern) <= k }.\n",
    "        map{ _._2 }.toList\n",
    "}"
   ]
  },
  {
   "cell_type": "markdown",
   "metadata": {},
   "source": [
    "## Frequent k-mers with mismatches"
   ]
  },
  {
   "cell_type": "code",
   "execution_count": 4,
   "metadata": {},
   "outputs": [
    {
     "data": {
      "text/plain": [
       "defined \u001b[32mfunction\u001b[39m \u001b[36mneighbours\u001b[39m\n",
       "defined \u001b[32mfunction\u001b[39m \u001b[36mneighbours\u001b[39m"
      ]
     },
     "execution_count": 4,
     "metadata": {},
     "output_type": "execute_result"
    }
   ],
   "source": [
    "def neighbours(x:String):List[String] = {\n",
    "    val bases = \"ACTG\"\n",
    "    (0 to x.length-1).map{ i =>\n",
    "        bases.filter{ _ != x(i) }\n",
    "            .map{ b => \n",
    "                val y = x.toCharArray \n",
    "                y(i) = b\n",
    "                y.mkString(\"\")\n",
    "            }.toList\n",
    "    }.toList.flatten.distinct\n",
    "}\n",
    "def neighbours(x:String, d:Int):List[String] = if (d == 1) neighbours(x) else {\n",
    "    neighbours(x).map{ neighbours(_, d-1) }.flatten.distinct\n",
    "}"
   ]
  },
  {
   "cell_type": "code",
   "execution_count": 5,
   "metadata": {
    "scrolled": true
   },
   "outputs": [
    {
     "data": {
      "text/plain": [
       "defined \u001b[32mfunction\u001b[39m \u001b[36mapproxKmers\u001b[39m"
      ]
     },
     "execution_count": 5,
     "metadata": {},
     "output_type": "execute_result"
    }
   ],
   "source": [
    "def approxKmers(x:String, k:Int, d:Int):List[(String, Int)] = {\n",
    "    val km = x.toList.sliding(k)\n",
    "    \n",
    "    km.map{ x => x.mkString(\"\") }.\n",
    "        map{ kmer => neighbours(kmer, d) ++ List(kmer) }.flatten.toList.\n",
    "        groupBy{ identity }.map{ case(k, v) => (k, v.length) }.toList\n",
    "}"
   ]
  },
  {
   "cell_type": "code",
   "execution_count": 6,
   "metadata": {},
   "outputs": [
    {
     "data": {
      "text/plain": [
       "defined \u001b[32mfunction\u001b[39m \u001b[36mreverseCompliments\u001b[39m"
      ]
     },
     "execution_count": 6,
     "metadata": {},
     "output_type": "execute_result"
    }
   ],
   "source": [
    "def reverseCompliments(x:String):String = x.map{ base => \n",
    "    base match {\n",
    "        case 'A' => 'T'\n",
    "        case 'T' => 'A'\n",
    "        case 'G' => 'C'\n",
    "        case 'C' => 'G'\n",
    "    }\n",
    "}.reverse"
   ]
  },
  {
   "cell_type": "markdown",
   "metadata": {},
   "source": [
    "## Frequent k-mers with mismatches and reverse compliments"
   ]
  },
  {
   "cell_type": "code",
   "execution_count": 7,
   "metadata": {},
   "outputs": [
    {
     "data": {
      "text/plain": [
       "defined \u001b[32mfunction\u001b[39m \u001b[36mapproxKmersC\u001b[39m"
      ]
     },
     "execution_count": 7,
     "metadata": {},
     "output_type": "execute_result"
    }
   ],
   "source": [
    "def approxKmersC(x:String, k:Int, d:Int):List[(String, Int)] = {\n",
    "    val km = x.toList.sliding(k)\n",
    "    \n",
    "    km.map{ x => x.mkString(\"\") }.\n",
    "        map{ kmer => \n",
    "            neighbours(kmer, d) ++ List(kmer) ++\n",
    "            neighbours(kmer, d).map{ reverseCompliments(_) }\n",
    "        }.flatten.toList.\n",
    "        foldLeft(Map[String, Int]()) { case(m, x) =>\n",
    "            m ++ Map(x -> (m.get(x).getOrElse(0) + 1))\n",
    "        }.toList\n",
    "}"
   ]
  },
  {
   "cell_type": "markdown",
   "metadata": {},
   "source": [
    "## Motif Enumeration in a bunch of DNA strings"
   ]
  },
  {
   "cell_type": "code",
   "execution_count": 8,
   "metadata": {},
   "outputs": [
    {
     "data": {
      "text/plain": [
       "defined \u001b[32mfunction\u001b[39m \u001b[36mmotifEnumeration\u001b[39m"
      ]
     },
     "execution_count": 8,
     "metadata": {},
     "output_type": "execute_result"
    }
   ],
   "source": [
    "def motifEnumeration(dnas:List[String], k:Int, d:Int) = {\n",
    "    dnas.map{ dna =>\n",
    "        dna.sliding(k).map{ pattern => neighbours(pattern, d).toSet }.toSet.flatten\n",
    "    }.reduce{ (a, b) => a.intersect(b) }\n",
    "}"
   ]
  },
  {
   "cell_type": "markdown",
   "metadata": {},
   "source": [
    "## Median string problem"
   ]
  },
  {
   "cell_type": "code",
   "execution_count": 9,
   "metadata": {},
   "outputs": [
    {
     "data": {
      "text/plain": [
       "defined \u001b[32mfunction\u001b[39m \u001b[36mkmerGenerator\u001b[39m"
      ]
     },
     "execution_count": 9,
     "metadata": {},
     "output_type": "execute_result"
    }
   ],
   "source": [
    "def kmerGenerator(k:Int, str:String = \"\"):List[String] = k match {\n",
    "    case 1 => \"ACTG\".toList.map{ str + _.toString }\n",
    "    case k => \"ACTG\".toList.map{ str + _.toString }.map{ x => kmerGenerator(k-1, x) }.flatten\n",
    "}"
   ]
  },
  {
   "cell_type": "code",
   "execution_count": 10,
   "metadata": {},
   "outputs": [
    {
     "data": {
      "text/plain": [
       "defined \u001b[32mfunction\u001b[39m \u001b[36mmedianString\u001b[39m"
      ]
     },
     "execution_count": 10,
     "metadata": {},
     "output_type": "execute_result"
    }
   ],
   "source": [
    "def medianString(dnas:List[String], k:Int) = {\n",
    "    kmerGenerator(k).map{ pattern =>\n",
    "        (\n",
    "            pattern,\n",
    "            dnas.map{ dna => dna.sliding(k).map{ kmer => hamming(pattern, kmer) }.min }.sum\n",
    "        )\n",
    "    }.sortBy{ _._2 }\n",
    "}"
   ]
  },
  {
   "cell_type": "markdown",
   "metadata": {},
   "source": [
    "## Profile most probable kmer"
   ]
  },
  {
   "cell_type": "code",
   "execution_count": 11,
   "metadata": {},
   "outputs": [
    {
     "data": {
      "text/plain": [
       "\u001b[32mimport \u001b[39m\u001b[36mscala.math.{ BigDecimal => Big, log10 }\n",
       "\u001b[39m\n",
       "defined \u001b[32mtype\u001b[39m \u001b[36mMatrix\u001b[39m"
      ]
     },
     "execution_count": 11,
     "metadata": {},
     "output_type": "execute_result"
    }
   ],
   "source": [
    "import scala.math.{ BigDecimal => Big, log10 }\n",
    "type Matrix = List[List[Big]]"
   ]
  },
  {
   "cell_type": "code",
   "execution_count": 12,
   "metadata": {},
   "outputs": [
    {
     "data": {
      "text/plain": [
       "defined \u001b[32mfunction\u001b[39m \u001b[36mprofileCreator\u001b[39m"
      ]
     },
     "execution_count": 12,
     "metadata": {},
     "output_type": "execute_result"
    }
   ],
   "source": [
    "def profileCreator(x:String):Matrix = {\n",
    "    x.split(\"\\n\").map{ _.split(\" \").map{ Big(_) }.toList }.toList\n",
    "}"
   ]
  },
  {
   "cell_type": "code",
   "execution_count": 13,
   "metadata": {},
   "outputs": [
    {
     "data": {
      "text/plain": [
       "defined \u001b[32mfunction\u001b[39m \u001b[36mprofileKmer\u001b[39m"
      ]
     },
     "execution_count": 13,
     "metadata": {},
     "output_type": "execute_result"
    }
   ],
   "source": [
    "def profileKmer(profile:Matrix, n:Int=1):(String, Big) = {\n",
    "    val prof = \"ACGT\".zip(profile)\n",
    "    (0 to n-1).\n",
    "        map{ c => \n",
    "            prof.map{ case(base, prob) => (base, prob(c)) }.\n",
    "                foldLeft(('x', Big(0.0d))){ case(mem, x) => if (mem._2 > x._2) mem else x }\n",
    "        }.toList.foldLeft((\"\", Big(0.0d))){ case(m, x) => (m._1 + x._1, m._2 * x._2) }\n",
    "}"
   ]
  },
  {
   "cell_type": "code",
   "execution_count": 14,
   "metadata": {},
   "outputs": [
    {
     "data": {
      "text/plain": [
       "defined \u001b[32mfunction\u001b[39m \u001b[36mkmerProbability\u001b[39m"
      ]
     },
     "execution_count": 14,
     "metadata": {},
     "output_type": "execute_result"
    }
   ],
   "source": [
    "def kmerProbability(kmer:String, profile:Matrix):Big = {\n",
    "    profile.transpose.zip(kmer).map{ \n",
    "        case(prob, 'A') => prob(0)\n",
    "        case(prob, 'C') => prob(1)\n",
    "        case(prob, 'G') => prob(2)\n",
    "        case(prob, 'T') => prob(3)\n",
    "    }.reduce{ _ * _ }\n",
    "}"
   ]
  },
  {
   "cell_type": "code",
   "execution_count": 15,
   "metadata": {},
   "outputs": [
    {
     "data": {
      "text/plain": [
       "defined \u001b[32mfunction\u001b[39m \u001b[36mprofileMostProbableKmer\u001b[39m\n",
       "defined \u001b[32mfunction\u001b[39m \u001b[36mprofileMostProbableKmer\u001b[39m"
      ]
     },
     "execution_count": 15,
     "metadata": {},
     "output_type": "execute_result"
    }
   ],
   "source": [
    "def profileMostProbableKmer(dna:String, prof:String, k:Int):List[(String, Big)] = {\n",
    "    val profile = profileCreator(prof)\n",
    "\n",
    "    dna.sliding(k).map{ kmer =>\n",
    "        (kmer, kmerProbability(kmer, profile))\n",
    "    }.toList.sortBy( -_._2 )\n",
    "}\n",
    "\n",
    "def profileMostProbableKmer(dna:String, profile:Matrix, k:Int):List[(String, Big)] = {\n",
    "    dna.sliding(k).map{ kmer =>\n",
    "        (kmer, kmerProbability(kmer, profile))\n",
    "    }.toList.sortBy( -_._2 )\n",
    "}"
   ]
  },
  {
   "cell_type": "markdown",
   "metadata": {},
   "source": [
    "## Greedy motif search"
   ]
  },
  {
   "cell_type": "code",
   "execution_count": 16,
   "metadata": {},
   "outputs": [
    {
     "data": {
      "text/plain": [
       "defined \u001b[32mfunction\u001b[39m \u001b[36mformProfile\u001b[39m"
      ]
     },
     "execution_count": 16,
     "metadata": {},
     "output_type": "execute_result"
    }
   ],
   "source": [
    "def formProfile(x:List[String]):Matrix = {\n",
    "    x.transpose.\n",
    "        map{ x => \n",
    "            List(\n",
    "                Big(x.count(_ == 'A').toDouble/4.0d), \n",
    "                Big(x.count(_ == 'C').toDouble/4.0d), \n",
    "                Big(x.count(_ == 'G').toDouble/4.0d), \n",
    "                Big(x.count(_ == 'T').toDouble/4.0d))  \n",
    "        }.transpose\n",
    "}"
   ]
  },
  {
   "cell_type": "code",
   "execution_count": 17,
   "metadata": {},
   "outputs": [
    {
     "data": {
      "text/plain": [
       "defined \u001b[32mfunction\u001b[39m \u001b[36mscore\u001b[39m"
      ]
     },
     "execution_count": 17,
     "metadata": {},
     "output_type": "execute_result"
    }
   ],
   "source": [
    "def score(x:List[String]):Big = {\n",
    "    val consensus = profileKmer(formProfile(x), x.head.length)._1\n",
    "    x.map{ motif => Big(hamming(consensus, motif)) }.sum\n",
    "}"
   ]
  },
  {
   "cell_type": "code",
   "execution_count": 18,
   "metadata": {},
   "outputs": [
    {
     "data": {
      "text/plain": [
       "defined \u001b[32mfunction\u001b[39m \u001b[36mgreedyMotifSearch\u001b[39m"
      ]
     },
     "execution_count": 18,
     "metadata": {},
     "output_type": "execute_result"
    }
   ],
   "source": [
    "def greedyMotifSearch(dnas:List[String], k:Int) = {\n",
    "    val bestMotifs = dnas.map{ _.take(k) }.toList\n",
    "\n",
    "    dnas.head.sliding(k).foldLeft(bestMotifs){ case(mm, kmer) =>\n",
    "        val bestKmers = dnas.tail.foldLeft( List(kmer) ){ case(motifs, dna) =>\n",
    "            val next = profileMostProbableKmer(dna, formProfile(motifs), k).head._1\n",
    "            motifs ++ List(next)\n",
    "        }\n",
    "        if (score(bestKmers) < score(mm)) bestKmers else mm\n",
    "    }\n",
    "}"
   ]
  },
  {
   "cell_type": "markdown",
   "metadata": {},
   "source": [
    "## Greedy motif search with Laplacian smoothing"
   ]
  },
  {
   "cell_type": "code",
   "execution_count": 19,
   "metadata": {},
   "outputs": [
    {
     "data": {
      "text/plain": [
       "defined \u001b[32mfunction\u001b[39m \u001b[36mformProfileLaplacian\u001b[39m"
      ]
     },
     "execution_count": 19,
     "metadata": {},
     "output_type": "execute_result"
    }
   ],
   "source": [
    "def formProfileLaplacian(x:List[String]):Matrix = {\n",
    "    x.transpose.\n",
    "        map{ x => \n",
    "            List(\n",
    "                Big((x.count(_ == 'A').toDouble + 1)/4.0d),\n",
    "                Big((x.count(_ == 'C').toDouble + 1)/4.0d),\n",
    "                Big((x.count(_ == 'G').toDouble + 1)/4.0d),\n",
    "                Big((x.count(_ == 'T').toDouble + 1)/4.0d))\n",
    "        }.transpose\n",
    "}"
   ]
  },
  {
   "cell_type": "code",
   "execution_count": 20,
   "metadata": {},
   "outputs": [
    {
     "data": {
      "text/plain": [
       "defined \u001b[32mfunction\u001b[39m \u001b[36mgreedyMotifSearchLaplacian\u001b[39m"
      ]
     },
     "execution_count": 20,
     "metadata": {},
     "output_type": "execute_result"
    }
   ],
   "source": [
    "def greedyMotifSearchLaplacian(dnas:List[String], k:Int):List[String] = {\n",
    "    val bestMotifs = dnas.map{ _.take(k) }.toList\n",
    "\n",
    "    dnas.head.sliding(k).foldLeft(bestMotifs){ case(mm, kmer) =>\n",
    "        val bestKmers = dnas.tail.foldLeft( List(kmer) ){ case(motifs, dna) =>\n",
    "            val next = profileMostProbableKmer(dna, formProfileLaplacian(motifs), k).head._1\n",
    "            motifs ++ List(next)\n",
    "        }\n",
    "        if (score(bestKmers) < score(mm)) bestKmers else mm\n",
    "    }\n",
    "}"
   ]
  },
  {
   "cell_type": "markdown",
   "metadata": {},
   "source": [
    "## Randomized motif search"
   ]
  },
  {
   "cell_type": "code",
   "execution_count": 21,
   "metadata": {},
   "outputs": [
    {
     "data": {
      "text/plain": [
       "defined \u001b[32mfunction\u001b[39m \u001b[36mgenMotifs\u001b[39m"
      ]
     },
     "execution_count": 21,
     "metadata": {},
     "output_type": "execute_result"
    }
   ],
   "source": [
    "def genMotifs(dnas:List[String], profile:Matrix, k:Int) = dnas.map{ dna => profileMostProbableKmer(dna, profile, k).head._1 }"
   ]
  },
  {
   "cell_type": "code",
   "execution_count": 22,
   "metadata": {},
   "outputs": [
    {
     "data": {
      "text/plain": [
       "defined \u001b[32mfunction\u001b[39m \u001b[36mscoreCounts\u001b[39m"
      ]
     },
     "execution_count": 22,
     "metadata": {},
     "output_type": "execute_result"
    }
   ],
   "source": [
    "def scoreCounts(x:List[String]) = {\n",
    "    val ret = x.map{ _.toList }.transpose.\n",
    "        map{ y =>\n",
    "            \"ACGT\".map{ b => Big(y.count(_ == b)) }\n",
    "        }.map{ x => (x.sum - x.max) }\n",
    "\n",
    "    ret\n",
    "}.sum"
   ]
  },
  {
   "cell_type": "code",
   "execution_count": 23,
   "metadata": {},
   "outputs": [
    {
     "data": {
      "text/plain": [
       "defined \u001b[32mfunction\u001b[39m \u001b[36mrecursiveMotifSearch\u001b[39m"
      ]
     },
     "execution_count": 23,
     "metadata": {},
     "output_type": "execute_result"
    }
   ],
   "source": [
    "def recursiveMotifSearch(best:List[String], dnas:List[String], k:Int, itr:Int=0):List[String] = {\n",
    "    val profile = formProfileLaplacian(best)\n",
    "    val newMotifs = genMotifs(dnas, profile, k)\n",
    "\n",
    "    if (scoreCounts(newMotifs) >= scoreCounts(best) && itr > 0) best\n",
    "    else recursiveMotifSearch(newMotifs, dnas, k, itr + 1)\n",
    "}"
   ]
  },
  {
   "cell_type": "code",
   "execution_count": 24,
   "metadata": {},
   "outputs": [
    {
     "data": {
      "text/plain": [
       "defined \u001b[32mfunction\u001b[39m \u001b[36mrandomInit\u001b[39m"
      ]
     },
     "execution_count": 24,
     "metadata": {},
     "output_type": "execute_result"
    }
   ],
   "source": [
    "def randomInit(dnas:List[String], k:Int) = dnas.map{ dna => dna.drop(scala.util.Random.nextInt(dna.length-k)).take(k) }.toList"
   ]
  },
  {
   "cell_type": "code",
   "execution_count": 25,
   "metadata": {},
   "outputs": [
    {
     "data": {
      "text/plain": [
       "defined \u001b[32mfunction\u001b[39m \u001b[36mrandomizedMotifSearch\u001b[39m"
      ]
     },
     "execution_count": 25,
     "metadata": {},
     "output_type": "execute_result"
    }
   ],
   "source": [
    "def randomizedMotifSearch(dnas:List[String], k:Int):List[String] = {\n",
    "    val bestMotifs = randomInit(dnas, k)\n",
    "    recursiveMotifSearch(bestMotifs, dnas, k)\n",
    "}"
   ]
  },
  {
   "cell_type": "code",
   "execution_count": 26,
   "metadata": {},
   "outputs": [
    {
     "data": {
      "text/plain": [
       "defined \u001b[32mfunction\u001b[39m \u001b[36mrepeatedrandomizedMotifSearch\u001b[39m"
      ]
     },
     "execution_count": 26,
     "metadata": {},
     "output_type": "execute_result"
    }
   ],
   "source": [
    "def repeatedrandomizedMotifSearch(dnas:List[String], k:Int, best:Big = Big(Int.MaxValue), bestMotifs:List[String] = List[String](), itr:Int=0):List[String] = {\n",
    "    val motifs = randomizedMotifSearch(dnas, k)\n",
    "    val s = scoreCounts(motifs)\n",
    "\n",
    "    print(best.toString + \", \")\n",
    "    if (s > best && itr >= 100) bestMotifs\n",
    "    else if (s < best) repeatedrandomizedMotifSearch(dnas, k, s, motifs, 0)\n",
    "    else repeatedrandomizedMotifSearch(dnas, k, best, bestMotifs, itr+1)\n",
    "}"
   ]
  },
  {
   "cell_type": "markdown",
   "metadata": {},
   "source": [
    "## Gibbs sampling"
   ]
  },
  {
   "cell_type": "code",
   "execution_count": 27,
   "metadata": {},
   "outputs": [
    {
     "data": {
      "text/plain": [
       "defined \u001b[32mfunction\u001b[39m \u001b[36mgibbs\u001b[39m"
      ]
     },
     "execution_count": 27,
     "metadata": {},
     "output_type": "execute_result"
    }
   ],
   "source": [
    "def gibbs(dnas:List[String], k:Int, bestM:List[String]=List[String](), N:Int):List[String] = {\n",
    "    val bestMotifs:List[String] = if (bestM.isEmpty) randomInit(dnas, k) else bestM\n",
    "\n",
    "    val ignore = scala.util.Random.nextInt(dnas.length)\n",
    "    val motifsWith1Ignored = bestMotifs.zipWithIndex.filter{ case(m, i) => i != ignore }.map{ _._1 }\n",
    "    val ignProfile = formProfileLaplacian(motifsWith1Ignored)\n",
    "    val ignMotif = genMotifs(List(dnas(ignore)), ignProfile, k).head\n",
    "    val motifs = bestMotifs.zipWithIndex.map{ case(m, i) => if (i == ignore) ignMotif else m }\n",
    "    val best = scoreCounts(bestMotifs)\n",
    "    val s = scoreCounts(motifs)\n",
    "    \n",
    "    if (s >= best && N <= 0) bestMotifs\n",
    "    else if (s < best) gibbs(dnas, k, motifs, N-1)\n",
    "    else gibbs(dnas, k, bestMotifs, N-1)\n",
    "}"
   ]
  },
  {
   "cell_type": "code",
   "execution_count": 28,
   "metadata": {
    "scrolled": true
   },
   "outputs": [
    {
     "data": {
      "text/plain": [
       "defined \u001b[32mfunction\u001b[39m \u001b[36mrepeatedGibbs\u001b[39m"
      ]
     },
     "execution_count": 28,
     "metadata": {},
     "output_type": "execute_result"
    }
   ],
   "source": [
    "def repeatedGibbs(dnas:List[String], k:Int, bestM:List[String] = List[String](), N:Int=100):List[String] = {\n",
    "    val bestMotifs:List[String] = if (bestM.isEmpty) randomInit(dnas, k) else bestM\n",
    "    val motifs = gibbs(dnas, k, N=100)\n",
    "    val s = scoreCounts(motifs)\n",
    "    val best = scoreCounts(bestMotifs)\n",
    "    \n",
    "    print(best.toString + \", \")\n",
    "    if (s >= best && N <= 0) bestMotifs\n",
    "    else if (s < best) repeatedGibbs(dnas, k, motifs, N=N-1)\n",
    "    else repeatedGibbs(dnas, k, bestMotifs, N=N-1)\n",
    "}"
   ]
  },
  {
   "cell_type": "markdown",
   "metadata": {},
   "source": [
    "## String composition"
   ]
  },
  {
   "cell_type": "code",
   "execution_count": 29,
   "metadata": {},
   "outputs": [
    {
     "data": {
      "text/plain": [
       "defined \u001b[32mfunction\u001b[39m \u001b[36mcomposition\u001b[39m"
      ]
     },
     "execution_count": 29,
     "metadata": {},
     "output_type": "execute_result"
    }
   ],
   "source": [
    "def composition(x:String, k:Int):List[String] = x.sliding(k).toList.sorted"
   ]
  },
  {
   "cell_type": "markdown",
   "metadata": {},
   "source": [
    "## Genome construction form genome path"
   ]
  },
  {
   "cell_type": "code",
   "execution_count": 30,
   "metadata": {},
   "outputs": [
    {
     "data": {
      "text/plain": [
       "defined \u001b[32mfunction\u001b[39m \u001b[36moverlapCoef\u001b[39m"
      ]
     },
     "execution_count": 30,
     "metadata": {},
     "output_type": "execute_result"
    }
   ],
   "source": [
    "def overlapCoef(x:String, y:String):Int = {\n",
    "    (0 to x.length).map{ i => if (x.drop(i) == y.take(y.length - i)) i else 0 }.find{ _ > 0 }.getOrElse(0)\n",
    "}"
   ]
  },
  {
   "cell_type": "code",
   "execution_count": 31,
   "metadata": {},
   "outputs": [
    {
     "data": {
      "text/plain": [
       "defined \u001b[32mfunction\u001b[39m \u001b[36mfromGenomePath\u001b[39m"
      ]
     },
     "execution_count": 31,
     "metadata": {},
     "output_type": "execute_result"
    }
   ],
   "source": [
    "def fromGenomePath(path:List[String]):String = {\n",
    "    val overlap = overlapCoef(path.head, path(1))\n",
    "    val start = path.head.take(path.head.length-overlap)\n",
    "    start + path.map{ x => x.takeRight(overlap) }.mkString(\"\")\n",
    "}"
   ]
  },
  {
   "cell_type": "markdown",
   "metadata": {
    "collapsed": true
   },
   "source": [
    "## Overlap graph"
   ]
  },
  {
   "cell_type": "code",
   "execution_count": 32,
   "metadata": {},
   "outputs": [
    {
     "data": {
      "text/plain": [
       "defined \u001b[32mfunction\u001b[39m \u001b[36mkmerOverlap\u001b[39m"
      ]
     },
     "execution_count": 32,
     "metadata": {},
     "output_type": "execute_result"
    }
   ],
   "source": [
    "def kmerOverlap(x:String, y:String):Int = {\n",
    "    if (x == y) 0\n",
    "    else {\n",
    "        (0 to x.length).map{ i =>\n",
    "            if ( y.take(i) == x.take(i) || y.takeRight(i) == x.take(i) ) i else 0 }.max\n",
    "    }\n",
    "}"
   ]
  },
  {
   "cell_type": "code",
   "execution_count": 33,
   "metadata": {},
   "outputs": [
    {
     "data": {
      "text/plain": [
       "defined \u001b[32mtype\u001b[39m \u001b[36mAdjacencyMatrix\u001b[39m"
      ]
     },
     "execution_count": 33,
     "metadata": {},
     "output_type": "execute_result"
    }
   ],
   "source": [
    "type AdjacencyMatrix = List[List[Int]]"
   ]
  },
  {
   "cell_type": "code",
   "execution_count": 34,
   "metadata": {},
   "outputs": [
    {
     "data": {
      "text/plain": [
       "defined \u001b[32mfunction\u001b[39m \u001b[36moverlapGraph\u001b[39m"
      ]
     },
     "execution_count": 34,
     "metadata": {},
     "output_type": "execute_result"
    }
   ],
   "source": [
    "def overlapGraph(kmers:List[String]):AdjacencyMatrix = {\n",
    "    val overlaps = kmers.par.map{ kmer => kmers.par.map{ kmer2 => kmerOverlap(kmer, kmer2) }.toList }.toList\n",
    "    val maxOverlap = overlaps.par.map{ _.par.filter{ _ != overlaps.length }.toList.max }.toList.max\n",
    "    println(maxOverlap)\n",
    "    overlaps.par.map{ x => x.par.map{ y => if (y >= maxOverlap) 1 else 0 }.toList }.toList\n",
    "}"
   ]
  },
  {
   "cell_type": "code",
   "execution_count": 35,
   "metadata": {
    "scrolled": false
   },
   "outputs": [
    {
     "data": {
      "text/plain": [
       "defined \u001b[32mfunction\u001b[39m \u001b[36madjacencyList\u001b[39m"
      ]
     },
     "execution_count": 35,
     "metadata": {},
     "output_type": "execute_result"
    }
   ],
   "source": [
    "def adjacencyList(kmers:List[String]):List[(String, String)] = \n",
    "    kmers.map{ k1 => \n",
    "        kmers.map{ k2 => (k1, k2) } }.\n",
    "            flatten.zip(overlapGraph(kmers).flatten).\n",
    "            filter{ case((k1, k2), o) => k1 != k2 && o > 0 }.\n",
    "            map{ case((k1, k2), o) => (k2 -> k1) }"
   ]
  },
  {
   "cell_type": "code",
   "execution_count": 36,
   "metadata": {},
   "outputs": [
    {
     "data": {
      "text/plain": [
       "defined \u001b[32mtype\u001b[39m \u001b[36mAdjacencyList\u001b[39m"
      ]
     },
     "execution_count": 36,
     "metadata": {},
     "output_type": "execute_result"
    }
   ],
   "source": [
    "type AdjacencyList = List[(String, String)]"
   ]
  },
  {
   "cell_type": "markdown",
   "metadata": {},
   "source": [
    "## De Bruijn graph"
   ]
  },
  {
   "cell_type": "code",
   "execution_count": 37,
   "metadata": {},
   "outputs": [
    {
     "data": {
      "text/plain": [
       "defined \u001b[32mfunction\u001b[39m \u001b[36mdebruijn\u001b[39m"
      ]
     },
     "execution_count": 37,
     "metadata": {},
     "output_type": "execute_result"
    }
   ],
   "source": [
    "def debruijn(motif:String, k:Int) = {\n",
    "    val kmers = motif.sliding(k).toList\n",
    "    val nodes = List(kmers.head.take(k-1)) ++ kmers.map{ _.takeRight(k-1) }\n",
    "    nodes.sliding(2).map{ case List(a, b) => (a -> b) }.toList.\n",
    "        groupBy{ _._1 }.map{ case(k, v) => (k, v.map{ _._2 }) }\n",
    "}"
   ]
  },
  {
   "cell_type": "code",
   "execution_count": 38,
   "metadata": {},
   "outputs": [
    {
     "data": {
      "text/plain": [
       "defined \u001b[32mfunction\u001b[39m \u001b[36mdebruijn\u001b[39m"
      ]
     },
     "execution_count": 38,
     "metadata": {},
     "output_type": "execute_result"
    }
   ],
   "source": [
    "def debruijn(kmers:List[String]) = {\n",
    "    val k = kmers.head.length\n",
    "    val nodes = List(kmers.head.take(k-1)) ++ kmers.map{ _.takeRight(k-1) }.distinct\n",
    "    kmers.map{ kmer => (kmer.take(k-1), kmer.takeRight(k-1)) }.\n",
    "        groupBy{ _._1 }.map{ case(a,b) => (a, b.map{ _._2 }) }\n",
    "}"
   ]
  },
  {
   "cell_type": "markdown",
   "metadata": {},
   "source": [
    "## DPChange"
   ]
  },
  {
   "cell_type": "code",
   "execution_count": 39,
   "metadata": {},
   "outputs": [
    {
     "data": {
      "text/plain": [
       "defined \u001b[32mfunction\u001b[39m \u001b[36mdpchange\u001b[39m"
      ]
     },
     "execution_count": 39,
     "metadata": {},
     "output_type": "execute_result"
    }
   ],
   "source": [
    "def dpchange(total:Int, values:List[Int], state:List[Int] = List(0)):Int = {\n",
    "    (1 to total).foldLeft(Map(0 -> 0)){ case(mem, m) =>\n",
    "        val ret:Int = values.foldLeft(Int.MaxValue){ case(minv, value) =>\n",
    "            if (m >= value) {\n",
    "                val v = mem(m - value) + 1\n",
    "                if (v < mem.get(m).getOrElse(Int.MaxValue) && v < minv) v\n",
    "                else minv\n",
    "            } else minv\n",
    "        }\n",
    "        mem ++ Map(m -> ret)\n",
    "    }.toList.sortBy{ _._1 }.last._2\n",
    "}"
   ]
  },
  {
   "cell_type": "markdown",
   "metadata": {
    "collapsed": true
   },
   "source": [
    "## Manhattan tourist problem"
   ]
  },
  {
   "cell_type": "code",
   "execution_count": 40,
   "metadata": {},
   "outputs": [
    {
     "data": {
      "text/plain": [
       "defined \u001b[32mfunction\u001b[39m \u001b[36msouthOrEast\u001b[39m"
      ]
     },
     "execution_count": 40,
     "metadata": {},
     "output_type": "execute_result"
    }
   ],
   "source": [
    "def southOrEast(i:Int, j:Int, weights:Matrix):Big = if (i==0 && j==0) 0 else {\n",
    "    val x = if (i > 0) southOrEast(i-1, j, weights) + weights(i)(j) else Big(-9999999)\n",
    "    val y = if (j > 0) southOrEast(i, j-1, weights) + weights(i)(j) else Big(-9999999)\n",
    "    List(x, y).max\n",
    "}"
   ]
  },
  {
   "cell_type": "code",
   "execution_count": 41,
   "metadata": {},
   "outputs": [
    {
     "data": {
      "text/plain": [
       "\u001b[32mimport \u001b[39m\u001b[36mscala.collection.mutable.ArrayBuffer\n",
       "\n",
       "\u001b[39m\n",
       "defined \u001b[32mfunction\u001b[39m \u001b[36mmanhattanTourist\u001b[39m"
      ]
     },
     "execution_count": 41,
     "metadata": {},
     "output_type": "execute_result"
    }
   ],
   "source": [
    "import scala.collection.mutable.ArrayBuffer\n",
    "\n",
    "def manhattanTourist(n:Int, m:Int, down:Matrix, right:Matrix) = {\n",
    "    val s = ArrayBuffer.fill(n+1, m+1)(Big(0))\n",
    "    (1 to n).map{ i => s(i)(0) = s(i-1)(0) + down(i-1)(0) }\n",
    "    (1 to m).map{ i => s(0)(i) = s(0)(i-1) + right(0)(i-1) }\n",
    "\n",
    "    (1 to n).map{ i => (1 to m).map{ j =>\n",
    "        s(i)(j) = List( s(i-1)(j) + down(i-1)(j), s(i)(j-1) + right(i)(j-1) ).max\n",
    "    } }\n",
    "    s(n)(m)\n",
    "}"
   ]
  },
  {
   "cell_type": "markdown",
   "metadata": {
    "collapsed": true
   },
   "source": [
    "## Backtracking"
   ]
  },
  {
   "cell_type": "code",
   "execution_count": 42,
   "metadata": {},
   "outputs": [
    {
     "data": {
      "text/plain": [
       "\u001b[32mimport \u001b[39m\u001b[36mscala.collection.mutable.ArrayBuffer\n",
       "\n",
       "\u001b[39m\n",
       "defined \u001b[32mfunction\u001b[39m \u001b[36mlcsBacktrack\u001b[39m"
      ]
     },
     "execution_count": 42,
     "metadata": {},
     "output_type": "execute_result"
    }
   ],
   "source": [
    "import scala.collection.mutable.ArrayBuffer\n",
    "\n",
    "def lcsBacktrack(v:String, w:String):Matrix = {\n",
    "    val s = ArrayBuffer.fill(v.length+1, w.length+1)(Big(0))\n",
    "    val backtrack = ArrayBuffer.fill(v.length+1, w.length+1)(Big(0))\n",
    "\n",
    "    (1 to v.length).foreach{ i => (1 to w.length).foreach{ j =>\n",
    "        s(i)(j) = List( s(i-1)(j), s(i)(j-1), s(i-1)(j-1) + (if (v(i-1) == w(j-1)) 1 else 0) ).max\n",
    "\n",
    "        if (s(i)(j) == s(i-1)(j)) backtrack(i)(j) = Big(1)\n",
    "        else if (s(i)(j) == s(i)(j-1)) backtrack(i)(j) = Big(-1)\n",
    "        else if (s(i)(j) == s(i-1)(j-1) + 1 && v(i-1) == w(j-1)) backtrack(i)(j) = Big(0)\n",
    "    } }\n",
    "    backtrack.map{ _.toList }.toList\n",
    "}"
   ]
  },
  {
   "cell_type": "markdown",
   "metadata": {},
   "source": [
    "## Longest Common Subsequence"
   ]
  },
  {
   "cell_type": "code",
   "execution_count": 43,
   "metadata": {},
   "outputs": [
    {
     "data": {
      "text/plain": [
       "defined \u001b[32mfunction\u001b[39m \u001b[36mlongestCommonSubsequence\u001b[39m"
      ]
     },
     "execution_count": 43,
     "metadata": {},
     "output_type": "execute_result"
    }
   ],
   "source": [
    "def longestCommonSubsequence(backtrack:Matrix, v:String, i:Int, j:Int, mem:String=\"\"):String = {\n",
    "    if (i == 0 || j == 0) mem.reverse\n",
    "    else {\n",
    "        (backtrack(i)(j).toInt) match {\n",
    "            case 1 => longestCommonSubsequence(backtrack, v, i-1, j, mem)\n",
    "            case -1 => longestCommonSubsequence(backtrack, v, i, j-1, mem)\n",
    "            case _ => longestCommonSubsequence(backtrack, v, i-1, j-1, (mem + v(i-1)))\n",
    "        }\n",
    "    }\n",
    "}"
   ]
  },
  {
   "cell_type": "code",
   "execution_count": 44,
   "metadata": {},
   "outputs": [
    {
     "data": {
      "text/plain": [
       "defined \u001b[32mfunction\u001b[39m \u001b[36mlcs\u001b[39m"
      ]
     },
     "execution_count": 44,
     "metadata": {},
     "output_type": "execute_result"
    }
   ],
   "source": [
    "def lcs(v:String, w:String):String = \n",
    "    longestCommonSubsequence(lcsBacktrack(v, w), v, v.length, w.length)"
   ]
  },
  {
   "cell_type": "markdown",
   "metadata": {
    "collapsed": true
   },
   "source": [
    "## Eulerian Cycles"
   ]
  },
  {
   "cell_type": "code",
   "execution_count": 45,
   "metadata": {},
   "outputs": [
    {
     "data": {
      "text/plain": [
       "defined \u001b[32mfunction\u001b[39m \u001b[36mtoAdjacencyList\u001b[39m"
      ]
     },
     "execution_count": 45,
     "metadata": {},
     "output_type": "execute_result"
    }
   ],
   "source": [
    "def toAdjacencyList(x:String):AdjacencyList = x.\n",
    "    split(\"\\n\").\n",
    "    map{ x => \n",
    "        val r = x.replace(\" \", \"\").split(\"->\")\n",
    "        r.last.split(\",\").map{ x => (r.head, x) }\n",
    "    }.\n",
    "    flatten.\n",
    "    toList.\n",
    "    map{ x => (x._1, x._2.toString) }"
   ]
  },
  {
   "cell_type": "code",
   "execution_count": 46,
   "metadata": {},
   "outputs": [
    {
     "data": {
      "text/plain": [
       "\u001b[32mimport \u001b[39m\u001b[36mscala.annotation.tailrec\n",
       "\u001b[39m\n",
       "defined \u001b[32mfunction\u001b[39m \u001b[36meulerianCycle\u001b[39m"
      ]
     },
     "execution_count": 46,
     "metadata": {},
     "output_type": "execute_result"
    }
   ],
   "source": [
    "import scala.annotation.tailrec\n",
    "@tailrec\n",
    "def eulerianCycle(\n",
    "    graph:AdjacencyList, \n",
    "    cur:String=\"\", \n",
    "    stack:List[String]=List[String](),\n",
    "    circuit:List[String]=List[String]()\n",
    "):List[String] = {\n",
    "\n",
    "    val curr = if (cur.isEmpty) graph.head._1 else cur\n",
    "    val neighbours = graph.filter{ case(a,b) => a == curr }\n",
    "    val hasNeighbours = !neighbours.isEmpty\n",
    "\n",
    "    if (neighbours.length == 0 && stack.isEmpty) circuit\n",
    "    else  {\n",
    "        val circuit2 = if (!hasNeighbours) circuit :+ curr else circuit\n",
    "        val curr2 = if (!hasNeighbours) stack.last else neighbours.head._2\n",
    "        val stack2 = if (!hasNeighbours) stack.dropRight(1) else stack :+ curr\n",
    "        val graph2 = if (!hasNeighbours) graph else graph.filter{ _ != neighbours.head }\n",
    "        eulerianCycle(graph2, curr2, stack2, circuit2)\n",
    "    }\n",
    "}"
   ]
  },
  {
   "cell_type": "markdown",
   "metadata": {},
   "source": [
    "## Make a DAG balanced"
   ]
  },
  {
   "cell_type": "code",
   "execution_count": 47,
   "metadata": {},
   "outputs": [
    {
     "data": {
      "text/plain": [
       "defined \u001b[32mfunction\u001b[39m \u001b[36mmakeBalanced\u001b[39m"
      ]
     },
     "execution_count": 47,
     "metadata": {},
     "output_type": "execute_result"
    }
   ],
   "source": [
    "def makeBalanced(graph:AdjacencyList):(AdjacencyList, (String,String)) = {\n",
    "    val nodes = graph.map{ case(a,b) => List(a, b) }.flatten.distinct\n",
    "    val ins = graph.groupBy{ _._1 }.map{ case(a,b) => (a -> b.length) }.toMap\n",
    "    val outs = graph.groupBy{ _._2 }.map{ case(a,b) => (a -> b.length) }.toMap\n",
    "\n",
    "    if (ins == outs) (graph, (\"\", \"\"))\n",
    "    else {\n",
    "        val insNeeded = nodes.map{ n => List.fill(outs.get(n).getOrElse(0) - ins.get(n).getOrElse(0))(n) }.flatten\n",
    "        val outsNeeded = nodes.map{ n => List.fill(ins.get(n).getOrElse(0) - outs.get(n).getOrElse(0))(n) }.flatten\n",
    "        (graph ++ insNeeded.zip(outsNeeded), insNeeded.zip(outsNeeded).head)\n",
    "    }\n",
    "}"
   ]
  },
  {
   "cell_type": "markdown",
   "metadata": {},
   "source": [
    "## Eulerian Path"
   ]
  },
  {
   "cell_type": "code",
   "execution_count": 48,
   "metadata": {},
   "outputs": [
    {
     "data": {
      "text/plain": [
       "defined \u001b[32mfunction\u001b[39m \u001b[36meulerianPath\u001b[39m"
      ]
     },
     "execution_count": 48,
     "metadata": {},
     "output_type": "execute_result"
    }
   ],
   "source": [
    "def eulerianPath(graph:AdjacencyList):List[String] = {\n",
    "    val (balanced, addedEdge) = makeBalanced(graph)\n",
    "    val cycle = eulerianCycle(balanced).reverse\n",
    "\n",
    "    val post = cycle.takeWhile(_ != addedEdge._1) :+ addedEdge._1\n",
    "    val pre = List(addedEdge._2) ++ cycle.reverse.takeWhile(_ != addedEdge._2).reverse\n",
    "    (pre ++ post)\n",
    "}"
   ]
  },
  {
   "cell_type": "markdown",
   "metadata": {},
   "source": [
    "## String reconstruction"
   ]
  },
  {
   "cell_type": "code",
   "execution_count": 49,
   "metadata": {},
   "outputs": [
    {
     "data": {
      "text/plain": [
       "defined \u001b[32mfunction\u001b[39m \u001b[36mreconstruct\u001b[39m"
      ]
     },
     "execution_count": 49,
     "metadata": {},
     "output_type": "execute_result"
    }
   ],
   "source": [
    "def reconstruct(kmers:List[String]):String = {\n",
    "    val graph = debruijn(kmers).map{ case(a, b) => b.map{ bb => (a, bb) }.toList }.flatten.toList\n",
    "    val path = eulerianPath(graph)\n",
    "    println(path)\n",
    "    fromGenomePath(path)\n",
    "}"
   ]
  },
  {
   "cell_type": "markdown",
   "metadata": {},
   "source": [
    "## Universal string"
   ]
  },
  {
   "cell_type": "code",
   "execution_count": 50,
   "metadata": {
    "scrolled": true
   },
   "outputs": [
    {
     "data": {
      "text/plain": [
       "defined \u001b[32mfunction\u001b[39m \u001b[36mbinaryKmers\u001b[39m"
      ]
     },
     "execution_count": 50,
     "metadata": {},
     "output_type": "execute_result"
    }
   ],
   "source": [
    "def binaryKmers(k:Int):List[String] = \n",
    "    (0 to k).\n",
    "        map{ i => (List.fill(i)(\"0\") ++ List.fill(k-i)(\"1\")).permutations.toList.map{ _.mkString(\"\") } }.flatten.toList"
   ]
  },
  {
   "cell_type": "code",
   "execution_count": 51,
   "metadata": {},
   "outputs": [
    {
     "data": {
      "text/plain": [
       "defined \u001b[32mfunction\u001b[39m \u001b[36muniversalString\u001b[39m"
      ]
     },
     "execution_count": 51,
     "metadata": {},
     "output_type": "execute_result"
    }
   ],
   "source": [
    "def universalString(k:Int) = {\n",
    "    val graph = debruijn(binaryKmers(k)).map{ case(a, b) => b.map{ bb => (a, bb) }.toList }.flatten.toList\n",
    "    val path = eulerianCycle(graph).reverse\n",
    "    path.foldLeft(\"\"){ case(mem, k) => mem + k.last }\n",
    "}"
   ]
  },
  {
   "cell_type": "markdown",
   "metadata": {},
   "source": [
    "## Global alignment"
   ]
  },
  {
   "cell_type": "code",
   "execution_count": 52,
   "metadata": {
    "scrolled": true
   },
   "outputs": [
    {
     "data": {
      "text/plain": [
       "\u001b[36maminoAcids\u001b[39m: \u001b[32mList\u001b[39m[\u001b[32mString\u001b[39m] = \u001b[33mList\u001b[39m(\n",
       "  \u001b[32m\"A\"\u001b[39m,\n",
       "  \u001b[32m\"C\"\u001b[39m,\n",
       "  \u001b[32m\"D\"\u001b[39m,\n",
       "  \u001b[32m\"E\"\u001b[39m,\n",
       "  \u001b[32m\"F\"\u001b[39m,\n",
       "  \u001b[32m\"G\"\u001b[39m,\n",
       "  \u001b[32m\"H\"\u001b[39m,\n",
       "  \u001b[32m\"I\"\u001b[39m,\n",
       "  \u001b[32m\"K\"\u001b[39m,\n",
       "  \u001b[32m\"L\"\u001b[39m,\n",
       "  \u001b[32m\"M\"\u001b[39m,\n",
       "\u001b[33m...\u001b[39m\n",
       "\u001b[36mblosum62\u001b[39m: \u001b[32mMap\u001b[39m[(\u001b[32mString\u001b[39m, \u001b[32mString\u001b[39m), \u001b[32mBigDecimal\u001b[39m] = \u001b[33mMap\u001b[39m(\n",
       "  (\u001b[32m\"A\"\u001b[39m, \u001b[32m\"N\"\u001b[39m) -> -2,\n",
       "  (\u001b[32m\"Q\"\u001b[39m, \u001b[32m\"V\"\u001b[39m) -> -2,\n",
       "  (\u001b[32m\"Y\"\u001b[39m, \u001b[32m\"H\"\u001b[39m) -> 2,\n",
       "  (\u001b[32m\"H\"\u001b[39m, \u001b[32m\"T\"\u001b[39m) -> -2,\n",
       "  (\u001b[32m\"L\"\u001b[39m, \u001b[32m\"V\"\u001b[39m) -> 1,\n",
       "  (\u001b[32m\"N\"\u001b[39m, \u001b[32m\"T\"\u001b[39m) -> 0,\n",
       "  (\u001b[32m\"Q\"\u001b[39m, \u001b[32m\"C\"\u001b[39m) -> -3,\n",
       "  (\u001b[32m\"H\"\u001b[39m, \u001b[32m\"H\"\u001b[39m) -> 8,\n",
       "  (\u001b[32m\"H\"\u001b[39m, \u001b[32m\"A\"\u001b[39m) -> -2,\n",
       "  (\u001b[32m\"N\"\u001b[39m, \u001b[32m\"N\"\u001b[39m) -> 6,\n",
       "  (\u001b[32m\"W\"\u001b[39m, \u001b[32m\"I\"\u001b[39m) -> -3,\n",
       "\u001b[33m...\u001b[39m"
      ]
     },
     "execution_count": 52,
     "metadata": {},
     "output_type": "execute_result"
    }
   ],
   "source": [
    "val aminoAcids = List(\"A\", \"C\", \"D\", \"E\", \"F\", \"G\", \"H\", \"I\", \"K\", \"L\", \"M\", \"N\", \"P\", \"Q\", \"R\", \"S\", \"T\", \"V\", \"W\", \"Y\")\n",
    "val blosum62 = \"\"\" 4  0 -2 -1 -2  0 -2 -1 -1 -1 -1 -2 -1 -1 -1  1  0  0 -3 -2\n",
    " 0  9 -3 -4 -2 -3 -3 -1 -3 -1 -1 -3 -3 -3 -3 -1 -1 -1 -2 -2\n",
    "-2 -3  6  2 -3 -1 -1 -3 -1 -4 -3  1 -1  0 -2  0 -1 -3 -4 -3\n",
    "-1 -4  2  5 -3 -2  0 -3  1 -3 -2  0 -1  2  0  0 -1 -2 -3 -2\n",
    "-2 -2 -3 -3  6 -3 -1  0 -3  0  0 -3 -4 -3 -3 -2 -2 -1  1  3\n",
    " 0 -3 -1 -2 -3  6 -2 -4 -2 -4 -3  0 -2 -2 -2  0 -2 -3 -2 -3\n",
    "-2 -3 -1  0 -1 -2  8 -3 -1 -3 -2  1 -2  0  0 -1 -2 -3 -2  2\n",
    "-1 -1 -3 -3  0 -4 -3  4 -3  2  1 -3 -3 -3 -3 -2 -1  3 -3 -1\n",
    "-1 -3 -1  1 -3 -2 -1 -3  5 -2 -1  0 -1  1  2  0 -1 -2 -3 -2\n",
    "-1 -1 -4 -3  0 -4 -3  2 -2  4  2 -3 -3 -2 -2 -2 -1  1 -2 -1\n",
    "-1 -1 -3 -2  0 -3 -2  1 -1  2  5 -2 -2  0 -1 -1 -1  1 -1 -1\n",
    "-2 -3  1  0 -3  0  1 -3  0 -3 -2  6 -2  0  0  1  0 -3 -4 -2\n",
    "-1 -3 -1 -1 -4 -2 -2 -3 -1 -3 -2 -2  7 -1 -2 -1 -1 -2 -4 -3\n",
    "-1 -3  0  2 -3 -2  0 -3  1 -2  0  0 -1  5  1  0 -1 -2 -2 -1\n",
    "-1 -3 -2  0 -3 -2  0 -3  2 -2 -1  0 -2  1  5 -1 -1 -3 -3 -2\n",
    " 1 -1  0  0 -2  0 -1 -2  0 -2 -1  1 -1  0 -1  4  1 -2 -3 -2\n",
    " 0 -1 -1 -1 -2 -2 -2 -1 -1 -1 -1  0 -1 -1 -1  1  5  0 -2 -2\n",
    " 0 -1 -3 -2 -1 -3 -3  3 -2  1  1 -3 -2 -2 -3 -2  0  4 -3 -1\n",
    "-3 -2 -4 -3  1 -2 -2 -3 -3 -2 -1 -4 -4 -2 -3 -3 -2 -3 11  2\n",
    "-2 -2 -3 -2  3 -3  2 -1 -2 -1 -1 -2 -3 -1 -2 -2 -2 -1  2  7\"\"\".\n",
    "    split(\"\\n\").\n",
    "    map{ _.trim.split(\"\\\\s+\").map{ Big(_) }.toList.zip(aminoAcids) }.toList.zip(aminoAcids).\n",
    "    map{ case(row, aa) => row.map{ case(score, aa2) => ((aa2, aa), score) } }.flatten.toMap"
   ]
  },
  {
   "cell_type": "code",
   "execution_count": 53,
   "metadata": {},
   "outputs": [
    {
     "data": {
      "text/plain": [
       "\u001b[36maminoAcids\u001b[39m: \u001b[32mList\u001b[39m[\u001b[32mString\u001b[39m] = \u001b[33mList\u001b[39m(\n",
       "  \u001b[32m\"A\"\u001b[39m,\n",
       "  \u001b[32m\"C\"\u001b[39m,\n",
       "  \u001b[32m\"D\"\u001b[39m,\n",
       "  \u001b[32m\"E\"\u001b[39m,\n",
       "  \u001b[32m\"F\"\u001b[39m,\n",
       "  \u001b[32m\"G\"\u001b[39m,\n",
       "  \u001b[32m\"H\"\u001b[39m,\n",
       "  \u001b[32m\"I\"\u001b[39m,\n",
       "  \u001b[32m\"K\"\u001b[39m,\n",
       "  \u001b[32m\"L\"\u001b[39m,\n",
       "  \u001b[32m\"M\"\u001b[39m,\n",
       "\u001b[33m...\u001b[39m\n",
       "\u001b[36mpam250\u001b[39m: \u001b[32mMap\u001b[39m[(\u001b[32mString\u001b[39m, \u001b[32mString\u001b[39m), \u001b[32mBigDecimal\u001b[39m] = \u001b[33mMap\u001b[39m(\n",
       "  (\u001b[32m\"A\"\u001b[39m, \u001b[32m\"N\"\u001b[39m) -> 0,\n",
       "  (\u001b[32m\"Q\"\u001b[39m, \u001b[32m\"V\"\u001b[39m) -> -2,\n",
       "  (\u001b[32m\"Y\"\u001b[39m, \u001b[32m\"H\"\u001b[39m) -> 0,\n",
       "  (\u001b[32m\"H\"\u001b[39m, \u001b[32m\"T\"\u001b[39m) -> -1,\n",
       "  (\u001b[32m\"L\"\u001b[39m, \u001b[32m\"V\"\u001b[39m) -> 2,\n",
       "  (\u001b[32m\"N\"\u001b[39m, \u001b[32m\"T\"\u001b[39m) -> 0,\n",
       "  (\u001b[32m\"Q\"\u001b[39m, \u001b[32m\"C\"\u001b[39m) -> -5,\n",
       "  (\u001b[32m\"H\"\u001b[39m, \u001b[32m\"H\"\u001b[39m) -> 6,\n",
       "  (\u001b[32m\"H\"\u001b[39m, \u001b[32m\"A\"\u001b[39m) -> -1,\n",
       "  (\u001b[32m\"N\"\u001b[39m, \u001b[32m\"N\"\u001b[39m) -> 2,\n",
       "  (\u001b[32m\"W\"\u001b[39m, \u001b[32m\"I\"\u001b[39m) -> -5,\n",
       "\u001b[33m...\u001b[39m"
      ]
     },
     "execution_count": 53,
     "metadata": {},
     "output_type": "execute_result"
    }
   ],
   "source": [
    "val aminoAcids = List(\"A\", \"C\", \"D\", \"E\", \"F\", \"G\", \"H\", \"I\", \"K\", \"L\", \"M\", \"N\", \"P\", \"Q\", \"R\", \"S\", \"T\", \"V\", \"W\", \"Y\")\n",
    "val pam250 = \"\"\" 2 -2  0  0 -3  1 -1 -1 -1 -2 -1  0  1  0 -2  1  1  0 -6 -3\n",
    "-2 12 -5 -5 -4 -3 -3 -2 -5 -6 -5 -4 -3 -5 -4  0 -2 -2 -8  0\n",
    " 0 -5  4  3 -6  1  1 -2  0 -4 -3  2 -1  2 -1  0  0 -2 -7 -4\n",
    " 0 -5  3  4 -5  0  1 -2  0 -3 -2  1 -1  2 -1  0  0 -2 -7 -4\n",
    "-3 -4 -6 -5  9 -5 -2  1 -5  2  0 -3 -5 -5 -4 -3 -3 -1  0  7\n",
    " 1 -3  1  0 -5  5 -2 -3 -2 -4 -3  0  0 -1 -3  1  0 -1 -7 -5\n",
    "-1 -3  1  1 -2 -2  6 -2  0 -2 -2  2  0  3  2 -1 -1 -2 -3  0\n",
    "-1 -2 -2 -2  1 -3 -2  5 -2  2  2 -2 -2 -2 -2 -1  0  4 -5 -1\n",
    "-1 -5  0  0 -5 -2  0 -2  5 -3  0  1 -1  1  3  0  0 -2 -3 -4\n",
    "-2 -6 -4 -3  2 -4 -2  2 -3  6  4 -3 -3 -2 -3 -3 -2  2 -2 -1\n",
    "-1 -5 -3 -2  0 -3 -2  2  0  4  6 -2 -2 -1  0 -2 -1  2 -4 -2\n",
    " 0 -4  2  1 -3  0  2 -2  1 -3 -2  2  0  1  0  1  0 -2 -4 -2\n",
    " 1 -3 -1 -1 -5  0  0 -2 -1 -3 -2  0  6  0  0  1  0 -1 -6 -5\n",
    " 0 -5  2  2 -5 -1  3 -2  1 -2 -1  1  0  4  1 -1 -1 -2 -5 -4\n",
    "-2 -4 -1 -1 -4 -3  2 -2  3 -3  0  0  0  1  6  0 -1 -2  2 -4\n",
    " 1  0  0  0 -3  1 -1 -1  0 -3 -2  1  1 -1  0  2  1 -1 -2 -3\n",
    " 1 -2  0  0 -3  0 -1  0  0 -2 -1  0  0 -1 -1  1  3  0 -5 -3\n",
    " 0 -2 -2 -2 -1 -1 -2  4 -2  2  2 -2 -1 -2 -2 -1  0  4 -6 -2\n",
    "-6 -8 -7 -7  0 -7 -3 -5 -3 -2 -4 -4 -6 -5  2 -2 -5 -6 17  0\n",
    "-3  0 -4 -4  7 -5  0 -1 -4 -1 -2 -2 -5 -4 -4 -3 -3 -2  0 10\"\"\".\n",
    "    split(\"\\n\").\n",
    "    map{ _.trim.split(\"\\\\s+\").map{ Big(_) }.toList.zip(aminoAcids) }.toList.zip(aminoAcids).\n",
    "    map{ case(row, aa) => row.map{ case(score, aa2) => ((aa2, aa), score) } }.flatten.toMap"
   ]
  },
  {
   "cell_type": "code",
   "execution_count": 54,
   "metadata": {
    "scrolled": false
   },
   "outputs": [
    {
     "data": {
      "text/plain": [
       "\u001b[32mimport \u001b[39m\u001b[36mscala.collection.mutable.ArrayBuffer\n",
       "\n",
       "\u001b[39m\n",
       "defined \u001b[32mfunction\u001b[39m \u001b[36mlcsScoredBacktrack\u001b[39m"
      ]
     },
     "execution_count": 54,
     "metadata": {},
     "output_type": "execute_result"
    }
   ],
   "source": [
    "import scala.collection.mutable.ArrayBuffer\n",
    "\n",
    "def lcsScoredBacktrack(v:String, w:String, score:Map[(String, String), BigDecimal], indelPenalty:Big):Matrix = {\n",
    "    val s = ArrayBuffer.fill(v.length+1, w.length+1)(Big(0))\n",
    "    (0 to v.length).foreach{ i => s(i)(0) = -1*i*indelPenalty }\n",
    "    (0 to w.length).foreach{ i => s(0)(i) = -1*i*indelPenalty }\n",
    "    val backtrack = ArrayBuffer.fill(v.length+1, w.length+1)(Big(0))\n",
    "\n",
    "    (1 to v.length).foreach{ i => (1 to w.length).foreach{ j =>\n",
    "        s(i)(j) = List(\n",
    "            s(i-1)(j) - indelPenalty,\n",
    "            s(i)(j-1) - indelPenalty,\n",
    "            s(i-1)(j-1) + score((v(i-1).toString, w(j-1).toString))\n",
    "        ).max\n",
    "\n",
    "        if (s(i)(j) + indelPenalty == s(i-1)(j)) backtrack(i)(j) = Big(0)\n",
    "        else if (s(i)(j) + indelPenalty == s(i)(j-1)) backtrack(i)(j) = Big(1)\n",
    "        else backtrack(i)(j) = Big(2)\n",
    "    } }\n",
    "    println(s(v.length)(w.length))\n",
    "\n",
    "    backtrack.map{ _.toList }.toList\n",
    "}"
   ]
  },
  {
   "cell_type": "code",
   "execution_count": 55,
   "metadata": {},
   "outputs": [
    {
     "data": {
      "text/plain": [
       "defined \u001b[32mfunction\u001b[39m \u001b[36mlongestCommonSubsequenceScored\u001b[39m"
      ]
     },
     "execution_count": 55,
     "metadata": {},
     "output_type": "execute_result"
    }
   ],
   "source": [
    "def longestCommonSubsequenceScored(backtrack:Matrix, v:String, w:String, i:Int, j:Int, memV:String=\"\", memW:String=\"\"):(String, String) = {\n",
    "    if (i == 0 && j == 0) { println(i, j); ((\"-\" * i ) +  memV.reverse, (\"-\" * j ) +  memW.reverse) }\n",
    "    else {\n",
    "        (backtrack(i)(j).toInt) match {\n",
    "            case 0 => longestCommonSubsequenceScored(backtrack, v, w, i-1, j, (memV + v(i-1)), memW+\"-\")\n",
    "            case 1 => longestCommonSubsequenceScored(backtrack, v, w, i, j-1, memV+\"-\", (memW + w(j-1)))\n",
    "            case 2 => longestCommonSubsequenceScored(backtrack, v, w, i-1, j-1, (memV + v(i-1)), (memW + w(j-1)) )\n",
    "        }\n",
    "    }\n",
    "}"
   ]
  },
  {
   "cell_type": "code",
   "execution_count": 56,
   "metadata": {},
   "outputs": [
    {
     "data": {
      "text/plain": [
       "defined \u001b[32mfunction\u001b[39m \u001b[36mglobalAlignment\u001b[39m"
      ]
     },
     "execution_count": 56,
     "metadata": {},
     "output_type": "execute_result"
    }
   ],
   "source": [
    "def globalAlignment(v:String, w:String, indel:Int):(String, String) = {\n",
    "    val graph = lcsScoredBacktrack(v, w, blosum62, indel)\n",
    "    longestCommonSubsequenceScored(graph, v, w, v.length, w.length)\n",
    "}"
   ]
  },
  {
   "cell_type": "markdown",
   "metadata": {},
   "source": [
    "## Local Alignment"
   ]
  },
  {
   "cell_type": "code",
   "execution_count": 57,
   "metadata": {},
   "outputs": [
    {
     "data": {
      "text/plain": [
       "\u001b[32mimport \u001b[39m\u001b[36mscala.collection.mutable.ArrayBuffer\n",
       "\n",
       "\u001b[39m\n",
       "defined \u001b[32mfunction\u001b[39m \u001b[36mlcsScoredLocalBacktrack\u001b[39m"
      ]
     },
     "execution_count": 57,
     "metadata": {},
     "output_type": "execute_result"
    }
   ],
   "source": [
    "import scala.collection.mutable.ArrayBuffer\n",
    "\n",
    "def lcsScoredLocalBacktrack(v:String, w:String, score:Map[(String, String), BigDecimal], indelPenalty:Big):(Matrix, (Int, Int)) = {\n",
    "    val s = ArrayBuffer.fill(v.length+1, w.length+1)(Big(0))\n",
    "//     (0 to v.length).foreach{ i => s(i)(0) = -1*i*indelPenalty }\n",
    "//     (0 to w.length).foreach{ i => s(0)(i) = -1*i*indelPenalty }\n",
    "    val backtrack = ArrayBuffer.fill(v.length+1, w.length+1)(Big(0))\n",
    "\n",
    "    (1 to v.length).foreach{ i => (1 to w.length).foreach{ j =>\n",
    "        s(i)(j) = List(\n",
    "            Big(0),\n",
    "            s(i-1)(j) - indelPenalty,\n",
    "            s(i)(j-1) - indelPenalty,\n",
    "            s(i-1)(j-1) + score((v(i-1).toString, w(j-1).toString))\n",
    "        ).max\n",
    "\n",
    "        backtrack(i)(j) = \n",
    "            if (s(i)(j) + indelPenalty == s(i-1)(j)) Big(0)\n",
    "            else if (s(i)(j) + indelPenalty == s(i)(j-1)) Big(1)\n",
    "            else if (s(i)(j) == s(i-1)(j-1) + score((v(i-1).toString, w(j-1).toString))) Big(2)\n",
    "            else Big(3)\n",
    "    } }\n",
    "\n",
    "    val positions = s.map{ _.zipWithIndex }.zipWithIndex.map{ case(r, i) => r.map{ case(d, j) => (d, (i,j)) } }.flatten\n",
    "    val maxScore = s.map{ _.max }.max\n",
    "    println(maxScore)\n",
    "    val startingPositions = positions.filter{ case(x, (i,j)) => x == maxScore }.map{ _._2 }\n",
    "    \n",
    "    println(startingPositions)\n",
    "    (backtrack.map{ _.toList }.toList, startingPositions.head)\n",
    "}"
   ]
  },
  {
   "cell_type": "code",
   "execution_count": 58,
   "metadata": {},
   "outputs": [
    {
     "data": {
      "text/plain": [
       "defined \u001b[32mfunction\u001b[39m \u001b[36mlongestCommonSubsequenceScoredLocal\u001b[39m"
      ]
     },
     "execution_count": 58,
     "metadata": {},
     "output_type": "execute_result"
    }
   ],
   "source": [
    "def longestCommonSubsequenceScoredLocal(backtrack:Matrix, v:String, w:String, i:Int, j:Int, memV:String=\"\", memW:String=\"\"):(String, String) = {\n",
    "    if (i == 0 || j == 0 || backtrack(i)(j) == 3) { println(i, j); ((\"-\" * (i-1) ) +  memV.reverse, (\"-\" * (j-1) ) +  memW.reverse) }\n",
    "    else {\n",
    "        (backtrack(i)(j).toInt) match {\n",
    "            case 0 => longestCommonSubsequenceScoredLocal(backtrack, v, w, i-1, j, (memV + v(i-1)), memW+\"-\")\n",
    "            case 1 => longestCommonSubsequenceScoredLocal(backtrack, v, w, i, j-1, memV+\"-\", (memW + w(j-1)))\n",
    "            case 2 => longestCommonSubsequenceScoredLocal(backtrack, v, w, i-1, j-1, (memV + v(i-1)), (memW + w(j-1)) )\n",
    "        }\n",
    "    }\n",
    "}"
   ]
  },
  {
   "cell_type": "code",
   "execution_count": 59,
   "metadata": {},
   "outputs": [
    {
     "data": {
      "text/plain": [
       "defined \u001b[32mfunction\u001b[39m \u001b[36mlocalAlignment\u001b[39m"
      ]
     },
     "execution_count": 59,
     "metadata": {},
     "output_type": "execute_result"
    }
   ],
   "source": [
    "def localAlignment(v:String, w:String, indel:Int):(String, String) = {\n",
    "    val (graph, pos) = lcsScoredLocalBacktrack(v, w, pam250, indel)\n",
    "//     graph.map{ println }\n",
    "    longestCommonSubsequenceScoredLocal(graph, v, w, pos._1, pos._2)\n",
    "}"
   ]
  },
  {
   "cell_type": "code",
   "execution_count": 60,
   "metadata": {},
   "outputs": [
    {
     "name": "stdout",
     "output_type": "stream",
     "text": [
      "1261\n",
      "ArrayBuffer((874,916))\n",
      "(1,7)\n"
     ]
    },
    {
     "data": {
      "text/plain": [
       "\u001b[36mx\u001b[39m: \u001b[32mString\u001b[39m = \u001b[32m\"MDIEHHANYWPRCMPAQWTGAQYVASPPRSPMSMGKPMTKKKHRLHMGDFILKFMPYSKMVCLYFRTVWSGFDHQEYDMIKTDMGMMDATQRFHNWEWAKEQPQTRDPHLAISIMWTFMVCSDAFAYAKYYGKTSHGSATAVIENKTSVPQSCTFRREMHDQRITDFNYDPKIMKTLVELDIAYYVPQYPNCREIGEVSSMEKQDPLNTNHKKGWDEGGREPPCYEYALTVHCYMFKASNSDKDLKKQCQECRYQEGREIPPNLTIGCWMFRAKNKMNSADCTPCQYKWSFIRDECYNTFDEQSQYAIICVCHDAPHWTWDGPMVKWCEVIHTESMAHDSFCNHLYSADTEQHFTVVDHGVDKNRYDLHVHPVRAAWHRFSTMEFSCVNEYLPVAMDLWGLGNGHMFMCFPSIRWQNDYCVHRLVIGNSVWNWHITAGIIWLKKHVGERPWCTFHTSHIHFMALYFVLDMSCGYCDIWMSDKYPRYHTIRHSAMNACRGLYWWHVIFARGDKHDTMYADSIISNKRTKEEGGCFNYMKFMARRFVDMYTMEREESKTYVYMQSFHWAYPVKQCCQGHKMASWPYQCKGHVEPSCCFQIYAKPPQHFEWMSWFLKITVFFQALILKWGYLDSTNCWRWRHLYVADVTGIWGYPGTPCWCDHNDGGSQSYSDQEKLIHSWDYLCLHVEKCTFVNYALHTCMCMHFGNSQHIVIRQHQGCHYFVAYGFNPMLQMGWDGKPGDTGVYNMISDLMIDDQDIYWLHNPRKAYTHYAEALLTNVTFLTGAGMHVFTARSQYWKWPMSCSPMEMFMNTAPSELEQCMSQNQQDSGDNQKSRSHDACHLEHEGSAHGCAYDTAIHDPRKMPQWYVVYRNCCSLNRPGAMRTCIWTPQWDINHSTYLPSQ\"\u001b[39m\n",
       "\u001b[36my\u001b[39m: \u001b[32mString\u001b[39m = \u001b[32m\"KNKEHHTAMNNIASWQTLYDYMSEVEFSGPPWSQYNFVLEMQKDFKNHKAFFYQMVPIDPYDYAQGCVDISVPKTLNWHASDPIITRAYCCYPGKTGNLHNYQQFWPEMTHWEPQVRECHWACIVAHWYPVWHIDQHILYKVEGAKHMMDCGPPMKIYKRPVPCDVERRASPIPYILYAWNWPKIMPWGNMTYGQKLPERDIYGISIPIANINNRNIQIDPEHRSCKGLVGMDYKWAMQCMTWVLDSNSDKDLKKQCQYCRGLQEIGENDYNNHSMNSADCTPTVFFQNFIRDECYNTDTMKIFYAIICGRFHCNCHDAPHIVRKACNCITWDGPMVITDSFSNHLYDTEQIFTVVDHNHGWPVDKNRIRDLHVHPVRAPQWHRFSQMEFSCVNEYLPNNMFRAMWLWGLGNYHAFMNDWHVGNFPRIRWINDDCVHPDQSTPLVIGNWNWAAIIWLKGNFSRSHIHFVDTINWALYGEGPIVLDCDYRWMSWHKYPRYQTILHGTNYPRNAIPMQNITLSRGMYWWHVIFARGDLHDTMYDIWTMQFSNKRNKEWGGCHNYARRFVDAADCYTSTEREESKTQSFHWAYPVHCENPQNPYCLDECWSQGHKMASWPYQCKGHVEPSCCEWMSWFLKITVFFQALILKWLSWVCLAIYVDSFNCWRWRHLYVNAFAEFVLFKCNYDHIQSACIWMKMDENQQHEYYMVNKCGARSPKQAEEQGCSFTIHCRASRGTFFTCSQKKWFIFNATIEDLMFHATSEKIILSEYIFQRHVDTQHGDAQTERYRVDYCDDHNTRHPHQVRICMQKHHDHCTKHVQLLTTKMACDKTPEVNLDIIRKSESTFINVQKHKSPMEEMNMRAMNGADCRKVRYLTMHDGHCYMDNRFTAPCLLWVTKSPPSGIPWGIVNWLNCYSFMLGWEDISQKP\"\u001b[39m\n",
       "\u001b[36mres59_2\u001b[39m: (\u001b[32mString\u001b[39m, \u001b[32mString\u001b[39m) = (\n",
       "  \u001b[32m\"DIEHHANYWPRCMPAQW-TGAQYVASPPRSPMSMGKPMTKKKHRLHMGDF--ILKFMPYS-KMVCL-Y-F-RTV-WSGFDH---QEYDMIKTDMGMMDATQRFHNW-EWAKE-QPQTRDPHLA-ISIMWTFMV-CSDA-FAYAKYYG-KTSHGSATAVIENKTSVPQSCTF-RREMHDQRITDFNYD-PKIMKTLVELDIAYYVPQYPNCREI-G-EVS-S-MEKQD-PLNTNHKKGWDEGGREPPCYEYALTVHCYMFK-ASNSDKDLKKQCQECRYQEGREIPPNLTIGCWMFRAKNKMNSADCTPCQY-KWSFIRDECYNTFDEQSQ-YAIICV---C--HDAPHWTWDGPM-VKWCEVIHTESMAHDSFCNHLYSADTEQHFTVVDH--G--VDKNRY-DLHVHPVRAA-WHRFSTMEFSCVNEYLPVAM--D--LWGLGNGHMFM----C--FPSIRWQNDYCVH--R---LVIGNSVWNWHITAGIIWLKKHVGERPWCTFHTSHIHFMALYF-V-LDMSCGYCDIWMS-DKYPRYHTI-------RHS-AM-N-A-CRGLYWWHVIFARGDKHDTMYAD-SI-ISNKRTKEEGGCFNY-MKFMARRFVDMYT-MEREESKTYVYMQSFHWAYPV---K-Q---C---C--QGHKMASWPYQCKGHVEPSCCFQIYAKPPQHFEWMSWFLKITVFFQALILKW-G------YLDSTNCWRWRHLYVADVTG-I-W--GY-P-GTPC-WCDHNDGGSQSYSDQEKLIHSWDYLCLHVEKCTF-VNY-ALH-TCM-CMH---FGNSQHIV-IRQHQGCH-YFVA-YGFNPMLQMGWDGKPGDTGVYNMISDLMIDDQDIYWL-HNPRKAY-TH\u001b[33m...\u001b[39m"
      ]
     },
     "execution_count": 60,
     "metadata": {},
     "output_type": "execute_result"
    }
   ],
   "source": [
    "val x = \"MDIEHHANYWPRCMPAQWTGAQYVASPPRSPMSMGKPMTKKKHRLHMGDFILKFMPYSKMVCLYFRTVWSGFDHQEYDMIKTDMGMMDATQRFHNWEWAKEQPQTRDPHLAISIMWTFMVCSDAFAYAKYYGKTSHGSATAVIENKTSVPQSCTFRREMHDQRITDFNYDPKIMKTLVELDIAYYVPQYPNCREIGEVSSMEKQDPLNTNHKKGWDEGGREPPCYEYALTVHCYMFKASNSDKDLKKQCQECRYQEGREIPPNLTIGCWMFRAKNKMNSADCTPCQYKWSFIRDECYNTFDEQSQYAIICVCHDAPHWTWDGPMVKWCEVIHTESMAHDSFCNHLYSADTEQHFTVVDHGVDKNRYDLHVHPVRAAWHRFSTMEFSCVNEYLPVAMDLWGLGNGHMFMCFPSIRWQNDYCVHRLVIGNSVWNWHITAGIIWLKKHVGERPWCTFHTSHIHFMALYFVLDMSCGYCDIWMSDKYPRYHTIRHSAMNACRGLYWWHVIFARGDKHDTMYADSIISNKRTKEEGGCFNYMKFMARRFVDMYTMEREESKTYVYMQSFHWAYPVKQCCQGHKMASWPYQCKGHVEPSCCFQIYAKPPQHFEWMSWFLKITVFFQALILKWGYLDSTNCWRWRHLYVADVTGIWGYPGTPCWCDHNDGGSQSYSDQEKLIHSWDYLCLHVEKCTFVNYALHTCMCMHFGNSQHIVIRQHQGCHYFVAYGFNPMLQMGWDGKPGDTGVYNMISDLMIDDQDIYWLHNPRKAYTHYAEALLTNVTFLTGAGMHVFTARSQYWKWPMSCSPMEMFMNTAPSELEQCMSQNQQDSGDNQKSRSHDACHLEHEGSAHGCAYDTAIHDPRKMPQWYVVYRNCCSLNRPGAMRTCIWTPQWDINHSTYLPSQ\"\n",
    "val y = \"KNKEHHTAMNNIASWQTLYDYMSEVEFSGPPWSQYNFVLEMQKDFKNHKAFFYQMVPIDPYDYAQGCVDISVPKTLNWHASDPIITRAYCCYPGKTGNLHNYQQFWPEMTHWEPQVRECHWACIVAHWYPVWHIDQHILYKVEGAKHMMDCGPPMKIYKRPVPCDVERRASPIPYILYAWNWPKIMPWGNMTYGQKLPERDIYGISIPIANINNRNIQIDPEHRSCKGLVGMDYKWAMQCMTWVLDSNSDKDLKKQCQYCRGLQEIGENDYNNHSMNSADCTPTVFFQNFIRDECYNTDTMKIFYAIICGRFHCNCHDAPHIVRKACNCITWDGPMVITDSFSNHLYDTEQIFTVVDHNHGWPVDKNRIRDLHVHPVRAPQWHRFSQMEFSCVNEYLPNNMFRAMWLWGLGNYHAFMNDWHVGNFPRIRWINDDCVHPDQSTPLVIGNWNWAAIIWLKGNFSRSHIHFVDTINWALYGEGPIVLDCDYRWMSWHKYPRYQTILHGTNYPRNAIPMQNITLSRGMYWWHVIFARGDLHDTMYDIWTMQFSNKRNKEWGGCHNYARRFVDAADCYTSTEREESKTQSFHWAYPVHCENPQNPYCLDECWSQGHKMASWPYQCKGHVEPSCCEWMSWFLKITVFFQALILKWLSWVCLAIYVDSFNCWRWRHLYVNAFAEFVLFKCNYDHIQSACIWMKMDENQQHEYYMVNKCGARSPKQAEEQGCSFTIHCRASRGTFFTCSQKKWFIFNATIEDLMFHATSEKIILSEYIFQRHVDTQHGDAQTERYRVDYCDDHNTRHPHQVRICMQKHHDHCTKHVQLLTTKMACDKTPEVNLDIIRKSESTFINVQKHKSPMEEMNMRAMNGADCRKVRYLTMHDGHCYMDNRFTAPCLLWVTKSPPSGIPWGIVNWLNCYSFMLGWEDISQKP\"\n",
    "localAlignment(x, y, 5)"
   ]
  },
  {
   "cell_type": "code",
   "execution_count": 60,
   "metadata": {},
   "outputs": [
    {
     "name": "stderr",
     "output_type": "stream",
     "text": [
      "cmd60.sc:1: not found: value res66_2\n",
      "val res60_0 = println(res66_2._1)\n",
      "                      ^cmd60.sc:2: not found: value res66_2\n",
      "val res60_1 = println(res66_2._2)\n",
      "                      ^"
     ]
    },
    {
     "ename": "",
     "evalue": "",
     "output_type": "error",
     "traceback": [
      "Compilation Failed"
     ]
    }
   ],
   "source": [
    "println(res66_2._1)\n",
    "println(res66_2._2)"
   ]
  },
  {
   "cell_type": "markdown",
   "metadata": {},
   "source": [
    "## Translation and transcription"
   ]
  },
  {
   "cell_type": "code",
   "execution_count": 61,
   "metadata": {
    "collapsed": true
   },
   "outputs": [],
   "source": [
    "interp.load.ivy(\"org.biojava\" % \"biojava-core\" % \"5.0.0-alpha8\")"
   ]
  },
  {
   "cell_type": "code",
   "execution_count": 62,
   "metadata": {},
   "outputs": [
    {
     "data": {
      "text/plain": [
       "\u001b[32mimport \u001b[39m\u001b[36morg.biojava.nbio.core.sequence.{ DNASequence, RNASequence, ProteinSequence }\u001b[39m"
      ]
     },
     "execution_count": 62,
     "metadata": {},
     "output_type": "execute_result"
    }
   ],
   "source": [
    "import org.biojava.nbio.core.sequence.{ DNASequence, RNASequence, ProteinSequence }"
   ]
  },
  {
   "cell_type": "code",
   "execution_count": 63,
   "metadata": {},
   "outputs": [
    {
     "data": {
      "text/plain": [
       "defined \u001b[32mfunction\u001b[39m \u001b[36mtranslate\u001b[39m"
      ]
     },
     "execution_count": 63,
     "metadata": {},
     "output_type": "execute_result"
    }
   ],
   "source": [
    "def translate(x:String):String = (new RNASequence(x)).getProteinSequence.toString"
   ]
  },
  {
   "cell_type": "code",
   "execution_count": 64,
   "metadata": {},
   "outputs": [
    {
     "data": {
      "text/plain": [
       "defined \u001b[32mfunction\u001b[39m \u001b[36mtranscribe\u001b[39m"
      ]
     },
     "execution_count": 64,
     "metadata": {},
     "output_type": "execute_result"
    }
   ],
   "source": [
    "def transcribe(x:String):String = (new DNASequence(x)).getRNASequence.toString"
   ]
  },
  {
   "cell_type": "markdown",
   "metadata": {},
   "source": [
    "## Peptide encoding"
   ]
  },
  {
   "cell_type": "code",
   "execution_count": 65,
   "metadata": {},
   "outputs": [
    {
     "data": {
      "text/plain": [
       "defined \u001b[32mfunction\u001b[39m \u001b[36mpeptideEncodersN\u001b[39m\n",
       "defined \u001b[32mfunction\u001b[39m \u001b[36mpeptideEncodersRev\u001b[39m\n",
       "defined \u001b[32mfunction\u001b[39m \u001b[36mpeptideEncoders\u001b[39m"
      ]
     },
     "execution_count": 65,
     "metadata": {},
     "output_type": "execute_result"
    }
   ],
   "source": [
    "def peptideEncodersN(dna:String, peptide:String):List[String] = {\n",
    "    val dna1 = dna.drop(1)\n",
    "    val dna2 = dna.drop(2)\n",
    "    List(dna, dna1, dna2).map{ d =>\n",
    "        d.sliding(peptide.length*3).\n",
    "            toList.filter{ x => x.length == (peptide.length*3) && translate(transcribe(x)) == peptide }.\n",
    "            toList\n",
    "    }\n",
    "}.flatten\n",
    "\n",
    "def peptideEncodersRev(d:String, peptide:String):List[String] = {\n",
    "    val dna = reverseCompliments(d)\n",
    "    val dna1 = dna.drop(1)\n",
    "    val dna2 = dna.drop(2)\n",
    "    List(dna, dna1, dna2).map{ d =>\n",
    "        d.sliding(peptide.length*3).\n",
    "            toList.filter{ x => x.length == (peptide.length*3) && translate(transcribe(x)) == peptide }.\n",
    "            toList.map{ reverseCompliments(_) }\n",
    "    }\n",
    "}.flatten\n",
    "\n",
    "def peptideEncoders(dna:String, peptide:String):List[String] =\n",
    "    (peptideEncodersN(dna, peptide) ++ peptideEncodersRev(dna, peptide)).distinct"
   ]
  },
  {
   "cell_type": "markdown",
   "metadata": {},
   "source": [
    "## Cyclopeptides"
   ]
  },
  {
   "cell_type": "code",
   "execution_count": 66,
   "metadata": {},
   "outputs": [
    {
     "data": {
      "text/plain": [
       "\u001b[36mpeptideMass\u001b[39m: \u001b[32mMap\u001b[39m[\u001b[32mString\u001b[39m, \u001b[32mBigDecimal\u001b[39m] = \u001b[33mMap\u001b[39m(\n",
       "  \u001b[32m\"E\"\u001b[39m -> 129,\n",
       "  \u001b[32m\"N\"\u001b[39m -> 114,\n",
       "  \u001b[32m\"T\"\u001b[39m -> 101,\n",
       "  \u001b[32m\"Y\"\u001b[39m -> 163,\n",
       "  \u001b[32m\"F\"\u001b[39m -> 147,\n",
       "  \u001b[32m\"A\"\u001b[39m -> 71,\n",
       "  \u001b[32m\"M\"\u001b[39m -> 131,\n",
       "  \u001b[32m\"I\"\u001b[39m -> 113,\n",
       "  \u001b[32m\"G\"\u001b[39m -> 57,\n",
       "  \u001b[32m\"V\"\u001b[39m -> 99,\n",
       "  \u001b[32m\"Q\"\u001b[39m -> 128,\n",
       "\u001b[33m...\u001b[39m\n",
       "\u001b[36mpeptides\u001b[39m: \u001b[32mList\u001b[39m[\u001b[32mString\u001b[39m] = \u001b[33mList\u001b[39m(\n",
       "  \u001b[32m\"E\"\u001b[39m,\n",
       "  \u001b[32m\"N\"\u001b[39m,\n",
       "  \u001b[32m\"T\"\u001b[39m,\n",
       "  \u001b[32m\"Y\"\u001b[39m,\n",
       "  \u001b[32m\"F\"\u001b[39m,\n",
       "  \u001b[32m\"A\"\u001b[39m,\n",
       "  \u001b[32m\"M\"\u001b[39m,\n",
       "  \u001b[32m\"I\"\u001b[39m,\n",
       "  \u001b[32m\"G\"\u001b[39m,\n",
       "  \u001b[32m\"V\"\u001b[39m,\n",
       "  \u001b[32m\"Q\"\u001b[39m,\n",
       "\u001b[33m...\u001b[39m\n",
       "defined \u001b[32mfunction\u001b[39m \u001b[36mmassOf\u001b[39m"
      ]
     },
     "execution_count": 66,
     "metadata": {},
     "output_type": "execute_result"
    }
   ],
   "source": [
    "val peptideMass = Map(\n",
    "    \"A\" -> Big(71),\n",
    "    \"R\" -> Big(156),\n",
    "    \"N\" -> Big(114),\n",
    "    \"D\" -> Big(115),\n",
    "    \"C\" -> Big(103),\n",
    "    \"E\" -> Big(129),\n",
    "    \"Q\" -> Big(128),\n",
    "    \"G\" -> Big(57),\n",
    "    \"H\" -> Big(137),\n",
    "    \"I\" -> Big(113),\n",
    "    \"L\" -> Big(113),\n",
    "    \"K\" -> Big(128),\n",
    "    \"M\" -> Big(131),\n",
    "    \"F\" -> Big(147),\n",
    "    \"P\" -> Big(97),\n",
    "    \"S\" -> Big(87),\n",
    "    \"T\" -> Big(101),\n",
    "    \"W\" -> Big(186),\n",
    "    \"Y\" -> Big(163),\n",
    "    \"V\" -> Big(99)\n",
    ")\n",
    "val peptides = peptideMass.keys.toList\n",
    "\n",
    "def massOf(x:String):Big = x.map{ c => peptideMass(c.toString) }.sum"
   ]
  },
  {
   "cell_type": "code",
   "execution_count": 67,
   "metadata": {},
   "outputs": [
    {
     "data": {
      "text/plain": [
       "defined \u001b[32mclass\u001b[39m \u001b[36mCyclicSliding\u001b[39m"
      ]
     },
     "execution_count": 67,
     "metadata": {},
     "output_type": "execute_result"
    }
   ],
   "source": [
    "implicit class CyclicSliding[A](x:List[A]) {\n",
    "    def cyclicSliding(a:Int, b:Int=1):Iterator[List[A]] = (x ++ x.take(a-b)).sliding(a, b)\n",
    "}"
   ]
  },
  {
   "cell_type": "code",
   "execution_count": 68,
   "metadata": {},
   "outputs": [
    {
     "data": {
      "text/plain": [
       "\u001b[36mres67\u001b[39m: \u001b[32mList\u001b[39m[\u001b[32mList\u001b[39m[\u001b[32mChar\u001b[39m]] = \u001b[33mList\u001b[39m(\u001b[33mList\u001b[39m(\u001b[32m'N'\u001b[39m), \u001b[33mList\u001b[39m(\u001b[32m'Q'\u001b[39m), \u001b[33mList\u001b[39m(\u001b[32m'E'\u001b[39m), \u001b[33mList\u001b[39m(\u001b[32m'L'\u001b[39m))"
      ]
     },
     "execution_count": 68,
     "metadata": {},
     "output_type": "execute_result"
    }
   ],
   "source": [
    "\"NQEL\".toList.cyclicSliding(1).toList"
   ]
  },
  {
   "cell_type": "code",
   "execution_count": 69,
   "metadata": {},
   "outputs": [
    {
     "data": {
      "text/plain": [
       "defined \u001b[32mfunction\u001b[39m \u001b[36mspectrumOf\u001b[39m"
      ]
     },
     "execution_count": 69,
     "metadata": {},
     "output_type": "execute_result"
    }
   ],
   "source": [
    "def spectrumOf(x:String):List[(String, Big)] = {\n",
    "    (1 to x.length-1).map{ c =>\n",
    "        val y = x.toList.cyclicSliding(c).map{ _.mkString(\"\") }.toList\n",
    "        y.map{ yy => (yy, massOf(yy)) }\n",
    "    }.toList.flatten :+ (x, massOf(x))\n",
    "}.sortBy{ _._2 }"
   ]
  },
  {
   "cell_type": "code",
   "execution_count": 70,
   "metadata": {},
   "outputs": [
    {
     "name": "stderr",
     "output_type": "stream",
     "text": [
      "SLF4J: Failed to load class \"org.slf4j.impl.StaticLoggerBinder\".\n",
      "SLF4J: Defaulting to no-operation (NOP) logger implementation\n",
      "SLF4J: See http://www.slf4j.org/codes.html#StaticLoggerBinder for further details.\n"
     ]
    },
    {
     "data": {
      "text/plain": [
       "\u001b[36mres69\u001b[39m: \u001b[32mString\u001b[39m = \u001b[32m\"PRTEIN\"\u001b[39m"
      ]
     },
     "execution_count": 70,
     "metadata": {},
     "output_type": "execute_result"
    }
   ],
   "source": [
    "translate(\"CCUCGUACAGAAAUCAAC\")"
   ]
  },
  {
   "cell_type": "code",
   "execution_count": 71,
   "metadata": {},
   "outputs": [
    {
     "data": {
      "text/plain": [
       "\u001b[36mres70\u001b[39m: \u001b[32mBoolean\u001b[39m = \u001b[32mfalse\u001b[39m"
      ]
     },
     "execution_count": 71,
     "metadata": {},
     "output_type": "execute_result"
    }
   ],
   "source": [
    "spectrumOf(\"ETC\").map{_._2}.mkString(\" \") == \"71 99 101 103 128 129 199 200 204 227 230 231 298 303 328 330 332 333\""
   ]
  },
  {
   "cell_type": "code",
   "execution_count": 72,
   "metadata": {},
   "outputs": [
    {
     "data": {
      "text/plain": [
       "\u001b[36mres71\u001b[39m: \u001b[32mBigDecimal\u001b[39m = 186"
      ]
     },
     "execution_count": 72,
     "metadata": {},
     "output_type": "execute_result"
    }
   ],
   "source": [
    "massOf(\"W\")"
   ]
  },
  {
   "cell_type": "markdown",
   "metadata": {},
   "source": [
    "## Cyclopeptide scoring"
   ]
  },
  {
   "cell_type": "code",
   "execution_count": 99,
   "metadata": {},
   "outputs": [
    {
     "data": {
      "text/plain": [
       "defined \u001b[32mfunction\u001b[39m \u001b[36mlinearSpectrumOf\u001b[39m"
      ]
     },
     "execution_count": 99,
     "metadata": {},
     "output_type": "execute_result"
    }
   ],
   "source": [
    "def linearSpectrumOf(x:String):List[Big] = {\n",
    "    val prefixMass = ArrayBuffer.fill(x.length+1)(Big(0))\n",
    "    var linearSpectrum = List(Big(0))\n",
    "\n",
    "    x.toList.zipWithIndex.foreach{ case(p, i) =>\n",
    "        val pep = peptides.filter{ _ == p.toString }.head\n",
    "        prefixMass(i+1) = prefixMass(i) + massOf(pep)\n",
    "    }\n",
    "\n",
    "    x.toList.zipWithIndex.foreach{ case(p, i) => ((i) to x.length).map{ j =>\n",
    "        linearSpectrum :+= (prefixMass(j) - prefixMass(i))\n",
    "    } }\n",
    "\n",
    "    Big(0) +: linearSpectrum.sorted.dropWhile{ _ == 0 }\n",
    "}"
   ]
  },
  {
   "cell_type": "code",
   "execution_count": 74,
   "metadata": {},
   "outputs": [
    {
     "data": {
      "text/plain": [
       "defined \u001b[32mfunction\u001b[39m \u001b[36mcyclicSpectrumOf\u001b[39m"
      ]
     },
     "execution_count": 74,
     "metadata": {},
     "output_type": "execute_result"
    }
   ],
   "source": [
    "def cyclicSpectrumOf(x:String):List[Big] = {\n",
    "    val prefixMass = ArrayBuffer.fill(x.length+1)(Big(0))\n",
    "    var cycSpectrum = List(Big(0))\n",
    "    \n",
    "    x.toList.zipWithIndex.foreach{ case(p, i) =>\n",
    "        val pep = peptides.filter{ _ == p.toString }.head\n",
    "        prefixMass(i+1) = prefixMass(i) + massOf(pep)\n",
    "    }\n",
    "\n",
    "    var peptideMass = prefixMass(x.length)\n",
    "    x.toList.zipWithIndex.foreach{ case(p, i) => ((i) to x.length).map{ j =>\n",
    "        cycSpectrum :+= (prefixMass(j) - prefixMass(i))\n",
    "        if (i > 0 && j < x.length)\n",
    "            cycSpectrum :+= (peptideMass - (prefixMass(j) - prefixMass(i)))\n",
    "    } }\n",
    "\n",
    "    List(Big(0)) ++ cycSpectrum.sorted.dropWhile(_ == Big(0))\n",
    "}"
   ]
  },
  {
   "cell_type": "code",
   "execution_count": 107,
   "metadata": {},
   "outputs": [
    {
     "data": {
      "text/plain": [
       "defined \u001b[32mfunction\u001b[39m \u001b[36mcycScore\u001b[39m"
      ]
     },
     "execution_count": 107,
     "metadata": {},
     "output_type": "execute_result"
    }
   ],
   "source": [
    "// def cycScore(pep:String, spectrum:String):Big = {\n",
    "//     Big((spectrumOf(pep).map{ _._2.toString } :+ \"0\").intersect(spectrum.split(\" \")).size)\n",
    "// }\n",
    "\n",
    "def cycScore(pep:String, spectrum:String):Big = {\n",
    "    Big((linearSpectrumOf(pep)).intersect(spectrum.split(\" \").map{ x => Big(x) }).size)\n",
    "}"
   ]
  },
  {
   "cell_type": "markdown",
   "metadata": {},
   "source": [
    "## Cyclopeptide sequencing"
   ]
  },
  {
   "cell_type": "code",
   "execution_count": 117,
   "metadata": {},
   "outputs": [
    {
     "data": {
      "text/plain": [
       "defined \u001b[32mfunction\u001b[39m \u001b[36mbeamCyclopeptideSequencing\u001b[39m"
      ]
     },
     "execution_count": 117,
     "metadata": {},
     "output_type": "execute_result"
    }
   ],
   "source": [
    "def beamCyclopeptideSequencing(spectrum:String, N:Int=10, best:String=\"\", candidates:List[String]=List(\"\")):String = {\n",
    "  val parentMass = Big(spectrum.split(\" \").last.toInt)\n",
    "\n",
    "  if (candidates.isEmpty) best \n",
    "  else {\n",
    "    val expanded = peptides.map{ peptide => \n",
    "      candidates.par.map{ leader =>\n",
    "        (leader+peptide, cycScore(leader+peptide, spectrum))\n",
    "      }.toList\n",
    "    }.flatten\n",
    "      .filter{ case(leader, score) => massOf(leader) <= parentMass }\n",
    "      .sortBy{ -_._2 }\n",
    "    println(expanded.length)\n",
    "\n",
    "    val possible = expanded.filter{ case(leader, score) => massOf(leader) == parentMass }.sortBy{ -_._2 }.headOption.getOrElse( (\"\", Big(0)) )._1\n",
    "    val newCandidateMinScore = expanded.take(N).takeRight(1).map{ _._2 }.sum\n",
    "    val newCandidate = expanded.takeWhile{ case(leader, score) => score >= newCandidateMinScore }.map{ _._1 }\n",
    "\n",
    "    beamCyclopeptideSequencing(spectrum, N, possible, (if (possible.isEmpty) newCandidate else List() ))\n",
    "  }\n",
    "}"
   ]
  },
  {
   "cell_type": "code",
   "execution_count": null,
   "metadata": {
    "collapsed": true
   },
   "outputs": [],
   "source": []
  },
  {
   "cell_type": "code",
   "execution_count": null,
   "metadata": {
    "collapsed": true
   },
   "outputs": [],
   "source": []
  },
  {
   "cell_type": "code",
   "execution_count": null,
   "metadata": {
    "collapsed": true
   },
   "outputs": [],
   "source": []
  },
  {
   "cell_type": "code",
   "execution_count": null,
   "metadata": {
    "collapsed": true
   },
   "outputs": [],
   "source": []
  },
  {
   "cell_type": "code",
   "execution_count": null,
   "metadata": {
    "collapsed": true
   },
   "outputs": [],
   "source": []
  },
  {
   "cell_type": "code",
   "execution_count": null,
   "metadata": {
    "collapsed": true
   },
   "outputs": [],
   "source": []
  },
  {
   "cell_type": "code",
   "execution_count": null,
   "metadata": {
    "collapsed": true
   },
   "outputs": [],
   "source": []
  },
  {
   "cell_type": "code",
   "execution_count": null,
   "metadata": {
    "collapsed": true
   },
   "outputs": [],
   "source": []
  },
  {
   "cell_type": "code",
   "execution_count": null,
   "metadata": {
    "collapsed": true
   },
   "outputs": [],
   "source": []
  },
  {
   "cell_type": "code",
   "execution_count": null,
   "metadata": {
    "collapsed": true
   },
   "outputs": [],
   "source": []
  }
 ],
 "metadata": {
  "kernelspec": {
   "display_name": "Scala (develop)",
   "language": "scala",
   "name": "scala-develop"
  },
  "language_info": {
   "codemirror_mode": "text/x-scala",
   "file_extension": ".scala",
   "mimetype": "text/x-scala",
   "name": "scala211",
   "nbconvert_exporter": "script",
   "pygments_lexer": "scala",
   "version": "2.11.8"
  }
 },
 "nbformat": 4,
 "nbformat_minor": 2
}
