{
 "cells": [
  {
   "cell_type": "markdown",
   "metadata": {},
   "source": [
    "# Search-assist"
   ]
  },
  {
   "cell_type": "markdown",
   "metadata": {},
   "source": [
    "**Telperion** is a bunch of idependent services, some of which combine into **search-assist**.\n",
    "These services being\n",
    "- Search service\n",
    "- Reverse neural transliteration service (**laurelin**)\n",
    "- Language model service (**lm**)"
   ]
  },
  {
   "cell_type": "code",
   "execution_count": 1,
   "metadata": {
    "collapsed": true
   },
   "outputs": [],
   "source": [
    "# Ignore this code\n",
    "import json\n",
    "def render(j): print(json.dumps(j, indent=2, ensure_ascii=False))"
   ]
  },
  {
   "cell_type": "markdown",
   "metadata": {},
   "source": [
    "## Reverse neural transliteration service\n",
    "\n",
    "- Transliterates from Indian languages to English\n",
    "- Indian languages supported: Hindi, Marathi, Bengali, Assamese, Kannada, Tamil, Punjabi\n",
    "- Not domain sensitive\n",
    "- Tries to give phonetically correct output\n",
    "- Is a bare / backbone service, unusable on its own without autocorrect\n",
    "- Requires special hardware to run and train, porting it to CPU / mobile is TBD\n",
    "\n",
    "Use cases:\n",
    "- Can pair up with autocorrect and language models to build reverse-transliteration product for cases where customers just want their search queries in english without any entity recognition.\n",
    "\n",
    "Exmaple:"
   ]
  },
  {
   "cell_type": "code",
   "execution_count": 2,
   "metadata": {
    "collapsed": false
   },
   "outputs": [
    {
     "name": "stdout",
     "output_type": "stream",
     "text": [
      "[\n",
      "  {\n",
      "    \"transliteration\": \"samsang frant load washing masheen with lots of super povers \",\n",
      "    \"candidates\": [\n",
      "      {\n",
      "        \"word\": \"samsang frant load washing masheen with lates of super povers \",\n",
      "        \"score\": -24.608490943909\n",
      "      },\n",
      "      {\n",
      "        \"word\": \"saimsan frnt load washing machine with lots au suppe powers \",\n",
      "        \"score\": -27.435626983643\n",
      "      },\n",
      "      {\n",
      "        \"word\": \"samsung frant lode washing masheen vith lates of super pavers \",\n",
      "        \"score\": -29.822515487671\n",
      "      },\n",
      "      {\n",
      "        \"word\": \"saimsun frant load washing mashina with lats of supar parver \",\n",
      "        \"score\": -31.818751335144\n",
      "      },\n",
      "      {\n",
      "        \"word\": \"seamsan frant load washing mashin vith lits of super powers \",\n",
      "        \"score\": -33.710003852844\n",
      "      }\n",
      "    ],\n",
      "    \"input\": \"सैमसंग फ्रंट लोड वाशिंग मशीन विथ लॉट्स ऑफ़ सुपर पावर्स \"\n",
      "  }\n",
      "]\n"
     ]
    }
   ],
   "source": [
    "import requests\n",
    "\n",
    "URL = \"http://54.161.88.198/transliterate\"\n",
    "\n",
    "ret = requests.post(URL, data=json.dumps(\n",
    "{\n",
    "    # You can change this input here\n",
    "    \"sentences\":[\"सैमसंग फ्रंट लोड वाशिंग मशीन विथ लॉट्स ऑफ़ सुपर पावर्स \"],\n",
    "    # Get top 3 candidates\n",
    "    \"candidates\":\"5\",\n",
    "    # Supported: hi (hindi), bn (bengali), ta (tamil), kn (kannada)\n",
    "    # mr (marathi), as (assamese), pa (punjabi)\n",
    "    \"language\":\"hi\"\n",
    "}\n",
    "))\n",
    "ret = json.loads(ret.text)\n",
    "ign = render(ret)"
   ]
  },
  {
   "cell_type": "code",
   "execution_count": 7,
   "metadata": {
    "collapsed": false
   },
   "outputs": [
    {
     "name": "stdout",
     "output_type": "stream",
     "text": [
      "Best transliteration candidate:\n",
      " samsung front load washing machine with lots off super powers\n"
     ]
    }
   ],
   "source": [
    "# Transliteration with autocorrect and beam over domain-specific language model:\n",
    "\n",
    "URL = \"http://54.210.69.46:5397/search\"\n",
    "\n",
    "ret = requests.post(URL, data=json.dumps(\n",
    "{\n",
    "  \"text\": [\"सैमसंग फ्रंट लोड वाशिंग मशीन विथ लॉट्स ऑफ़ सुपर पावर्स \"],\n",
    "  \"domains\": [\"retail\"],\n",
    "  \"search_fields\": [\"entity\"],\n",
    "  \"ret_fields\": [\"entity\", \"entity_type\", \"category\", \"sub_category\", \"product_type\"],\n",
    "  \"pivot_fields\": [\"category\", \"sub_category\", \"product_type\"],\n",
    "  \"accuracy\": [90],\n",
    "  \"nr_categories\": [1],\n",
    "  \"best_of\": [1]\n",
    "}\n",
    "))\n",
    "ret = json.loads(ret.text)\n",
    "print(\"Best transliteration candidate:\")\n",
    "ign = [ print(x) for x in ret['candidate_queries']]"
   ]
  },
  {
   "cell_type": "markdown",
   "metadata": {},
   "source": [
    " "
   ]
  },
  {
   "cell_type": "markdown",
   "metadata": {},
   "source": [
    "## Language Model service\n",
    "\n",
    "- Gives log probability of sentences (which sentence out of a list of sentences is more correct?)\n",
    "- Beam searches for the perfect sentence given a list of words\n",
    "\n",
    "Use cases:\n",
    "- Determing the correct-ness of sentences after operations\n",
    "- Choosing among alternatives (e.g choosing the best autocorrect candidates out of a bunch of possible candidates)\n",
    "- Can be used for grammar correction\n",
    "\n",
    "Examples:"
   ]
  },
  {
   "cell_type": "code",
   "execution_count": null,
   "metadata": {
    "collapsed": false
   },
   "outputs": [],
   "source": [
    "# Probability of sentences\n",
    "URL = \"http://54.210.69.46:8080/log_prob\"\n",
    "\n",
    "ret = requests.post(URL, data=json.dumps(\n",
    "{\n",
    "  # which sentence is \"better\"?\n",
    "  \"sentences\": [\"dog eats food\", \"food eats dog\"],\n",
    "  \"domains\": [\"generic\"]\n",
    "}\n",
    "))\n",
    "ret = json.loads(ret.text)\n",
    "render(ret)"
   ]
  },
  {
   "cell_type": "code",
   "execution_count": null,
   "metadata": {
    "collapsed": false
   },
   "outputs": [],
   "source": [
    "# Best possible sentences (create the best possible sentence given a bunch of candidates for each word)\n",
    "# For example, over here \"machine\" and \"gizmo\" are synonyms, however,\n",
    "# \"samsung washing machine\" is better than \"samsung washing gizmo\"\n",
    "\n",
    "URL = \"http://54.210.69.46:8080/beam_search\"\n",
    "\n",
    "ret = requests.post(URL, data=json.dumps(\n",
    "{\n",
    "  \"length\": [\"1\"],\n",
    "  \"tokens\": [\"1\", \"2\", \"3\", \"4\"],\n",
    "  \"beamSize\": [\"10\"],\n",
    "  \"1\": [\"i\", \"it\", \"he\"],\n",
    "  \"2\": [\"must\", \"might\", \"was\", \"am\", \"is\", \"probably might\", \"probably\", \"probably must\"],\n",
    "  \"3\": [\"be\", \"have been\", \"\", \"have\", \"will\", \"will be\", \"will have been\"],\n",
    "  \"4\": [\"mistaken\", \"a mistake\", \"commited mistake\", \"commited a mistake\"]\n",
    "}\n",
    "))\n",
    "ret = json.loads(ret.text)\n",
    "render(ret)"
   ]
  },
  {
   "cell_type": "markdown",
   "metadata": {},
   "source": [
    "## Search service\n",
    "\n",
    "- Transliterates search queries with the help of lm and transliterarion\n",
    "- Identifies taxonomies (e.g. electronics -> mobile phones) where the search queries might belong to (based on query coverage)\n",
    "- Identifies terms in the search query which belong to each relevant taxonomy (entity recognition followed by disambiguation)\n",
    "- Identifies the possible type of each term (e.g. `samsung -> brand`, `front load washing machine -> category`)\n",
    "- Supports contextual searching (e.g. search in the context of `sports`)\n",
    "- Support for vertical search engines (supporting multiple verticals / taxonomies)\n",
    "\n",
    "Use cases:\n",
    "- Enables free-text searching\n",
    "- Autocorrect user search queries in English\n",
    "- Transliterate domain-specific search queries\n",
    "- Support bot-based / chat-based search\n",
    "- Address long tail of search queries\n",
    "\n",
    "Can be built:\n",
    "- Query recommendation / \"Did you mean\" functionality\n",
    "- Auto-complete\n",
    "- Customer data indexing (for customers who want a completely managed search)\n",
    "- Document tagging\n",
    "\n",
    "Examples:"
   ]
  },
  {
   "cell_type": "code",
   "execution_count": null,
   "metadata": {
    "collapsed": false
   },
   "outputs": [],
   "source": [
    "URL = \"http://54.210.69.46:5397/search\"\n",
    "\n",
    "ret = requests.post(URL, data=json.dumps(\n",
    "{\n",
    "  \"text\": [\"सैमसंग फ्रंट लोड वाशिंग मशीन विथ लॉट्स ऑफ़ सुपर पावर्स \"],\n",
    "  # domain to search in\n",
    "  \"domains\": [\"retail\"],\n",
    "  # domain-specific values, specific to each index, configurable internally, hidden from users \n",
    "  \"search_fields\": [\"entity\"],\n",
    "  \"ret_fields\": [\"entity\", \"entity_type\", \"category\", \"sub_category\", \"product_type\"],\n",
    "  # this is the taxnomy: category -> sub_category -> product_type\n",
    "  \"pivot_fields\": [\"category\", \"sub_category\", \"product_type\"],\n",
    "  # other API parameters for fine tuning\n",
    "  \"accuracy\": [95],\n",
    "  \"nr_categories\": [3],\n",
    "  \"best_of\": [1]\n",
    "}\n",
    "))\n",
    "ret = json.loads(ret.text)\n",
    "render(ret)"
   ]
  },
  {
   "cell_type": "code",
   "execution_count": null,
   "metadata": {
    "collapsed": false
   },
   "outputs": [],
   "source": [
    "# Search for the same thing in the context of sports\n",
    "\n",
    "URL = \"http://54.210.69.46:5397/search\"\n",
    "\n",
    "ret = requests.post(URL, data=json.dumps(\n",
    "{\n",
    "  \"text\": [\"सैमसंग फ्रंट लोड वाशिंग मशीन विथ लॉट्स ऑफ़ सुपर पावर्स \"],\n",
    "  \"domains\": [\"retail\"],\n",
    "  \"search_fields\": [\"entity\"],\n",
    "  \"ret_fields\": [\"entity\", \"entity_type\", \"category\", \"sub_category\", \"product_type\"],\n",
    "  \"pivot_fields\": [\"category\", \"sub_category\", \"product_type\"],\n",
    "  \"accuracy\": [90],\n",
    "  \"contexts\": [\"sports\"],\n",
    "  \"nr_categories\": [10],\n",
    "  \"best_of\": [1]\n",
    "}\n",
    "))\n",
    "ret = json.loads(ret.text)\n",
    "render(ret)"
   ]
  },
  {
   "cell_type": "code",
   "execution_count": null,
   "metadata": {
    "collapsed": true
   },
   "outputs": [],
   "source": []
  },
  {
   "cell_type": "code",
   "execution_count": null,
   "metadata": {
    "collapsed": true
   },
   "outputs": [],
   "source": []
  }
 ],
 "metadata": {
  "kernelspec": {
   "display_name": "Python 3",
   "language": "python",
   "name": "python3"
  },
  "language_info": {
   "codemirror_mode": {
    "name": "ipython",
    "version": 3
   },
   "file_extension": ".py",
   "mimetype": "text/x-python",
   "name": "python",
   "nbconvert_exporter": "python",
   "pygments_lexer": "ipython3",
   "version": "3.5.2"
  }
 },
 "nbformat": 4,
 "nbformat_minor": 2
}
